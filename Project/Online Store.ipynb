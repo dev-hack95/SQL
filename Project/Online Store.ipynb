{
 "cells": [
  {
   "cell_type": "code",
   "execution_count": 1,
   "id": "593eaa23",
   "metadata": {},
   "outputs": [],
   "source": [
    "import warnings\n",
    "import numpy as np\n",
    "import pandas as pd\n",
    "import matplotlib.pyplot as plt\n",
    "from sqlalchemy import text\n",
    "from sqlalchemy.orm import sessionmaker\n",
    "from sqlalchemy.engine import create_engine\n",
    "\n",
    "# Config\n",
    "warnings.filterwarnings(\"ignore\")\n",
    "pd.set_option(\"display.max_columns\", None)"
   ]
  },
  {
   "cell_type": "code",
   "execution_count": 2,
   "id": "7101d3ea",
   "metadata": {},
   "outputs": [],
   "source": [
    "class DataBaseSession:\n",
    "    def __init__(self) -> None:\n",
    "        self.db_user = 'root'\n",
    "        self.db_password = 'rushi12345'\n",
    "        self.db_host = '192.168.43.192'\n",
    "        self.db_name = 'online_store'\n",
    "    \n",
    "    def LocalSession(self):\n",
    "        engine = create_engine(f\"mysql+pymysql://{self.db_user}:{self.db_password}@{self.db_host}/{self.db_name}\")\n",
    "        SessionLocal = sessionmaker(autoflush=True, bind=engine)\n",
    "        return SessionLocal()"
   ]
  },
  {
   "cell_type": "code",
   "execution_count": 3,
   "id": "c10ae263",
   "metadata": {},
   "outputs": [],
   "source": [
    "session = DataBaseSession()\n",
    "db = session.LocalSession()"
   ]
  },
  {
   "cell_type": "code",
   "execution_count": 4,
   "id": "759844c8",
   "metadata": {},
   "outputs": [],
   "source": [
    "class OnlineStore:\n",
    "    def __init__(self) -> None:\n",
    "        pass\n",
    "    \n",
    "    def query(self, query: str) -> pd.DataFrame:\n",
    "        return pd.DataFrame(db.execute(text(query)).fetchall())"
   ]
  },
  {
   "cell_type": "code",
   "execution_count": 5,
   "id": "ce6ada69",
   "metadata": {},
   "outputs": [],
   "source": [
    "data = OnlineStore()"
   ]
  },
  {
   "cell_type": "markdown",
   "id": "bf618095",
   "metadata": {},
   "source": [
    "![online_store](../assets/online-store-data-modeling.PNG)"
   ]
  },
  {
   "cell_type": "raw",
   "id": "ff2c1b7d",
   "metadata": {},
   "source": [
    "db.execute(text(\"\"\"\n",
    "create table customer_table(\n",
    "customer_id int unique NOT NULL,\n",
    "customer_name varchar(255),\n",
    "customer_email varchar(255),\n",
    "customer_phone varchar(255),\n",
    "primary key(customer_id));\n",
    "\"\"\"))"
   ]
  },
  {
   "cell_type": "code",
   "execution_count": null,
   "id": "d20dd2e6",
   "metadata": {},
   "outputs": [],
   "source": [
    "db.execute(text(\"\"\"\n",
    "create table supplier_table(\n",
    "supplier_id int unique NOT NULL,\n",
    "supplier_name varchar(255),\n",
    "supplier_address varchar(255),\n",
    "primary key(supplier_id));\n",
    "\"\"\"))"
   ]
  },
  {
   "cell_type": "code",
   "execution_count": 13,
   "id": "075eb23f",
   "metadata": {},
   "outputs": [
    {
     "data": {
      "text/plain": [
       "<sqlalchemy.engine.cursor.CursorResult at 0x1789b7f1360>"
      ]
     },
     "execution_count": 13,
     "metadata": {},
     "output_type": "execute_result"
    }
   ],
   "source": [
    "db.execute(text(\"\"\"\n",
    "create table product_table(\n",
    "product_id int unique NOT NULL,\n",
    "product_name varchar(255),\n",
    "producr_price decimal(20, 6),\n",
    "product_description varchar(2000),\n",
    "supplier_id int NOT NULL,\n",
    "supplier_name varchar(255),\n",
    "primary key(product_id),\n",
    "foreign key(supplier_id) references supplier_table(supplier_id));\n",
    "\"\"\"))"
   ]
  },
  {
   "cell_type": "code",
   "execution_count": 9,
   "id": "267dcef5",
   "metadata": {},
   "outputs": [
    {
     "data": {
      "text/plain": [
       "<sqlalchemy.engine.cursor.CursorResult at 0x19e6af18fa0>"
      ]
     },
     "execution_count": 9,
     "metadata": {},
     "output_type": "execute_result"
    }
   ],
   "source": [
    "db.execute(text(\"\"\"\n",
    "create table order_table(\n",
    "order_id int NOT NULL,\n",
    "customer_id int NOT NULL,\n",
    "order_date varchar(255),\n",
    "total_amount varchar(255),\n",
    "product_id int,\n",
    "primary key(order_id),\n",
    "foreign key(customer_id) references customer_table(customer_id),\n",
    "foreign key(product_id) references product_table(product_id));\n",
    "\"\"\"))"
   ]
  },
  {
   "cell_type": "code",
   "execution_count": 11,
   "id": "a2f0157f",
   "metadata": {},
   "outputs": [
    {
     "data": {
      "text/plain": [
       "<sqlalchemy.engine.cursor.CursorResult at 0x19e564daf80>"
      ]
     },
     "execution_count": 11,
     "metadata": {},
     "output_type": "execute_result"
    }
   ],
   "source": [
    "db.execute(text(\"\"\"\n",
    "create table warhouse_table(\n",
    "warehouse_id int NOT NULL,\n",
    "warehouse_address varchar(2000),\n",
    "warehouse_contact varchar(255));\n",
    "\"\"\"))"
   ]
  },
  {
   "cell_type": "code",
   "execution_count": 13,
   "id": "2b456af1",
   "metadata": {},
   "outputs": [
    {
     "data": {
      "text/html": [
       "<div>\n",
       "<style scoped>\n",
       "    .dataframe tbody tr th:only-of-type {\n",
       "        vertical-align: middle;\n",
       "    }\n",
       "\n",
       "    .dataframe tbody tr th {\n",
       "        vertical-align: top;\n",
       "    }\n",
       "\n",
       "    .dataframe thead th {\n",
       "        text-align: right;\n",
       "    }\n",
       "</style>\n",
       "<table border=\"1\" class=\"dataframe\">\n",
       "  <thead>\n",
       "    <tr style=\"text-align: right;\">\n",
       "      <th></th>\n",
       "      <th>Tables_in_online_store</th>\n",
       "    </tr>\n",
       "  </thead>\n",
       "  <tbody>\n",
       "    <tr>\n",
       "      <th>0</th>\n",
       "      <td>customer_table</td>\n",
       "    </tr>\n",
       "    <tr>\n",
       "      <th>1</th>\n",
       "      <td>order_table</td>\n",
       "    </tr>\n",
       "    <tr>\n",
       "      <th>2</th>\n",
       "      <td>product_table</td>\n",
       "    </tr>\n",
       "    <tr>\n",
       "      <th>3</th>\n",
       "      <td>supplier_table</td>\n",
       "    </tr>\n",
       "    <tr>\n",
       "      <th>4</th>\n",
       "      <td>warhouse_table</td>\n",
       "    </tr>\n",
       "  </tbody>\n",
       "</table>\n",
       "</div>"
      ],
      "text/plain": [
       "  Tables_in_online_store\n",
       "0         customer_table\n",
       "1            order_table\n",
       "2          product_table\n",
       "3         supplier_table\n",
       "4         warhouse_table"
      ]
     },
     "execution_count": 13,
     "metadata": {},
     "output_type": "execute_result"
    }
   ],
   "source": [
    "data.query(\"show tables;\")"
   ]
  },
  {
   "cell_type": "code",
   "execution_count": 15,
   "id": "82fe6532",
   "metadata": {},
   "outputs": [
    {
     "data": {
      "text/plain": [
       "<sqlalchemy.engine.cursor.CursorResult at 0x19e6e284340>"
      ]
     },
     "execution_count": 15,
     "metadata": {},
     "output_type": "execute_result"
    }
   ],
   "source": [
    "db.execute(text(\"\"\"\n",
    "commit;\n",
    "\"\"\"))"
   ]
  },
  {
   "cell_type": "markdown",
   "id": "21f009b8",
   "metadata": {},
   "source": [
    "* Output\n",
    "![output data modeling](../assets/online-store-data-modeling-output.PNG)"
   ]
  },
  {
   "cell_type": "code",
   "execution_count": null,
   "id": "da7236f3",
   "metadata": {},
   "outputs": [],
   "source": []
  }
 ],
 "metadata": {
  "kernelspec": {
   "display_name": "Python 3 (ipykernel)",
   "language": "python",
   "name": "python3"
  },
  "language_info": {
   "codemirror_mode": {
    "name": "ipython",
    "version": 3
   },
   "file_extension": ".py",
   "mimetype": "text/x-python",
   "name": "python",
   "nbconvert_exporter": "python",
   "pygments_lexer": "ipython3",
   "version": "3.10.13"
  }
 },
 "nbformat": 4,
 "nbformat_minor": 5
}
