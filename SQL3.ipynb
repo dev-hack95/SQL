{
 "cells": [
  {
   "cell_type": "code",
   "execution_count": 1,
   "id": "46db8fe9",
   "metadata": {},
   "outputs": [],
   "source": [
    "from sqlalchemy.engine import create_engine\n",
    "from sqlalchemy.orm import sessionmaker\n",
    "from sqlalchemy import text "
   ]
  },
  {
   "cell_type": "code",
   "execution_count": 2,
   "id": "3bbe4d71",
   "metadata": {},
   "outputs": [],
   "source": [
    "db_user = 'root'\n",
    "db_password = 'rushi12345'\n",
    "db_host = '192.168.29.7'\n",
    "db_name = 'data_prac_db' \n",
    "\n",
    "engine = create_engine(f\"mysql+pymysql://{db_user}:{db_password}@{db_host}/{db_name}\")\n",
    "SessionLocal = sessionmaker(autoflush=True, bind=engine)"
   ]
  },
  {
   "cell_type": "code",
   "execution_count": 3,
   "id": "26257c3a",
   "metadata": {},
   "outputs": [],
   "source": [
    "db = SessionLocal()"
   ]
  },
  {
   "cell_type": "code",
   "execution_count": 5,
   "id": "068c170f",
   "metadata": {},
   "outputs": [],
   "source": [
    "import pandas as pd"
   ]
  },
  {
   "cell_type": "code",
   "execution_count": 11,
   "id": "d586d44e",
   "metadata": {},
   "outputs": [],
   "source": [
    "df = pd.read_csv(\"Datasets/Dresses_Attribute_Sales/AttributeDataSet.csv\")"
   ]
  },
  {
   "cell_type": "code",
   "execution_count": 12,
   "id": "a0ce1ff7",
   "metadata": {},
   "outputs": [
    {
     "data": {
      "text/html": [
       "<div>\n",
       "<style scoped>\n",
       "    .dataframe tbody tr th:only-of-type {\n",
       "        vertical-align: middle;\n",
       "    }\n",
       "\n",
       "    .dataframe tbody tr th {\n",
       "        vertical-align: top;\n",
       "    }\n",
       "\n",
       "    .dataframe thead th {\n",
       "        text-align: right;\n",
       "    }\n",
       "</style>\n",
       "<table border=\"1\" class=\"dataframe\">\n",
       "  <thead>\n",
       "    <tr style=\"text-align: right;\">\n",
       "      <th></th>\n",
       "      <th>Dress_ID</th>\n",
       "      <th>Style</th>\n",
       "      <th>Price</th>\n",
       "      <th>Rating</th>\n",
       "      <th>Size</th>\n",
       "      <th>Season</th>\n",
       "      <th>NeckLine</th>\n",
       "      <th>SleeveLength</th>\n",
       "      <th>waiseline</th>\n",
       "      <th>Material</th>\n",
       "      <th>FabricType</th>\n",
       "      <th>Decoration</th>\n",
       "      <th>Pattern Type</th>\n",
       "      <th>Recommendation</th>\n",
       "    </tr>\n",
       "  </thead>\n",
       "  <tbody>\n",
       "    <tr>\n",
       "      <th>0</th>\n",
       "      <td>1006032852</td>\n",
       "      <td>Sexy</td>\n",
       "      <td>Low</td>\n",
       "      <td>4.6</td>\n",
       "      <td>M</td>\n",
       "      <td>Summer</td>\n",
       "      <td>o-neck</td>\n",
       "      <td>sleevless</td>\n",
       "      <td>empire</td>\n",
       "      <td>NaN</td>\n",
       "      <td>chiffon</td>\n",
       "      <td>ruffles</td>\n",
       "      <td>animal</td>\n",
       "      <td>1</td>\n",
       "    </tr>\n",
       "    <tr>\n",
       "      <th>1</th>\n",
       "      <td>1212192089</td>\n",
       "      <td>Casual</td>\n",
       "      <td>Low</td>\n",
       "      <td>0.0</td>\n",
       "      <td>L</td>\n",
       "      <td>Summer</td>\n",
       "      <td>o-neck</td>\n",
       "      <td>Petal</td>\n",
       "      <td>natural</td>\n",
       "      <td>microfiber</td>\n",
       "      <td>NaN</td>\n",
       "      <td>ruffles</td>\n",
       "      <td>animal</td>\n",
       "      <td>0</td>\n",
       "    </tr>\n",
       "    <tr>\n",
       "      <th>2</th>\n",
       "      <td>1190380701</td>\n",
       "      <td>vintage</td>\n",
       "      <td>High</td>\n",
       "      <td>0.0</td>\n",
       "      <td>L</td>\n",
       "      <td>Automn</td>\n",
       "      <td>o-neck</td>\n",
       "      <td>full</td>\n",
       "      <td>natural</td>\n",
       "      <td>polyster</td>\n",
       "      <td>NaN</td>\n",
       "      <td>NaN</td>\n",
       "      <td>print</td>\n",
       "      <td>0</td>\n",
       "    </tr>\n",
       "    <tr>\n",
       "      <th>3</th>\n",
       "      <td>966005983</td>\n",
       "      <td>Brief</td>\n",
       "      <td>Average</td>\n",
       "      <td>4.6</td>\n",
       "      <td>L</td>\n",
       "      <td>Spring</td>\n",
       "      <td>o-neck</td>\n",
       "      <td>full</td>\n",
       "      <td>natural</td>\n",
       "      <td>silk</td>\n",
       "      <td>chiffon</td>\n",
       "      <td>embroidary</td>\n",
       "      <td>print</td>\n",
       "      <td>1</td>\n",
       "    </tr>\n",
       "    <tr>\n",
       "      <th>4</th>\n",
       "      <td>876339541</td>\n",
       "      <td>cute</td>\n",
       "      <td>Low</td>\n",
       "      <td>4.5</td>\n",
       "      <td>M</td>\n",
       "      <td>Summer</td>\n",
       "      <td>o-neck</td>\n",
       "      <td>butterfly</td>\n",
       "      <td>natural</td>\n",
       "      <td>chiffonfabric</td>\n",
       "      <td>chiffon</td>\n",
       "      <td>bow</td>\n",
       "      <td>dot</td>\n",
       "      <td>0</td>\n",
       "    </tr>\n",
       "  </tbody>\n",
       "</table>\n",
       "</div>"
      ],
      "text/plain": [
       "     Dress_ID    Style    Price  Rating Size  Season NeckLine SleeveLength  \\\n",
       "0  1006032852     Sexy      Low     4.6    M  Summer   o-neck    sleevless   \n",
       "1  1212192089   Casual      Low     0.0    L  Summer   o-neck        Petal   \n",
       "2  1190380701  vintage     High     0.0    L  Automn   o-neck         full   \n",
       "3   966005983    Brief  Average     4.6    L  Spring   o-neck         full   \n",
       "4   876339541     cute      Low     4.5    M  Summer   o-neck    butterfly   \n",
       "\n",
       "  waiseline       Material FabricType  Decoration Pattern Type  Recommendation  \n",
       "0    empire            NaN    chiffon     ruffles       animal               1  \n",
       "1   natural     microfiber        NaN     ruffles       animal               0  \n",
       "2   natural       polyster        NaN         NaN        print               0  \n",
       "3   natural           silk    chiffon  embroidary        print               1  \n",
       "4   natural  chiffonfabric    chiffon         bow          dot               0  "
      ]
     },
     "execution_count": 12,
     "metadata": {},
     "output_type": "execute_result"
    }
   ],
   "source": [
    "df.head()"
   ]
  },
  {
   "cell_type": "code",
   "execution_count": 23,
   "id": "2733a835",
   "metadata": {},
   "outputs": [
    {
     "data": {
      "text/plain": [
       "500"
      ]
     },
     "execution_count": 23,
     "metadata": {},
     "output_type": "execute_result"
    }
   ],
   "source": [
    "df.to_sql(name='dress_data', con=engine, index=False)"
   ]
  },
  {
   "cell_type": "code",
   "execution_count": 24,
   "id": "10580ef9",
   "metadata": {},
   "outputs": [
    {
     "data": {
      "text/plain": [
       "[(1006032852, 'Sexy', 'Low', 4.6, 'M', 'Summer', 'o-neck', 'sleevless', 'empire', None, 'chiffon', 'ruffles', 'animal', 1),\n",
       " (1212192089, 'Casual', 'Low', 0.0, 'L', 'Summer', 'o-neck', 'Petal', 'natural', 'microfiber', None, 'ruffles', 'animal', 0),\n",
       " (1190380701, 'vintage', 'High', 0.0, 'L', 'Automn', 'o-neck', 'full', 'natural', 'polyster', None, None, 'print', 0),\n",
       " (966005983, 'Brief', 'Average', 4.6, 'L', 'Spring', 'o-neck', 'full', 'natural', 'silk', 'chiffon', 'embroidary', 'print', 1),\n",
       " (876339541, 'cute', 'Low', 4.5, 'M', 'Summer', 'o-neck', 'butterfly', 'natural', 'chiffonfabric', 'chiffon', 'bow', 'dot', 0),\n",
       " (1068332458, 'bohemian', 'Low', 0.0, 'M', 'Summer', 'v-neck', 'sleevless', 'empire', None, None, None, 'print', 0),\n",
       " (1220707172, 'Casual', 'Average', 0.0, 'XL', 'Summer', 'o-neck', 'full', None, 'cotton', None, None, 'solid', 0),\n",
       " (1219677488, 'Novelty', 'Average', 0.0, 'free', 'Automn', 'o-neck', 'short', 'natural', 'polyster', 'broadcloth', 'lace', None, 0),\n",
       " (1113094204, 'Flare', 'Average', 0.0, 'free', 'Spring', 'v-neck', 'short', 'empire', 'cotton', 'broadcloth', 'beading', 'solid', 1),\n",
       " (985292672, 'bohemian', 'Low', 0.0, 'free', 'Summer', 'v-neck', 'sleevless', 'natural', 'nylon', 'chiffon', None, None, 1)]"
      ]
     },
     "execution_count": 24,
     "metadata": {},
     "output_type": "execute_result"
    }
   ],
   "source": [
    "db.execute(text(\"\"\"\n",
    "select * from dress_data limit 10\n",
    "\"\"\")).fetchall()"
   ]
  },
  {
   "cell_type": "code",
   "execution_count": 25,
   "id": "78f028bf",
   "metadata": {},
   "outputs": [
    {
     "data": {
      "text/plain": [
       "RMKeyView(['Dress_ID', 'Style', 'Price', 'Rating', 'Size', 'Season', 'NeckLine', 'SleeveLength', 'waiseline', 'Material', 'FabricType', 'Decoration', 'Pattern Type', 'Recommendation'])"
      ]
     },
     "execution_count": 25,
     "metadata": {},
     "output_type": "execute_result"
    }
   ],
   "source": [
    "db.execute(text(\"\"\"\n",
    "select * from dress_data limit 10\n",
    "\"\"\")).keys()"
   ]
  },
  {
   "cell_type": "code",
   "execution_count": 26,
   "id": "1fbada1f",
   "metadata": {},
   "outputs": [
    {
     "data": {
      "text/plain": [
       "[('bank_details',), ('bank_view',), ('dress_data',)]"
      ]
     },
     "execution_count": 26,
     "metadata": {},
     "output_type": "execute_result"
    }
   ],
   "source": [
    "db.execute(text(\"\"\"\n",
    "show tables;\n",
    "\"\"\")).fetchall()"
   ]
  },
  {
   "cell_type": "markdown",
   "id": "1f056711",
   "metadata": {},
   "source": [
    "* Load bulk csv files into data base\n",
    "```bash\n",
    "LOAD DATA INFILE <location> i.e 'D:/file.csv'\n",
    "INTO TABLE dress_data\n",
    "FIELDS TERMINATED BY ','\n",
    "ENCLOSE BY '\"'\n",
    "LINES TERMINATED BY '\\n'\n",
    "IGNORE 1 ROWS;\n",
    "```"
   ]
  },
  {
   "cell_type": "code",
   "execution_count": 27,
   "id": "537a8c08",
   "metadata": {},
   "outputs": [
    {
     "data": {
      "text/plain": [
       "(500,)"
      ]
     },
     "execution_count": 27,
     "metadata": {},
     "output_type": "execute_result"
    }
   ],
   "source": [
    "db.execute(text(\"\"\"\n",
    "select count(*) from dress_data;\n",
    "\"\"\")).fetchone()"
   ]
  },
  {
   "cell_type": "code",
   "execution_count": 4,
   "id": "b3d3caca",
   "metadata": {},
   "outputs": [
    {
     "data": {
      "text/plain": [
       "[(1006032852, 'Sexy', 'Low', 4.6, 'M', 'Summer', 'o-neck', 'sleevless', 'empire', None, 'chiffon', 'ruffles', 'animal', 1),\n",
       " (1212192089, 'Casual', 'Low', 0.0, 'L', 'Summer', 'o-neck', 'Petal', 'natural', 'microfiber', None, 'ruffles', 'animal', 0),\n",
       " (1190380701, 'vintage', 'High', 0.0, 'L', 'Automn', 'o-neck', 'full', 'natural', 'polyster', None, None, 'print', 0),\n",
       " (966005983, 'Brief', 'Average', 4.6, 'L', 'Spring', 'o-neck', 'full', 'natural', 'silk', 'chiffon', 'embroidary', 'print', 1),\n",
       " (876339541, 'cute', 'Low', 4.5, 'M', 'Summer', 'o-neck', 'butterfly', 'natural', 'chiffonfabric', 'chiffon', 'bow', 'dot', 0)]"
      ]
     },
     "execution_count": 4,
     "metadata": {},
     "output_type": "execute_result"
    }
   ],
   "source": [
    "db.execute(text(\"\"\"\n",
    "select * from dress_data limit 5\n",
    "\"\"\")).fetchall()"
   ]
  },
  {
   "cell_type": "markdown",
   "id": "54acb328",
   "metadata": {},
   "source": [
    "*  Constraits\n",
    "```bash\n",
    "alter table test3 add check (test_id > 0)\n",
    "```"
   ]
  },
  {
   "cell_type": "code",
   "execution_count": 13,
   "id": "9ef573e7",
   "metadata": {},
   "outputs": [],
   "source": [
    "df1 = pd.read_excel(\"Datasets/Dresses_Attribute_Sales/Extra files/Dress Sales.xlsx\")"
   ]
  },
  {
   "cell_type": "code",
   "execution_count": 14,
   "id": "fcbad001",
   "metadata": {},
   "outputs": [
    {
     "data": {
      "text/html": [
       "<div>\n",
       "<style scoped>\n",
       "    .dataframe tbody tr th:only-of-type {\n",
       "        vertical-align: middle;\n",
       "    }\n",
       "\n",
       "    .dataframe tbody tr th {\n",
       "        vertical-align: top;\n",
       "    }\n",
       "\n",
       "    .dataframe thead th {\n",
       "        text-align: right;\n",
       "    }\n",
       "</style>\n",
       "<table border=\"1\" class=\"dataframe\">\n",
       "  <thead>\n",
       "    <tr style=\"text-align: right;\">\n",
       "      <th></th>\n",
       "      <th>Dress_ID</th>\n",
       "      <th>29/8/2013</th>\n",
       "      <th>31/8/2013</th>\n",
       "      <th>2013-02-09 00:00:00</th>\n",
       "      <th>2013-04-09 00:00:00</th>\n",
       "      <th>2013-06-09 00:00:00</th>\n",
       "      <th>2013-08-09 00:00:00</th>\n",
       "      <th>2013-10-09 00:00:00</th>\n",
       "      <th>2013-12-09 00:00:00</th>\n",
       "      <th>14/9/2013</th>\n",
       "      <th>...</th>\n",
       "      <th>24/9/2013</th>\n",
       "      <th>26/9/2013</th>\n",
       "      <th>28/9/2013</th>\n",
       "      <th>30/9/2013</th>\n",
       "      <th>2013-02-10 00:00:00</th>\n",
       "      <th>2013-04-10 00:00:00</th>\n",
       "      <th>2013-06-10 00:00:00</th>\n",
       "      <th>2010-08-10 00:00:00</th>\n",
       "      <th>2013-10-10 00:00:00</th>\n",
       "      <th>2013-12-10 00:00:00</th>\n",
       "    </tr>\n",
       "  </thead>\n",
       "  <tbody>\n",
       "    <tr>\n",
       "      <th>0</th>\n",
       "      <td>1006032852</td>\n",
       "      <td>2114</td>\n",
       "      <td>2274</td>\n",
       "      <td>2491</td>\n",
       "      <td>2660</td>\n",
       "      <td>2727</td>\n",
       "      <td>2887</td>\n",
       "      <td>2930</td>\n",
       "      <td>3119</td>\n",
       "      <td>3204</td>\n",
       "      <td>...</td>\n",
       "      <td>3554</td>\n",
       "      <td>3624.0</td>\n",
       "      <td>3706</td>\n",
       "      <td>3746.0</td>\n",
       "      <td>3795.0</td>\n",
       "      <td>3832.0</td>\n",
       "      <td>3897</td>\n",
       "      <td>3923.0</td>\n",
       "      <td>3985.0</td>\n",
       "      <td>4048</td>\n",
       "    </tr>\n",
       "    <tr>\n",
       "      <th>1</th>\n",
       "      <td>1212192089</td>\n",
       "      <td>151</td>\n",
       "      <td>275</td>\n",
       "      <td>570</td>\n",
       "      <td>750</td>\n",
       "      <td>813</td>\n",
       "      <td>1066</td>\n",
       "      <td>1164</td>\n",
       "      <td>1558</td>\n",
       "      <td>1756</td>\n",
       "      <td>...</td>\n",
       "      <td>2710</td>\n",
       "      <td>2942.0</td>\n",
       "      <td>3258</td>\n",
       "      <td>3354.0</td>\n",
       "      <td>3475.0</td>\n",
       "      <td>3654.0</td>\n",
       "      <td>3911</td>\n",
       "      <td>4024.0</td>\n",
       "      <td>4125.0</td>\n",
       "      <td>4277</td>\n",
       "    </tr>\n",
       "    <tr>\n",
       "      <th>2</th>\n",
       "      <td>1190380701</td>\n",
       "      <td>6</td>\n",
       "      <td>7</td>\n",
       "      <td>7</td>\n",
       "      <td>7</td>\n",
       "      <td>8</td>\n",
       "      <td>8</td>\n",
       "      <td>9</td>\n",
       "      <td>10</td>\n",
       "      <td>10</td>\n",
       "      <td>...</td>\n",
       "      <td>11</td>\n",
       "      <td>11.0</td>\n",
       "      <td>11</td>\n",
       "      <td>11.0</td>\n",
       "      <td>11.0</td>\n",
       "      <td>11.0</td>\n",
       "      <td>11</td>\n",
       "      <td>11.0</td>\n",
       "      <td>11.0</td>\n",
       "      <td>11</td>\n",
       "    </tr>\n",
       "    <tr>\n",
       "      <th>3</th>\n",
       "      <td>966005983</td>\n",
       "      <td>1005</td>\n",
       "      <td>1128</td>\n",
       "      <td>1326</td>\n",
       "      <td>1455</td>\n",
       "      <td>1507</td>\n",
       "      <td>1621</td>\n",
       "      <td>1637</td>\n",
       "      <td>1723</td>\n",
       "      <td>1746</td>\n",
       "      <td>...</td>\n",
       "      <td>1878</td>\n",
       "      <td>1892.0</td>\n",
       "      <td>1914</td>\n",
       "      <td>1924.0</td>\n",
       "      <td>1929.0</td>\n",
       "      <td>1941.0</td>\n",
       "      <td>1952</td>\n",
       "      <td>1955.0</td>\n",
       "      <td>1959.0</td>\n",
       "      <td>1963</td>\n",
       "    </tr>\n",
       "    <tr>\n",
       "      <th>4</th>\n",
       "      <td>876339541</td>\n",
       "      <td>996</td>\n",
       "      <td>1175</td>\n",
       "      <td>1304</td>\n",
       "      <td>1396</td>\n",
       "      <td>1432</td>\n",
       "      <td>1559</td>\n",
       "      <td>1570</td>\n",
       "      <td>1638</td>\n",
       "      <td>1655</td>\n",
       "      <td>...</td>\n",
       "      <td>2032</td>\n",
       "      <td>2156.0</td>\n",
       "      <td>2252</td>\n",
       "      <td>2312.0</td>\n",
       "      <td>2387.0</td>\n",
       "      <td>2459.0</td>\n",
       "      <td>2544</td>\n",
       "      <td>2614.0</td>\n",
       "      <td>2693.0</td>\n",
       "      <td>2736</td>\n",
       "    </tr>\n",
       "  </tbody>\n",
       "</table>\n",
       "<p>5 rows × 24 columns</p>\n",
       "</div>"
      ],
      "text/plain": [
       "     Dress_ID  29/8/2013  31/8/2013  2013-02-09 00:00:00  2013-04-09 00:00:00  \\\n",
       "0  1006032852       2114       2274                 2491                 2660   \n",
       "1  1212192089        151        275                  570                  750   \n",
       "2  1190380701          6          7                    7                    7   \n",
       "3   966005983       1005       1128                 1326                 1455   \n",
       "4   876339541        996       1175                 1304                 1396   \n",
       "\n",
       "   2013-06-09 00:00:00  2013-08-09 00:00:00  2013-10-09 00:00:00  \\\n",
       "0                 2727                 2887                 2930   \n",
       "1                  813                 1066                 1164   \n",
       "2                    8                    8                    9   \n",
       "3                 1507                 1621                 1637   \n",
       "4                 1432                 1559                 1570   \n",
       "\n",
       "  2013-12-09 00:00:00 14/9/2013  ... 24/9/2013 26/9/2013 28/9/2013 30/9/2013  \\\n",
       "0                3119      3204  ...      3554    3624.0      3706    3746.0   \n",
       "1                1558      1756  ...      2710    2942.0      3258    3354.0   \n",
       "2                  10        10  ...        11      11.0        11      11.0   \n",
       "3                1723      1746  ...      1878    1892.0      1914    1924.0   \n",
       "4                1638      1655  ...      2032    2156.0      2252    2312.0   \n",
       "\n",
       "   2013-02-10 00:00:00  2013-04-10 00:00:00  2013-06-10 00:00:00  \\\n",
       "0               3795.0               3832.0                 3897   \n",
       "1               3475.0               3654.0                 3911   \n",
       "2                 11.0                 11.0                   11   \n",
       "3               1929.0               1941.0                 1952   \n",
       "4               2387.0               2459.0                 2544   \n",
       "\n",
       "   2010-08-10 00:00:00  2013-10-10 00:00:00  2013-12-10 00:00:00  \n",
       "0               3923.0               3985.0                 4048  \n",
       "1               4024.0               4125.0                 4277  \n",
       "2                 11.0                 11.0                   11  \n",
       "3               1955.0               1959.0                 1963  \n",
       "4               2614.0               2693.0                 2736  \n",
       "\n",
       "[5 rows x 24 columns]"
      ]
     },
     "execution_count": 14,
     "metadata": {},
     "output_type": "execute_result"
    }
   ],
   "source": [
    "df1.head()"
   ]
  },
  {
   "cell_type": "code",
   "execution_count": null,
   "id": "0e5f5797",
   "metadata": {},
   "outputs": [],
   "source": []
  }
 ],
 "metadata": {
  "kernelspec": {
   "display_name": "Python 3 (ipykernel)",
   "language": "python",
   "name": "python3"
  },
  "language_info": {
   "codemirror_mode": {
    "name": "ipython",
    "version": 3
   },
   "file_extension": ".py",
   "mimetype": "text/x-python",
   "name": "python",
   "nbconvert_exporter": "python",
   "pygments_lexer": "ipython3",
   "version": "3.10.13"
  }
 },
 "nbformat": 4,
 "nbformat_minor": 5
}
