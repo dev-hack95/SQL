{
 "cells": [
  {
   "cell_type": "code",
   "execution_count": 1,
   "id": "6c6f227f",
   "metadata": {},
   "outputs": [],
   "source": [
    "import warnings\n",
    "import pandas as pd\n",
    "from sqlalchemy import text\n",
    "from sqlalchemy.orm import sessionmaker\n",
    "from sqlalchemy.engine import create_engine\n",
    "\n",
    "#Config\n",
    "warnings.filterwarnings(\"ignore\")\n",
    "pd.set_option(\"display.max_columns\", None)\n",
    "pd.set_option(\"display.max_rows\", None)"
   ]
  },
  {
   "cell_type": "code",
   "execution_count": 2,
   "id": "9a70dd00",
   "metadata": {},
   "outputs": [],
   "source": [
    "class DatabaseSession:\n",
    "    def __init__(self, db_name: str) -> None:\n",
    "        self.db_user = 'root'\n",
    "        self.db_password = 'rushi12345'\n",
    "        self.db_host = '192.168.29.7'\n",
    "        self.db_name = db_name\n",
    "    \n",
    "    def LocalSession(self) -> sessionmaker:\n",
    "        engine = create_engine(f\"mysql+pymysql://{self.db_user}:{self.db_password}@{self.db_host}/{self.db_name}\")\n",
    "        SessionLocal = sessionmaker(autoflush=True, bind=engine)\n",
    "        return SessionLocal()"
   ]
  },
  {
   "cell_type": "code",
   "execution_count": 3,
   "id": "5da62cd6",
   "metadata": {},
   "outputs": [],
   "source": [
    "session = DatabaseSession('triggers')\n",
    "db = session.LocalSession()"
   ]
  },
  {
   "cell_type": "code",
   "execution_count": 4,
   "id": "1cbc43eb",
   "metadata": {},
   "outputs": [],
   "source": [
    "class SQL10:\n",
    "    def __init__(self) -> None:\n",
    "        pass\n",
    "    \n",
    "    def execute(self, query: str) -> None:\n",
    "        db.execute(text(query))\n",
    "        print(\"Success!\")\n",
    "        \n",
    "    def commit(self) -> None:\n",
    "        db.execute(text(\"\"\"commit;\"\"\"))\n",
    "        print(\"Success!\")\n",
    "        \n",
    "    def query(self, query: str) -> pd.DataFrame:\n",
    "        return pd.DataFrame(db.execute(text(query)).fetchall())"
   ]
  },
  {
   "cell_type": "code",
   "execution_count": 5,
   "id": "0ff2db9f",
   "metadata": {},
   "outputs": [],
   "source": [
    "data = SQL10()"
   ]
  },
  {
   "cell_type": "code",
   "execution_count": 6,
   "id": "bfcb1936",
   "metadata": {},
   "outputs": [
    {
     "data": {
      "text/html": [
       "<div>\n",
       "<style scoped>\n",
       "    .dataframe tbody tr th:only-of-type {\n",
       "        vertical-align: middle;\n",
       "    }\n",
       "\n",
       "    .dataframe tbody tr th {\n",
       "        vertical-align: top;\n",
       "    }\n",
       "\n",
       "    .dataframe thead th {\n",
       "        text-align: right;\n",
       "    }\n",
       "</style>\n",
       "<table border=\"1\" class=\"dataframe\">\n",
       "  <thead>\n",
       "    <tr style=\"text-align: right;\">\n",
       "      <th></th>\n",
       "      <th>Tables_in_triggers</th>\n",
       "    </tr>\n",
       "  </thead>\n",
       "  <tbody>\n",
       "    <tr>\n",
       "      <th>0</th>\n",
       "      <td>course</td>\n",
       "    </tr>\n",
       "    <tr>\n",
       "      <th>1</th>\n",
       "      <td>course1</td>\n",
       "    </tr>\n",
       "    <tr>\n",
       "      <th>2</th>\n",
       "      <td>course_update</td>\n",
       "    </tr>\n",
       "    <tr>\n",
       "      <th>3</th>\n",
       "      <td>department</td>\n",
       "    </tr>\n",
       "    <tr>\n",
       "      <th>4</th>\n",
       "      <td>employee</td>\n",
       "    </tr>\n",
       "    <tr>\n",
       "      <th>5</th>\n",
       "      <td>ref_course</td>\n",
       "    </tr>\n",
       "  </tbody>\n",
       "</table>\n",
       "</div>"
      ],
      "text/plain": [
       "  Tables_in_triggers\n",
       "0             course\n",
       "1            course1\n",
       "2      course_update\n",
       "3         department\n",
       "4           employee\n",
       "5         ref_course"
      ]
     },
     "execution_count": 6,
     "metadata": {},
     "output_type": "execute_result"
    }
   ],
   "source": [
    "data.query(\"\"\"\n",
    "show tables;\n",
    "\"\"\")"
   ]
  },
  {
   "cell_type": "markdown",
   "id": "a7e0491c",
   "metadata": {},
   "source": [
    "## Triggers"
   ]
  },
  {
   "cell_type": "markdown",
   "id": "acfa43bf",
   "metadata": {},
   "source": [
    "### Triggers in SQL\n",
    "1) What are Triggers in SQL?\n",
    "   * Triggers in SQL are special types of stored procedures that are automatically executed (or \"triggered\") in response to  specific events on a particular table or view in a database. These events can include INSERT, UPDATE, or DELETE operations.\n",
    "\n",
    "2) Why do we use Triggers in SQL?\n",
    "   * Triggers are used to enforce business rules, ensure data integrity, and automate certain tasks that need to be performed when specific events occur in the database.\n",
    "\n",
    "3) Three examples of Triggers in SQL:\n",
    "   \n",
    "   * Insert Trigger\n",
    "   \n",
    "   ```sql\n",
    "   CREATE TRIGGER trg_after_insert\n",
    "   AFTER INSERT ON table_name\n",
    "   FOR EACH ROW\n",
    "   BEGIN\n",
    "    -- Trigger logic\n",
    "   END;\n",
    "   ```\n",
    "   \n",
    "   * Update Trigger\n",
    "   \n",
    "   ```sql\n",
    "   CREATE TRIGGER trg_after_update\n",
    "   AFTER UPDATE ON table_name\n",
    "   FOR EACH ROW\n",
    "   BEGIN\n",
    "    -- Trigger logic\n",
    "   END;\n",
    "   ```\n",
    "   \n",
    "   * Delete Trigger\n",
    "   \n",
    "   ```sql\n",
    "   CREATE TRIGGER trg_after_delete\n",
    "   AFTER DELETE ON table_name\n",
    "   FOR EACH ROW\n",
    "   BEGIN\n",
    "    -- Trigger logic\n",
    "   END;\n",
    "   ```\n",
    "   \n",
    "4) Three Potential Use Cases of Triggers in SQL and Data Analytics:\n",
    "   * Audit Logging: Triggers can be used to log changes made to specific tables, allowing for easy tracking of data modifications over time.\n",
    "   \n",
    "   * Data Validation: Triggers can enforce complex business rules or data validation constraints that cannot be enforced using standard constraints.\n",
    "\n",
    "   * Derived Data: Triggers can be used to automatically update derived data or summary tables when source data changes, improving performance for analytical queries."
   ]
  },
  {
   "cell_type": "code",
   "execution_count": 26,
   "id": "751172fb",
   "metadata": {},
   "outputs": [
    {
     "name": "stdout",
     "output_type": "stream",
     "text": [
      "Success!\n"
     ]
    }
   ],
   "source": [
    "data.execute(\"\"\"\n",
    "create table course(\n",
    "course_id int,\n",
    "course_desc varchar(255),\n",
    "course_mentor varchar(255),\n",
    "course_price decimal(10, 2),\n",
    "course_discount int)\n",
    "\"\"\")"
   ]
  },
  {
   "cell_type": "code",
   "execution_count": 27,
   "id": "91920c2c",
   "metadata": {},
   "outputs": [
    {
     "name": "stdout",
     "output_type": "stream",
     "text": [
      "Sucess!\n"
     ]
    }
   ],
   "source": [
    "data.commit()"
   ]
  },
  {
   "cell_type": "code",
   "execution_count": 28,
   "id": "ba73fc73",
   "metadata": {},
   "outputs": [
    {
     "data": {
      "text/html": [
       "<div>\n",
       "<style scoped>\n",
       "    .dataframe tbody tr th:only-of-type {\n",
       "        vertical-align: middle;\n",
       "    }\n",
       "\n",
       "    .dataframe tbody tr th {\n",
       "        vertical-align: top;\n",
       "    }\n",
       "\n",
       "    .dataframe thead th {\n",
       "        text-align: right;\n",
       "    }\n",
       "</style>\n",
       "<table border=\"1\" class=\"dataframe\">\n",
       "  <thead>\n",
       "    <tr style=\"text-align: right;\">\n",
       "      <th></th>\n",
       "      <th>Tables_in_triggers</th>\n",
       "    </tr>\n",
       "  </thead>\n",
       "  <tbody>\n",
       "    <tr>\n",
       "      <th>0</th>\n",
       "      <td>course</td>\n",
       "    </tr>\n",
       "    <tr>\n",
       "      <th>1</th>\n",
       "      <td>course_update</td>\n",
       "    </tr>\n",
       "  </tbody>\n",
       "</table>\n",
       "</div>"
      ],
      "text/plain": [
       "  Tables_in_triggers\n",
       "0             course\n",
       "1      course_update"
      ]
     },
     "execution_count": 28,
     "metadata": {},
     "output_type": "execute_result"
    }
   ],
   "source": [
    "data.query(\"\"\"\n",
    "show tables;\n",
    "\"\"\")"
   ]
  },
  {
   "cell_type": "code",
   "execution_count": 30,
   "id": "2eced32a",
   "metadata": {},
   "outputs": [
    {
     "name": "stdout",
     "output_type": "stream",
     "text": [
      "Success!\n"
     ]
    }
   ],
   "source": [
    "data.execute(\"\"\"\n",
    "create table course_update1(\n",
    "course_mentor_update varchar(255),\n",
    "course_price_update int,\n",
    "course_discount_update int);\n",
    "\"\"\")"
   ]
  },
  {
   "cell_type": "code",
   "execution_count": 31,
   "id": "5df1d3fb",
   "metadata": {},
   "outputs": [
    {
     "name": "stdout",
     "output_type": "stream",
     "text": [
      "Sucess!\n"
     ]
    }
   ],
   "source": [
    "data.commit()"
   ]
  },
  {
   "cell_type": "code",
   "execution_count": 32,
   "id": "72a09a09",
   "metadata": {},
   "outputs": [
    {
     "data": {
      "text/html": [
       "<div>\n",
       "<style scoped>\n",
       "    .dataframe tbody tr th:only-of-type {\n",
       "        vertical-align: middle;\n",
       "    }\n",
       "\n",
       "    .dataframe tbody tr th {\n",
       "        vertical-align: top;\n",
       "    }\n",
       "\n",
       "    .dataframe thead th {\n",
       "        text-align: right;\n",
       "    }\n",
       "</style>\n",
       "<table border=\"1\" class=\"dataframe\">\n",
       "  <thead>\n",
       "    <tr style=\"text-align: right;\">\n",
       "      <th></th>\n",
       "      <th>Tables_in_triggers</th>\n",
       "    </tr>\n",
       "  </thead>\n",
       "  <tbody>\n",
       "    <tr>\n",
       "      <th>0</th>\n",
       "      <td>course</td>\n",
       "    </tr>\n",
       "    <tr>\n",
       "      <th>1</th>\n",
       "      <td>course_update</td>\n",
       "    </tr>\n",
       "    <tr>\n",
       "      <th>2</th>\n",
       "      <td>course_update1</td>\n",
       "    </tr>\n",
       "  </tbody>\n",
       "</table>\n",
       "</div>"
      ],
      "text/plain": [
       "  Tables_in_triggers\n",
       "0             course\n",
       "1      course_update\n",
       "2     course_update1"
      ]
     },
     "execution_count": 32,
     "metadata": {},
     "output_type": "execute_result"
    }
   ],
   "source": [
    "data.query(\"\"\"\n",
    "show tables;\n",
    "\"\"\")"
   ]
  },
  {
   "cell_type": "markdown",
   "id": "fdd6a91b",
   "metadata": {},
   "source": [
    "* Triggers example\n",
    "\n",
    "```sql\n",
    "DELIMITER $$\n",
    "CREATE TRIGGER course_before_insert\n",
    "BEFORE INSERT\n",
    "ON course\n",
    "FOR EACH ROW\n",
    "BEGIN\n",
    "   SET NEW.create_date = SYSDATE();\n",
    "END $$\n",
    "DELIMITER ;\n",
    "```"
   ]
  },
  {
   "cell_type": "code",
   "execution_count": 35,
   "id": "4727c6a9",
   "metadata": {},
   "outputs": [
    {
     "name": "stdout",
     "output_type": "stream",
     "text": [
      "Success!\n"
     ]
    }
   ],
   "source": [
    "data.execute(\"\"\"\n",
    "ALTER TABLE course ADD COLUMN create_date DATETIME;\n",
    "\"\"\")"
   ]
  },
  {
   "cell_type": "code",
   "execution_count": 37,
   "id": "9aa2038d",
   "metadata": {},
   "outputs": [
    {
     "name": "stdout",
     "output_type": "stream",
     "text": [
      "Success!\n"
     ]
    }
   ],
   "source": [
    "data.execute(\"\"\"\n",
    "insert into course (course_id,\n",
    "course_desc,\n",
    "course_mentor,\n",
    "course_price,\n",
    "course_discount) values\n",
    "(101, \"Full Stack Data Analytics course with hands on projects\", \"person1\", 3999.99, 1000);\n",
    "\"\"\")"
   ]
  },
  {
   "cell_type": "code",
   "execution_count": 38,
   "id": "1f22172d",
   "metadata": {},
   "outputs": [
    {
     "data": {
      "text/html": [
       "<div>\n",
       "<style scoped>\n",
       "    .dataframe tbody tr th:only-of-type {\n",
       "        vertical-align: middle;\n",
       "    }\n",
       "\n",
       "    .dataframe tbody tr th {\n",
       "        vertical-align: top;\n",
       "    }\n",
       "\n",
       "    .dataframe thead th {\n",
       "        text-align: right;\n",
       "    }\n",
       "</style>\n",
       "<table border=\"1\" class=\"dataframe\">\n",
       "  <thead>\n",
       "    <tr style=\"text-align: right;\">\n",
       "      <th></th>\n",
       "      <th>course_id</th>\n",
       "      <th>course_desc</th>\n",
       "      <th>course_mentor</th>\n",
       "      <th>course_price</th>\n",
       "      <th>course_discount</th>\n",
       "      <th>create_date</th>\n",
       "    </tr>\n",
       "  </thead>\n",
       "  <tbody>\n",
       "    <tr>\n",
       "      <th>0</th>\n",
       "      <td>101</td>\n",
       "      <td>Full Stack Data Analytics course with hands on...</td>\n",
       "      <td>person1</td>\n",
       "      <td>3999.99</td>\n",
       "      <td>1000</td>\n",
       "      <td>2024-03-31 12:18:29</td>\n",
       "    </tr>\n",
       "  </tbody>\n",
       "</table>\n",
       "</div>"
      ],
      "text/plain": [
       "   course_id                                        course_desc course_mentor  \\\n",
       "0        101  Full Stack Data Analytics course with hands on...       person1   \n",
       "\n",
       "  course_price  course_discount         create_date  \n",
       "0      3999.99             1000 2024-03-31 12:18:29  "
      ]
     },
     "execution_count": 38,
     "metadata": {},
     "output_type": "execute_result"
    }
   ],
   "source": [
    "data.query(\"\"\"select * from course\"\"\")"
   ]
  },
  {
   "cell_type": "code",
   "execution_count": 39,
   "id": "a43977bb",
   "metadata": {},
   "outputs": [
    {
     "name": "stdout",
     "output_type": "stream",
     "text": [
      "Success!\n"
     ]
    }
   ],
   "source": [
    "data.execute(\"\"\"\n",
    "insert into course (course_id,\n",
    "course_desc,\n",
    "course_mentor,\n",
    "course_price,\n",
    "course_discount) values\n",
    "(102, \"Full Stack Data Science course with hands on projects\", \"person2\", 6999.99, 1000);\n",
    "\"\"\")"
   ]
  },
  {
   "cell_type": "code",
   "execution_count": 7,
   "id": "d5a337e3",
   "metadata": {},
   "outputs": [
    {
     "data": {
      "text/html": [
       "<div>\n",
       "<style scoped>\n",
       "    .dataframe tbody tr th:only-of-type {\n",
       "        vertical-align: middle;\n",
       "    }\n",
       "\n",
       "    .dataframe tbody tr th {\n",
       "        vertical-align: top;\n",
       "    }\n",
       "\n",
       "    .dataframe thead th {\n",
       "        text-align: right;\n",
       "    }\n",
       "</style>\n",
       "<table border=\"1\" class=\"dataframe\">\n",
       "  <thead>\n",
       "    <tr style=\"text-align: right;\">\n",
       "      <th></th>\n",
       "      <th>course_id</th>\n",
       "      <th>course_desc</th>\n",
       "      <th>course_mentor</th>\n",
       "      <th>course_price</th>\n",
       "      <th>course_discount</th>\n",
       "      <th>create_date</th>\n",
       "    </tr>\n",
       "  </thead>\n",
       "  <tbody>\n",
       "    <tr>\n",
       "      <th>0</th>\n",
       "      <td>101</td>\n",
       "      <td>Full Stack Data Analytics course with hands on...</td>\n",
       "      <td>person1</td>\n",
       "      <td>3999.99</td>\n",
       "      <td>1000</td>\n",
       "      <td>2024-03-31 12:18:29</td>\n",
       "    </tr>\n",
       "    <tr>\n",
       "      <th>1</th>\n",
       "      <td>102</td>\n",
       "      <td>Full Stack Data Science course with hands on p...</td>\n",
       "      <td>person2</td>\n",
       "      <td>6999.99</td>\n",
       "      <td>1000</td>\n",
       "      <td>2024-03-31 12:21:45</td>\n",
       "    </tr>\n",
       "  </tbody>\n",
       "</table>\n",
       "</div>"
      ],
      "text/plain": [
       "   course_id                                        course_desc course_mentor  \\\n",
       "0        101  Full Stack Data Analytics course with hands on...       person1   \n",
       "1        102  Full Stack Data Science course with hands on p...       person2   \n",
       "\n",
       "  course_price  course_discount         create_date  \n",
       "0      3999.99             1000 2024-03-31 12:18:29  \n",
       "1      6999.99             1000 2024-03-31 12:21:45  "
      ]
     },
     "execution_count": 7,
     "metadata": {},
     "output_type": "execute_result"
    }
   ],
   "source": [
    "data.query(\"\"\"select * from course\"\"\")"
   ]
  },
  {
   "cell_type": "markdown",
   "id": "9443427b",
   "metadata": {},
   "source": [
    "```sql\n",
    "DELIMITER $$\n",
    "CREATE TRIGGER price_based_on_mentor\n",
    "BEFORE INSERT\n",
    "ON course\n",
    "FOR EACH ROW\n",
    "BEGIN\n",
    "   SET NEW.course_discount = CASE \n",
    "   WHEN NEW.course_mentor = \"person3\" THEN 0\n",
    "   ELSE 1000\n",
    "   END;\n",
    "END $$\n",
    "DELIMITER ;\n",
    "```"
   ]
  },
  {
   "cell_type": "code",
   "execution_count": 8,
   "id": "f9d5f0b9",
   "metadata": {},
   "outputs": [
    {
     "name": "stdout",
     "output_type": "stream",
     "text": [
      "Success!\n"
     ]
    }
   ],
   "source": [
    "data.execute(\"\"\"\n",
    "insert into course (course_id,\n",
    "course_desc,\n",
    "course_mentor,\n",
    "course_price) values\n",
    "(103, \"Full Stack Data Science course with hands on projects\", \"person3\", 6999.99);\n",
    "\"\"\")"
   ]
  },
  {
   "cell_type": "code",
   "execution_count": 9,
   "id": "b8e55630",
   "metadata": {},
   "outputs": [
    {
     "data": {
      "text/html": [
       "<div>\n",
       "<style scoped>\n",
       "    .dataframe tbody tr th:only-of-type {\n",
       "        vertical-align: middle;\n",
       "    }\n",
       "\n",
       "    .dataframe tbody tr th {\n",
       "        vertical-align: top;\n",
       "    }\n",
       "\n",
       "    .dataframe thead th {\n",
       "        text-align: right;\n",
       "    }\n",
       "</style>\n",
       "<table border=\"1\" class=\"dataframe\">\n",
       "  <thead>\n",
       "    <tr style=\"text-align: right;\">\n",
       "      <th></th>\n",
       "      <th>course_id</th>\n",
       "      <th>course_desc</th>\n",
       "      <th>course_mentor</th>\n",
       "      <th>course_price</th>\n",
       "      <th>course_discount</th>\n",
       "      <th>create_date</th>\n",
       "    </tr>\n",
       "  </thead>\n",
       "  <tbody>\n",
       "    <tr>\n",
       "      <th>0</th>\n",
       "      <td>101</td>\n",
       "      <td>Full Stack Data Analytics course with hands on...</td>\n",
       "      <td>person1</td>\n",
       "      <td>3999.99</td>\n",
       "      <td>1000</td>\n",
       "      <td>2024-03-31 12:18:29</td>\n",
       "    </tr>\n",
       "    <tr>\n",
       "      <th>1</th>\n",
       "      <td>102</td>\n",
       "      <td>Full Stack Data Science course with hands on p...</td>\n",
       "      <td>person2</td>\n",
       "      <td>6999.99</td>\n",
       "      <td>1000</td>\n",
       "      <td>2024-03-31 12:21:45</td>\n",
       "    </tr>\n",
       "    <tr>\n",
       "      <th>2</th>\n",
       "      <td>103</td>\n",
       "      <td>Full Stack Data Science course with hands on p...</td>\n",
       "      <td>person3</td>\n",
       "      <td>6999.99</td>\n",
       "      <td>0</td>\n",
       "      <td>2024-03-31 12:34:34</td>\n",
       "    </tr>\n",
       "  </tbody>\n",
       "</table>\n",
       "</div>"
      ],
      "text/plain": [
       "   course_id                                        course_desc course_mentor  \\\n",
       "0        101  Full Stack Data Analytics course with hands on...       person1   \n",
       "1        102  Full Stack Data Science course with hands on p...       person2   \n",
       "2        103  Full Stack Data Science course with hands on p...       person3   \n",
       "\n",
       "  course_price  course_discount         create_date  \n",
       "0      3999.99             1000 2024-03-31 12:18:29  \n",
       "1      6999.99             1000 2024-03-31 12:21:45  \n",
       "2      6999.99                0 2024-03-31 12:34:34  "
      ]
     },
     "execution_count": 9,
     "metadata": {},
     "output_type": "execute_result"
    }
   ],
   "source": [
    "data.query(\"\"\"select * from course\"\"\")"
   ]
  },
  {
   "cell_type": "code",
   "execution_count": 10,
   "id": "1dbfad6d",
   "metadata": {},
   "outputs": [
    {
     "name": "stdout",
     "output_type": "stream",
     "text": [
      "Success!\n"
     ]
    }
   ],
   "source": [
    "data.execute(\"\"\"\n",
    "insert into course (course_id,\n",
    "course_desc,\n",
    "course_mentor,\n",
    "course_price) values\n",
    "(104, \"Full Stack Data Science course with hands on projects\", \"person1\", 6999.99);\n",
    "\"\"\")"
   ]
  },
  {
   "cell_type": "code",
   "execution_count": 11,
   "id": "2b9ea92d",
   "metadata": {},
   "outputs": [
    {
     "data": {
      "text/html": [
       "<div>\n",
       "<style scoped>\n",
       "    .dataframe tbody tr th:only-of-type {\n",
       "        vertical-align: middle;\n",
       "    }\n",
       "\n",
       "    .dataframe tbody tr th {\n",
       "        vertical-align: top;\n",
       "    }\n",
       "\n",
       "    .dataframe thead th {\n",
       "        text-align: right;\n",
       "    }\n",
       "</style>\n",
       "<table border=\"1\" class=\"dataframe\">\n",
       "  <thead>\n",
       "    <tr style=\"text-align: right;\">\n",
       "      <th></th>\n",
       "      <th>course_id</th>\n",
       "      <th>course_desc</th>\n",
       "      <th>course_mentor</th>\n",
       "      <th>course_price</th>\n",
       "      <th>course_discount</th>\n",
       "      <th>create_date</th>\n",
       "    </tr>\n",
       "  </thead>\n",
       "  <tbody>\n",
       "    <tr>\n",
       "      <th>0</th>\n",
       "      <td>101</td>\n",
       "      <td>Full Stack Data Analytics course with hands on...</td>\n",
       "      <td>person1</td>\n",
       "      <td>3999.99</td>\n",
       "      <td>1000</td>\n",
       "      <td>2024-03-31 12:18:29</td>\n",
       "    </tr>\n",
       "    <tr>\n",
       "      <th>1</th>\n",
       "      <td>102</td>\n",
       "      <td>Full Stack Data Science course with hands on p...</td>\n",
       "      <td>person2</td>\n",
       "      <td>6999.99</td>\n",
       "      <td>1000</td>\n",
       "      <td>2024-03-31 12:21:45</td>\n",
       "    </tr>\n",
       "    <tr>\n",
       "      <th>2</th>\n",
       "      <td>103</td>\n",
       "      <td>Full Stack Data Science course with hands on p...</td>\n",
       "      <td>person3</td>\n",
       "      <td>6999.99</td>\n",
       "      <td>0</td>\n",
       "      <td>2024-03-31 12:34:34</td>\n",
       "    </tr>\n",
       "    <tr>\n",
       "      <th>3</th>\n",
       "      <td>104</td>\n",
       "      <td>Full Stack Data Science course with hands on p...</td>\n",
       "      <td>person1</td>\n",
       "      <td>6999.99</td>\n",
       "      <td>1000</td>\n",
       "      <td>2024-03-31 12:34:45</td>\n",
       "    </tr>\n",
       "  </tbody>\n",
       "</table>\n",
       "</div>"
      ],
      "text/plain": [
       "   course_id                                        course_desc course_mentor  \\\n",
       "0        101  Full Stack Data Analytics course with hands on...       person1   \n",
       "1        102  Full Stack Data Science course with hands on p...       person2   \n",
       "2        103  Full Stack Data Science course with hands on p...       person3   \n",
       "3        104  Full Stack Data Science course with hands on p...       person1   \n",
       "\n",
       "  course_price  course_discount         create_date  \n",
       "0      3999.99             1000 2024-03-31 12:18:29  \n",
       "1      6999.99             1000 2024-03-31 12:21:45  \n",
       "2      6999.99                0 2024-03-31 12:34:34  \n",
       "3      6999.99             1000 2024-03-31 12:34:45  "
      ]
     },
     "execution_count": 11,
     "metadata": {},
     "output_type": "execute_result"
    }
   ],
   "source": [
    "data.query(\"\"\"select * from course\"\"\")"
   ]
  },
  {
   "cell_type": "code",
   "execution_count": 12,
   "id": "8a1d8593",
   "metadata": {},
   "outputs": [
    {
     "name": "stdout",
     "output_type": "stream",
     "text": [
      "Success!\n"
     ]
    }
   ],
   "source": [
    "data.execute(\"\"\"\n",
    "create table course1(\n",
    "course_id int,\n",
    "course_desc varchar(255),\n",
    "course_mentor varchar(255),\n",
    "course_price decimal(10, 2),\n",
    "course_discount int,\n",
    "course_date datetime,\n",
    "user_info varchar(255))\n",
    "\"\"\")"
   ]
  },
  {
   "cell_type": "code",
   "execution_count": 13,
   "id": "a096e1b6",
   "metadata": {},
   "outputs": [
    {
     "name": "stdout",
     "output_type": "stream",
     "text": [
      "Sucess!\n"
     ]
    }
   ],
   "source": [
    "data.commit()"
   ]
  },
  {
   "cell_type": "markdown",
   "id": "49b569b6",
   "metadata": {},
   "source": [
    "```sql\n",
    "DELIMITER $$\n",
    "CREATE TRIGGER course1_before_insert\n",
    "BEFORE INSERT\n",
    "ON course1\n",
    "FOR EACH ROW\n",
    "BEGIN\n",
    "   DECLARE user_val varchar(255);\n",
    "   SET NEW.course_date = SYSDATE();\n",
    "   SELECT user() into user_val;\n",
    "   SET NEW.user_info = user_val;\n",
    "   SET NEW.course_discount = CASE\n",
    "   WHEN NEW.course_mentor = \"person3\" THEN 0\n",
    "   ELSE 1000\n",
    "   END;\n",
    "END $$\n",
    "DELIMITER ;\n",
    "```"
   ]
  },
  {
   "cell_type": "code",
   "execution_count": 14,
   "id": "d8cf18dd",
   "metadata": {},
   "outputs": [
    {
     "name": "stdout",
     "output_type": "stream",
     "text": [
      "Success!\n"
     ]
    }
   ],
   "source": [
    "data.execute(\"\"\"\n",
    "insert into course1 (course_id,\n",
    "course_desc,\n",
    "course_mentor,\n",
    "course_price) values\n",
    "(103, \"Full Stack Data Science course with hands on projects\", \"person3\", 6999.99);\n",
    "\"\"\")"
   ]
  },
  {
   "cell_type": "code",
   "execution_count": 15,
   "id": "fbcf6dfd",
   "metadata": {},
   "outputs": [
    {
     "name": "stdout",
     "output_type": "stream",
     "text": [
      "Sucess!\n"
     ]
    }
   ],
   "source": [
    "data.commit()"
   ]
  },
  {
   "cell_type": "code",
   "execution_count": 17,
   "id": "796c6401",
   "metadata": {},
   "outputs": [
    {
     "data": {
      "text/html": [
       "<div>\n",
       "<style scoped>\n",
       "    .dataframe tbody tr th:only-of-type {\n",
       "        vertical-align: middle;\n",
       "    }\n",
       "\n",
       "    .dataframe tbody tr th {\n",
       "        vertical-align: top;\n",
       "    }\n",
       "\n",
       "    .dataframe thead th {\n",
       "        text-align: right;\n",
       "    }\n",
       "</style>\n",
       "<table border=\"1\" class=\"dataframe\">\n",
       "  <thead>\n",
       "    <tr style=\"text-align: right;\">\n",
       "      <th></th>\n",
       "      <th>course_id</th>\n",
       "      <th>course_desc</th>\n",
       "      <th>course_mentor</th>\n",
       "      <th>course_price</th>\n",
       "      <th>course_discount</th>\n",
       "      <th>course_date</th>\n",
       "      <th>user_info</th>\n",
       "    </tr>\n",
       "  </thead>\n",
       "  <tbody>\n",
       "    <tr>\n",
       "      <th>0</th>\n",
       "      <td>103</td>\n",
       "      <td>Full Stack Data Science course with hands on p...</td>\n",
       "      <td>person3</td>\n",
       "      <td>6999.99</td>\n",
       "      <td>0</td>\n",
       "      <td>2024-03-31 12:44:18</td>\n",
       "      <td>root@192.168.29.120</td>\n",
       "    </tr>\n",
       "  </tbody>\n",
       "</table>\n",
       "</div>"
      ],
      "text/plain": [
       "   course_id                                        course_desc course_mentor  \\\n",
       "0        103  Full Stack Data Science course with hands on p...       person3   \n",
       "\n",
       "  course_price  course_discount         course_date            user_info  \n",
       "0      6999.99                0 2024-03-31 12:44:18  root@192.168.29.120  "
      ]
     },
     "execution_count": 17,
     "metadata": {},
     "output_type": "execute_result"
    }
   ],
   "source": [
    "data.query(\"\"\"select * from course1\"\"\")"
   ]
  },
  {
   "cell_type": "code",
   "execution_count": 18,
   "id": "1fa9a534",
   "metadata": {},
   "outputs": [
    {
     "name": "stdout",
     "output_type": "stream",
     "text": [
      "Success!\n"
     ]
    }
   ],
   "source": [
    "data.execute(\"\"\"\n",
    "insert into course1 (course_id,\n",
    "course_desc,\n",
    "course_mentor,\n",
    "course_price) values\n",
    "(102, \"Full Stack Data Science course with hands on projects\", \"person2\", 6999.99);\n",
    "\"\"\")"
   ]
  },
  {
   "cell_type": "code",
   "execution_count": 19,
   "id": "63bcc5c0",
   "metadata": {},
   "outputs": [
    {
     "name": "stdout",
     "output_type": "stream",
     "text": [
      "Success!\n"
     ]
    }
   ],
   "source": [
    "data.execute(\"\"\"\n",
    "insert into course1 (course_id,\n",
    "course_desc,\n",
    "course_mentor,\n",
    "course_price) values\n",
    "(101, \"Full Stack Data Analytics course with hands on projects\", \"person1\", 3999.99);\n",
    "\"\"\")"
   ]
  },
  {
   "cell_type": "code",
   "execution_count": 20,
   "id": "3bb43235",
   "metadata": {},
   "outputs": [
    {
     "name": "stdout",
     "output_type": "stream",
     "text": [
      "Sucess!\n"
     ]
    }
   ],
   "source": [
    "data.commit()"
   ]
  },
  {
   "cell_type": "code",
   "execution_count": 21,
   "id": "b39d5ee9",
   "metadata": {},
   "outputs": [
    {
     "data": {
      "text/html": [
       "<div>\n",
       "<style scoped>\n",
       "    .dataframe tbody tr th:only-of-type {\n",
       "        vertical-align: middle;\n",
       "    }\n",
       "\n",
       "    .dataframe tbody tr th {\n",
       "        vertical-align: top;\n",
       "    }\n",
       "\n",
       "    .dataframe thead th {\n",
       "        text-align: right;\n",
       "    }\n",
       "</style>\n",
       "<table border=\"1\" class=\"dataframe\">\n",
       "  <thead>\n",
       "    <tr style=\"text-align: right;\">\n",
       "      <th></th>\n",
       "      <th>course_id</th>\n",
       "      <th>course_desc</th>\n",
       "      <th>course_mentor</th>\n",
       "      <th>course_price</th>\n",
       "      <th>course_discount</th>\n",
       "      <th>course_date</th>\n",
       "      <th>user_info</th>\n",
       "    </tr>\n",
       "  </thead>\n",
       "  <tbody>\n",
       "    <tr>\n",
       "      <th>0</th>\n",
       "      <td>103</td>\n",
       "      <td>Full Stack Data Science course with hands on p...</td>\n",
       "      <td>person3</td>\n",
       "      <td>6999.99</td>\n",
       "      <td>0</td>\n",
       "      <td>2024-03-31 12:44:18</td>\n",
       "      <td>root@192.168.29.120</td>\n",
       "    </tr>\n",
       "    <tr>\n",
       "      <th>1</th>\n",
       "      <td>102</td>\n",
       "      <td>Full Stack Data Science course with hands on p...</td>\n",
       "      <td>person2</td>\n",
       "      <td>6999.99</td>\n",
       "      <td>1000</td>\n",
       "      <td>2024-03-31 12:45:17</td>\n",
       "      <td>root@192.168.29.120</td>\n",
       "    </tr>\n",
       "    <tr>\n",
       "      <th>2</th>\n",
       "      <td>101</td>\n",
       "      <td>Full Stack Data Analytics course with hands on...</td>\n",
       "      <td>person1</td>\n",
       "      <td>3999.99</td>\n",
       "      <td>1000</td>\n",
       "      <td>2024-03-31 12:45:36</td>\n",
       "      <td>root@192.168.29.120</td>\n",
       "    </tr>\n",
       "  </tbody>\n",
       "</table>\n",
       "</div>"
      ],
      "text/plain": [
       "   course_id                                        course_desc course_mentor  \\\n",
       "0        103  Full Stack Data Science course with hands on p...       person3   \n",
       "1        102  Full Stack Data Science course with hands on p...       person2   \n",
       "2        101  Full Stack Data Analytics course with hands on...       person1   \n",
       "\n",
       "  course_price  course_discount         course_date            user_info  \n",
       "0      6999.99                0 2024-03-31 12:44:18  root@192.168.29.120  \n",
       "1      6999.99             1000 2024-03-31 12:45:17  root@192.168.29.120  \n",
       "2      3999.99             1000 2024-03-31 12:45:36  root@192.168.29.120  "
      ]
     },
     "execution_count": 21,
     "metadata": {},
     "output_type": "execute_result"
    }
   ],
   "source": [
    "data.query(\"\"\"select * from course1\"\"\")"
   ]
  },
  {
   "cell_type": "code",
   "execution_count": 22,
   "id": "97ee1d2a",
   "metadata": {},
   "outputs": [
    {
     "name": "stdout",
     "output_type": "stream",
     "text": [
      "Success!\n"
     ]
    }
   ],
   "source": [
    "data.execute(\"\"\"\n",
    "create table ref_course(\n",
    "recored_insert_date datetime,\n",
    "record_insert_user varchar(255))\n",
    "\"\"\")"
   ]
  },
  {
   "cell_type": "code",
   "execution_count": 23,
   "id": "02d9dfcf",
   "metadata": {},
   "outputs": [
    {
     "name": "stdout",
     "output_type": "stream",
     "text": [
      "Sucess!\n"
     ]
    }
   ],
   "source": [
    "data.commit()"
   ]
  },
  {
   "cell_type": "markdown",
   "id": "d2249595",
   "metadata": {},
   "source": [
    "```sql\n",
    "DELIMITER $$\n",
    "CREATE TRIGGER course1_ref_before_insert\n",
    "BEFORE INSERT\n",
    "ON course1\n",
    "FOR EACH ROW\n",
    "BEGIN\n",
    "   DECLARE user_val varchar(255);\n",
    "   SET NEW.course_date = SYSDATE();\n",
    "   SELECT user() into user_val;\n",
    "   SET NEW.course_discount = \n",
    "       CASE\n",
    "           WHEN NEW.course_mentor = \"person3\" THEN 0\n",
    "           ELSE 1000\n",
    "       END;\n",
    "   INSERT INTO ref_course values(sysdate(), user_val);\n",
    "END $$\n",
    "DELIMITER ;\n",
    "```"
   ]
  },
  {
   "cell_type": "code",
   "execution_count": 9,
   "id": "7623b4a7",
   "metadata": {},
   "outputs": [
    {
     "name": "stdout",
     "output_type": "stream",
     "text": [
      "Success!\n"
     ]
    }
   ],
   "source": [
    "data.execute(\"\"\"\n",
    "insert into course1 (course_id,\n",
    "course_desc,\n",
    "course_mentor,\n",
    "course_price) values\n",
    "(104, \"Full Stack Data Analytics course with hands on projects\", \"person1\", 3999.99);\n",
    "\"\"\")"
   ]
  },
  {
   "cell_type": "code",
   "execution_count": 8,
   "id": "f2089912",
   "metadata": {},
   "outputs": [
    {
     "data": {
      "text/html": [
       "<div>\n",
       "<style scoped>\n",
       "    .dataframe tbody tr th:only-of-type {\n",
       "        vertical-align: middle;\n",
       "    }\n",
       "\n",
       "    .dataframe tbody tr th {\n",
       "        vertical-align: top;\n",
       "    }\n",
       "\n",
       "    .dataframe thead th {\n",
       "        text-align: right;\n",
       "    }\n",
       "</style>\n",
       "<table border=\"1\" class=\"dataframe\">\n",
       "  <thead>\n",
       "    <tr style=\"text-align: right;\">\n",
       "      <th></th>\n",
       "      <th>recored_insert_date</th>\n",
       "      <th>record_insert_user</th>\n",
       "    </tr>\n",
       "  </thead>\n",
       "  <tbody>\n",
       "    <tr>\n",
       "      <th>0</th>\n",
       "      <td>2024-04-01 10:29:43</td>\n",
       "      <td>root@192.168.29.120</td>\n",
       "    </tr>\n",
       "  </tbody>\n",
       "</table>\n",
       "</div>"
      ],
      "text/plain": [
       "  recored_insert_date   record_insert_user\n",
       "0 2024-04-01 10:29:43  root@192.168.29.120"
      ]
     },
     "execution_count": 8,
     "metadata": {},
     "output_type": "execute_result"
    }
   ],
   "source": [
    "data.query(\"\"\"\n",
    "select * from ref_course;\n",
    "\"\"\")"
   ]
  },
  {
   "cell_type": "code",
   "execution_count": 11,
   "id": "9313e278",
   "metadata": {},
   "outputs": [
    {
     "name": "stdout",
     "output_type": "stream",
     "text": [
      "Sucess!\n"
     ]
    }
   ],
   "source": [
    "data.commit()"
   ]
  },
  {
   "cell_type": "code",
   "execution_count": 9,
   "id": "3711b4a9",
   "metadata": {},
   "outputs": [
    {
     "name": "stdout",
     "output_type": "stream",
     "text": [
      "Success!\n"
     ]
    }
   ],
   "source": [
    "data.execute(\"\"\"\n",
    "insert into course1 (course_id,\n",
    "course_desc,\n",
    "course_mentor,\n",
    "course_price) values\n",
    "(105, \"Full Stack Data Science course with hands on projects\", \"person3\", 6999.99);\n",
    "\"\"\")"
   ]
  },
  {
   "cell_type": "code",
   "execution_count": 10,
   "id": "72da9bd7",
   "metadata": {},
   "outputs": [
    {
     "data": {
      "text/html": [
       "<div>\n",
       "<style scoped>\n",
       "    .dataframe tbody tr th:only-of-type {\n",
       "        vertical-align: middle;\n",
       "    }\n",
       "\n",
       "    .dataframe tbody tr th {\n",
       "        vertical-align: top;\n",
       "    }\n",
       "\n",
       "    .dataframe thead th {\n",
       "        text-align: right;\n",
       "    }\n",
       "</style>\n",
       "<table border=\"1\" class=\"dataframe\">\n",
       "  <thead>\n",
       "    <tr style=\"text-align: right;\">\n",
       "      <th></th>\n",
       "      <th>recored_insert_date</th>\n",
       "      <th>record_insert_user</th>\n",
       "    </tr>\n",
       "  </thead>\n",
       "  <tbody>\n",
       "    <tr>\n",
       "      <th>0</th>\n",
       "      <td>2024-04-01 10:29:43</td>\n",
       "      <td>root@192.168.29.120</td>\n",
       "    </tr>\n",
       "    <tr>\n",
       "      <th>1</th>\n",
       "      <td>2024-04-01 17:20:44</td>\n",
       "      <td>root@192.168.29.120</td>\n",
       "    </tr>\n",
       "  </tbody>\n",
       "</table>\n",
       "</div>"
      ],
      "text/plain": [
       "  recored_insert_date   record_insert_user\n",
       "0 2024-04-01 10:29:43  root@192.168.29.120\n",
       "1 2024-04-01 17:20:44  root@192.168.29.120"
      ]
     },
     "execution_count": 10,
     "metadata": {},
     "output_type": "execute_result"
    }
   ],
   "source": [
    "data.query(\"\"\"\n",
    "select * from ref_course;\n",
    "\"\"\")"
   ]
  },
  {
   "cell_type": "code",
   "execution_count": 11,
   "id": "7b17e19a",
   "metadata": {},
   "outputs": [
    {
     "name": "stdout",
     "output_type": "stream",
     "text": [
      "Sucess!\n"
     ]
    }
   ],
   "source": [
    "data.commit()"
   ]
  },
  {
   "cell_type": "code",
   "execution_count": 12,
   "id": "12062b7a",
   "metadata": {},
   "outputs": [
    {
     "data": {
      "text/html": [
       "<div>\n",
       "<style scoped>\n",
       "    .dataframe tbody tr th:only-of-type {\n",
       "        vertical-align: middle;\n",
       "    }\n",
       "\n",
       "    .dataframe tbody tr th {\n",
       "        vertical-align: top;\n",
       "    }\n",
       "\n",
       "    .dataframe thead th {\n",
       "        text-align: right;\n",
       "    }\n",
       "</style>\n",
       "<table border=\"1\" class=\"dataframe\">\n",
       "  <thead>\n",
       "    <tr style=\"text-align: right;\">\n",
       "      <th></th>\n",
       "      <th>course_id</th>\n",
       "      <th>course_desc</th>\n",
       "      <th>course_mentor</th>\n",
       "      <th>course_price</th>\n",
       "      <th>course_discount</th>\n",
       "      <th>course_date</th>\n",
       "      <th>user_info</th>\n",
       "    </tr>\n",
       "  </thead>\n",
       "  <tbody>\n",
       "    <tr>\n",
       "      <th>0</th>\n",
       "      <td>103</td>\n",
       "      <td>Full Stack Data Science course with hands on p...</td>\n",
       "      <td>person3</td>\n",
       "      <td>6999.99</td>\n",
       "      <td>0</td>\n",
       "      <td>2024-03-31 12:44:18</td>\n",
       "      <td>root@192.168.29.120</td>\n",
       "    </tr>\n",
       "    <tr>\n",
       "      <th>1</th>\n",
       "      <td>102</td>\n",
       "      <td>Full Stack Data Science course with hands on p...</td>\n",
       "      <td>person2</td>\n",
       "      <td>6999.99</td>\n",
       "      <td>1000</td>\n",
       "      <td>2024-03-31 12:45:17</td>\n",
       "      <td>root@192.168.29.120</td>\n",
       "    </tr>\n",
       "    <tr>\n",
       "      <th>2</th>\n",
       "      <td>101</td>\n",
       "      <td>Full Stack Data Analytics course with hands on...</td>\n",
       "      <td>person1</td>\n",
       "      <td>3999.99</td>\n",
       "      <td>1000</td>\n",
       "      <td>2024-03-31 12:45:36</td>\n",
       "      <td>root@192.168.29.120</td>\n",
       "    </tr>\n",
       "    <tr>\n",
       "      <th>3</th>\n",
       "      <td>104</td>\n",
       "      <td>Full Stack Data Analytics course with hands on...</td>\n",
       "      <td>person1</td>\n",
       "      <td>3999.99</td>\n",
       "      <td>1000</td>\n",
       "      <td>2024-04-01 10:29:43</td>\n",
       "      <td>root@192.168.29.120</td>\n",
       "    </tr>\n",
       "    <tr>\n",
       "      <th>4</th>\n",
       "      <td>105</td>\n",
       "      <td>Full Stack Data Science course with hands on p...</td>\n",
       "      <td>person3</td>\n",
       "      <td>6999.99</td>\n",
       "      <td>0</td>\n",
       "      <td>2024-04-01 17:20:44</td>\n",
       "      <td>root@192.168.29.120</td>\n",
       "    </tr>\n",
       "  </tbody>\n",
       "</table>\n",
       "</div>"
      ],
      "text/plain": [
       "   course_id                                        course_desc course_mentor  \\\n",
       "0        103  Full Stack Data Science course with hands on p...       person3   \n",
       "1        102  Full Stack Data Science course with hands on p...       person2   \n",
       "2        101  Full Stack Data Analytics course with hands on...       person1   \n",
       "3        104  Full Stack Data Analytics course with hands on...       person1   \n",
       "4        105  Full Stack Data Science course with hands on p...       person3   \n",
       "\n",
       "  course_price  course_discount         course_date            user_info  \n",
       "0      6999.99                0 2024-03-31 12:44:18  root@192.168.29.120  \n",
       "1      6999.99             1000 2024-03-31 12:45:17  root@192.168.29.120  \n",
       "2      3999.99             1000 2024-03-31 12:45:36  root@192.168.29.120  \n",
       "3      3999.99             1000 2024-04-01 10:29:43  root@192.168.29.120  \n",
       "4      6999.99                0 2024-04-01 17:20:44  root@192.168.29.120  "
      ]
     },
     "execution_count": 12,
     "metadata": {},
     "output_type": "execute_result"
    }
   ],
   "source": [
    "data.query(\"\"\"\n",
    "select * from course1\n",
    "\"\"\")"
   ]
  },
  {
   "cell_type": "code",
   "execution_count": 8,
   "id": "eddbbaf6",
   "metadata": {},
   "outputs": [
    {
     "name": "stdout",
     "output_type": "stream",
     "text": [
      "Success!\n"
     ]
    }
   ],
   "source": [
    "data.execute(\"\"\"\n",
    "create table employee (\n",
    "e_id int NOT NULL unique,\n",
    "Name varchar(255),\n",
    "Salary int,\n",
    "department_id int)\n",
    "\"\"\")"
   ]
  },
  {
   "cell_type": "code",
   "execution_count": 9,
   "id": "d1a6c4e6",
   "metadata": {},
   "outputs": [
    {
     "name": "stdout",
     "output_type": "stream",
     "text": [
      "Sucess!\n"
     ]
    }
   ],
   "source": [
    "data.commit()"
   ]
  },
  {
   "cell_type": "code",
   "execution_count": 10,
   "id": "eb0cc091",
   "metadata": {},
   "outputs": [
    {
     "name": "stdout",
     "output_type": "stream",
     "text": [
      "Success!\n"
     ]
    }
   ],
   "source": [
    "data.execute(\"\"\"\n",
    "create table department(\n",
    "id int NOT NULL unique,\n",
    "Name varchar(255))\n",
    "\"\"\")"
   ]
  },
  {
   "cell_type": "code",
   "execution_count": 11,
   "id": "401251fa",
   "metadata": {},
   "outputs": [
    {
     "name": "stdout",
     "output_type": "stream",
     "text": [
      "Sucess!\n"
     ]
    }
   ],
   "source": [
    "data.commit()"
   ]
  },
  {
   "cell_type": "markdown",
   "id": "6b98cd14",
   "metadata": {},
   "source": [
    "```sql\n",
    "DELIMITER $$\n",
    "\n",
    "CREATE TRIGGER auto_insert_department\n",
    "AFTER INSERT\n",
    "ON employee\n",
    "FOR EACH ROW\n",
    "BEGIN\n",
    "  DECLARE dept_name VARCHAR(255);\n",
    "  IF NEW.department_id = 1 THEN\n",
    "    SET dept_name = 'IT';\n",
    "  ELSEIF NEW.department_id = 2 THEN\n",
    "    SET dept_name = 'Sales';\n",
    "  ELSEIF NEW.department_id = 3 THEN\n",
    "    SET dept_name = 'HR';\n",
    "  ELSE\n",
    "    SET dept_name = 'Other';\n",
    "  END IF;\n",
    "  \n",
    "  INSERT INTO department (id, Name) VALUES (NEW.department_id, dept_name);\n",
    "END$$\n",
    "\n",
    "DELIMITER ;\n",
    "```"
   ]
  },
  {
   "cell_type": "code",
   "execution_count": 12,
   "id": "67d13626",
   "metadata": {},
   "outputs": [
    {
     "data": {
      "text/html": [
       "<div>\n",
       "<style scoped>\n",
       "    .dataframe tbody tr th:only-of-type {\n",
       "        vertical-align: middle;\n",
       "    }\n",
       "\n",
       "    .dataframe tbody tr th {\n",
       "        vertical-align: top;\n",
       "    }\n",
       "\n",
       "    .dataframe thead th {\n",
       "        text-align: right;\n",
       "    }\n",
       "</style>\n",
       "<table border=\"1\" class=\"dataframe\">\n",
       "  <thead>\n",
       "    <tr style=\"text-align: right;\">\n",
       "      <th></th>\n",
       "    </tr>\n",
       "  </thead>\n",
       "  <tbody>\n",
       "  </tbody>\n",
       "</table>\n",
       "</div>"
      ],
      "text/plain": [
       "Empty DataFrame\n",
       "Columns: []\n",
       "Index: []"
      ]
     },
     "execution_count": 12,
     "metadata": {},
     "output_type": "execute_result"
    }
   ],
   "source": [
    "data.query(\"\"\"\n",
    "select * from employee\n",
    "\"\"\")"
   ]
  },
  {
   "cell_type": "code",
   "execution_count": 14,
   "id": "a19bdf20",
   "metadata": {
    "scrolled": false
   },
   "outputs": [
    {
     "name": "stdout",
     "output_type": "stream",
     "text": [
      "Success!\n"
     ]
    }
   ],
   "source": [
    "data.execute(\"\"\"\n",
    "insert into employee values (101, \"Jack\", 90000, 1)\n",
    "\"\"\")"
   ]
  },
  {
   "cell_type": "code",
   "execution_count": 9,
   "id": "dd8e319f",
   "metadata": {},
   "outputs": [
    {
     "data": {
      "text/html": [
       "<div>\n",
       "<style scoped>\n",
       "    .dataframe tbody tr th:only-of-type {\n",
       "        vertical-align: middle;\n",
       "    }\n",
       "\n",
       "    .dataframe tbody tr th {\n",
       "        vertical-align: top;\n",
       "    }\n",
       "\n",
       "    .dataframe thead th {\n",
       "        text-align: right;\n",
       "    }\n",
       "</style>\n",
       "<table border=\"1\" class=\"dataframe\">\n",
       "  <thead>\n",
       "    <tr style=\"text-align: right;\">\n",
       "      <th></th>\n",
       "      <th>e_id</th>\n",
       "      <th>Name</th>\n",
       "      <th>Salary</th>\n",
       "      <th>department_id</th>\n",
       "    </tr>\n",
       "  </thead>\n",
       "  <tbody>\n",
       "    <tr>\n",
       "      <th>0</th>\n",
       "      <td>101</td>\n",
       "      <td>Jack</td>\n",
       "      <td>90000</td>\n",
       "      <td>1</td>\n",
       "    </tr>\n",
       "    <tr>\n",
       "      <th>1</th>\n",
       "      <td>102</td>\n",
       "      <td>Paul</td>\n",
       "      <td>80000</td>\n",
       "      <td>2</td>\n",
       "    </tr>\n",
       "  </tbody>\n",
       "</table>\n",
       "</div>"
      ],
      "text/plain": [
       "   e_id  Name  Salary  department_id\n",
       "0   101  Jack   90000              1\n",
       "1   102  Paul   80000              2"
      ]
     },
     "execution_count": 9,
     "metadata": {},
     "output_type": "execute_result"
    }
   ],
   "source": [
    "data.query(\"\"\"\n",
    "select * from employee\n",
    "\"\"\")"
   ]
  },
  {
   "cell_type": "code",
   "execution_count": 7,
   "id": "687c4d67",
   "metadata": {},
   "outputs": [
    {
     "data": {
      "text/html": [
       "<div>\n",
       "<style scoped>\n",
       "    .dataframe tbody tr th:only-of-type {\n",
       "        vertical-align: middle;\n",
       "    }\n",
       "\n",
       "    .dataframe tbody tr th {\n",
       "        vertical-align: top;\n",
       "    }\n",
       "\n",
       "    .dataframe thead th {\n",
       "        text-align: right;\n",
       "    }\n",
       "</style>\n",
       "<table border=\"1\" class=\"dataframe\">\n",
       "  <thead>\n",
       "    <tr style=\"text-align: right;\">\n",
       "      <th></th>\n",
       "      <th>id</th>\n",
       "      <th>Name</th>\n",
       "    </tr>\n",
       "  </thead>\n",
       "  <tbody>\n",
       "    <tr>\n",
       "      <th>0</th>\n",
       "      <td>1</td>\n",
       "      <td>IT</td>\n",
       "    </tr>\n",
       "    <tr>\n",
       "      <th>1</th>\n",
       "      <td>2</td>\n",
       "      <td>Sales</td>\n",
       "    </tr>\n",
       "  </tbody>\n",
       "</table>\n",
       "</div>"
      ],
      "text/plain": [
       "   id   Name\n",
       "0   1     IT\n",
       "1   2  Sales"
      ]
     },
     "execution_count": 7,
     "metadata": {},
     "output_type": "execute_result"
    }
   ],
   "source": [
    "data.query(\"\"\"\n",
    "select * from department\n",
    "\"\"\")"
   ]
  },
  {
   "cell_type": "code",
   "execution_count": 8,
   "id": "def8a116",
   "metadata": {},
   "outputs": [
    {
     "name": "stdout",
     "output_type": "stream",
     "text": [
      "Success!\n"
     ]
    }
   ],
   "source": [
    "data.execute(\"\"\"\n",
    "insert into employee values (103, \"Anna\", 55000, 5)\n",
    "\"\"\")"
   ]
  },
  {
   "cell_type": "code",
   "execution_count": 9,
   "id": "a8de10f8",
   "metadata": {},
   "outputs": [
    {
     "name": "stdout",
     "output_type": "stream",
     "text": [
      "Success!\n"
     ]
    }
   ],
   "source": [
    "data.commit()"
   ]
  },
  {
   "cell_type": "code",
   "execution_count": 10,
   "id": "52958931",
   "metadata": {},
   "outputs": [
    {
     "data": {
      "text/html": [
       "<div>\n",
       "<style scoped>\n",
       "    .dataframe tbody tr th:only-of-type {\n",
       "        vertical-align: middle;\n",
       "    }\n",
       "\n",
       "    .dataframe tbody tr th {\n",
       "        vertical-align: top;\n",
       "    }\n",
       "\n",
       "    .dataframe thead th {\n",
       "        text-align: right;\n",
       "    }\n",
       "</style>\n",
       "<table border=\"1\" class=\"dataframe\">\n",
       "  <thead>\n",
       "    <tr style=\"text-align: right;\">\n",
       "      <th></th>\n",
       "      <th>id</th>\n",
       "      <th>Name</th>\n",
       "    </tr>\n",
       "  </thead>\n",
       "  <tbody>\n",
       "    <tr>\n",
       "      <th>0</th>\n",
       "      <td>1</td>\n",
       "      <td>IT</td>\n",
       "    </tr>\n",
       "    <tr>\n",
       "      <th>1</th>\n",
       "      <td>2</td>\n",
       "      <td>Sales</td>\n",
       "    </tr>\n",
       "    <tr>\n",
       "      <th>2</th>\n",
       "      <td>5</td>\n",
       "      <td>Other</td>\n",
       "    </tr>\n",
       "  </tbody>\n",
       "</table>\n",
       "</div>"
      ],
      "text/plain": [
       "   id   Name\n",
       "0   1     IT\n",
       "1   2  Sales\n",
       "2   5  Other"
      ]
     },
     "execution_count": 10,
     "metadata": {},
     "output_type": "execute_result"
    }
   ],
   "source": [
    "data.query(\"\"\"\n",
    "select * from department\n",
    "\"\"\")"
   ]
  },
  {
   "cell_type": "markdown",
   "id": "1ba80dbc",
   "metadata": {},
   "source": [
    "**After Delete**"
   ]
  },
  {
   "cell_type": "markdown",
   "id": "d558964c",
   "metadata": {},
   "source": [
    "```sql\n",
    "DELIMITER $$\n",
    "CREATE TRIGGER auto_delete_department\n",
    "AFTER DELETE\n",
    "ON employee\n",
    "FOR EACH ROW\n",
    "BEGIN\n",
    "  DELETE FROM department WHERE id = OLD.department_id;\n",
    "END $$\n",
    "DELIMITER ;\n",
    "```"
   ]
  },
  {
   "cell_type": "code",
   "execution_count": 11,
   "id": "643361b8",
   "metadata": {},
   "outputs": [
    {
     "name": "stdout",
     "output_type": "stream",
     "text": [
      "Success!\n"
     ]
    }
   ],
   "source": [
    "data.execute(\"\"\"\n",
    "DELETE FROM employee WHERE name = \"anna\";\n",
    "\"\"\")"
   ]
  },
  {
   "cell_type": "code",
   "execution_count": 12,
   "id": "98988e40",
   "metadata": {},
   "outputs": [
    {
     "name": "stdout",
     "output_type": "stream",
     "text": [
      "Success!\n"
     ]
    }
   ],
   "source": [
    "data.commit()"
   ]
  },
  {
   "cell_type": "code",
   "execution_count": 13,
   "id": "ac033701",
   "metadata": {},
   "outputs": [
    {
     "data": {
      "text/html": [
       "<div>\n",
       "<style scoped>\n",
       "    .dataframe tbody tr th:only-of-type {\n",
       "        vertical-align: middle;\n",
       "    }\n",
       "\n",
       "    .dataframe tbody tr th {\n",
       "        vertical-align: top;\n",
       "    }\n",
       "\n",
       "    .dataframe thead th {\n",
       "        text-align: right;\n",
       "    }\n",
       "</style>\n",
       "<table border=\"1\" class=\"dataframe\">\n",
       "  <thead>\n",
       "    <tr style=\"text-align: right;\">\n",
       "      <th></th>\n",
       "      <th>id</th>\n",
       "      <th>Name</th>\n",
       "    </tr>\n",
       "  </thead>\n",
       "  <tbody>\n",
       "    <tr>\n",
       "      <th>0</th>\n",
       "      <td>1</td>\n",
       "      <td>IT</td>\n",
       "    </tr>\n",
       "    <tr>\n",
       "      <th>1</th>\n",
       "      <td>2</td>\n",
       "      <td>Sales</td>\n",
       "    </tr>\n",
       "  </tbody>\n",
       "</table>\n",
       "</div>"
      ],
      "text/plain": [
       "   id   Name\n",
       "0   1     IT\n",
       "1   2  Sales"
      ]
     },
     "execution_count": 13,
     "metadata": {},
     "output_type": "execute_result"
    }
   ],
   "source": [
    "data.query(\"\"\"\n",
    "select * from department\n",
    "\"\"\")"
   ]
  },
  {
   "cell_type": "code",
   "execution_count": 14,
   "id": "005bf19d",
   "metadata": {},
   "outputs": [
    {
     "name": "stdout",
     "output_type": "stream",
     "text": [
      "Success!\n"
     ]
    }
   ],
   "source": [
    "data.execute(\"\"\"\n",
    "create table old_employee (\n",
    "e_id int NOT NULL unique,\n",
    "Name varchar(255),\n",
    "department_id int)\n",
    "\"\"\")"
   ]
  },
  {
   "cell_type": "code",
   "execution_count": 15,
   "id": "a4019316",
   "metadata": {},
   "outputs": [
    {
     "name": "stdout",
     "output_type": "stream",
     "text": [
      "Success!\n"
     ]
    }
   ],
   "source": [
    "data.commit()"
   ]
  },
  {
   "cell_type": "code",
   "execution_count": 16,
   "id": "2e3ac19e",
   "metadata": {},
   "outputs": [
    {
     "data": {
      "text/html": [
       "<div>\n",
       "<style scoped>\n",
       "    .dataframe tbody tr th:only-of-type {\n",
       "        vertical-align: middle;\n",
       "    }\n",
       "\n",
       "    .dataframe tbody tr th {\n",
       "        vertical-align: top;\n",
       "    }\n",
       "\n",
       "    .dataframe thead th {\n",
       "        text-align: right;\n",
       "    }\n",
       "</style>\n",
       "<table border=\"1\" class=\"dataframe\">\n",
       "  <thead>\n",
       "    <tr style=\"text-align: right;\">\n",
       "      <th></th>\n",
       "      <th>Tables_in_triggers</th>\n",
       "    </tr>\n",
       "  </thead>\n",
       "  <tbody>\n",
       "    <tr>\n",
       "      <th>0</th>\n",
       "      <td>course</td>\n",
       "    </tr>\n",
       "    <tr>\n",
       "      <th>1</th>\n",
       "      <td>course1</td>\n",
       "    </tr>\n",
       "    <tr>\n",
       "      <th>2</th>\n",
       "      <td>course_update</td>\n",
       "    </tr>\n",
       "    <tr>\n",
       "      <th>3</th>\n",
       "      <td>department</td>\n",
       "    </tr>\n",
       "    <tr>\n",
       "      <th>4</th>\n",
       "      <td>employee</td>\n",
       "    </tr>\n",
       "    <tr>\n",
       "      <th>5</th>\n",
       "      <td>old_employee</td>\n",
       "    </tr>\n",
       "    <tr>\n",
       "      <th>6</th>\n",
       "      <td>ref_course</td>\n",
       "    </tr>\n",
       "  </tbody>\n",
       "</table>\n",
       "</div>"
      ],
      "text/plain": [
       "  Tables_in_triggers\n",
       "0             course\n",
       "1            course1\n",
       "2      course_update\n",
       "3         department\n",
       "4           employee\n",
       "5       old_employee\n",
       "6         ref_course"
      ]
     },
     "execution_count": 16,
     "metadata": {},
     "output_type": "execute_result"
    }
   ],
   "source": [
    "data.query(\"\"\"\n",
    "show tables;\n",
    "\"\"\")"
   ]
  },
  {
   "cell_type": "markdown",
   "id": "f6039106",
   "metadata": {},
   "source": [
    "```sql\n",
    "DELIMITER $$\n",
    "CREATE TRIGGER insert_into_old_employee\n",
    "AFTER DELETE\n",
    "ON employee\n",
    "FOR EACH ROW\n",
    "BEGIN\n",
    "  IF NOT EXISTS (SELECT * FROM old_employee WHERE e_id = OLD.e_id) THEN\n",
    "    INSERT INTO old_employee VALUES(OLD.e_id, OLD.Name, OLD.department_id);\n",
    "  END IF;\n",
    "END $$\n",
    "DELIMITER ;\n",
    "```"
   ]
  },
  {
   "cell_type": "code",
   "execution_count": 17,
   "id": "e1407427",
   "metadata": {},
   "outputs": [
    {
     "name": "stdout",
     "output_type": "stream",
     "text": [
      "Success!\n"
     ]
    }
   ],
   "source": [
    "data.execute(\"\"\"\n",
    "insert into employee values (103, \"Anna\", 55000, 5)\n",
    "\"\"\")"
   ]
  },
  {
   "cell_type": "code",
   "execution_count": 32,
   "id": "cf872ce5",
   "metadata": {},
   "outputs": [
    {
     "data": {
      "text/html": [
       "<div>\n",
       "<style scoped>\n",
       "    .dataframe tbody tr th:only-of-type {\n",
       "        vertical-align: middle;\n",
       "    }\n",
       "\n",
       "    .dataframe tbody tr th {\n",
       "        vertical-align: top;\n",
       "    }\n",
       "\n",
       "    .dataframe thead th {\n",
       "        text-align: right;\n",
       "    }\n",
       "</style>\n",
       "<table border=\"1\" class=\"dataframe\">\n",
       "  <thead>\n",
       "    <tr style=\"text-align: right;\">\n",
       "      <th></th>\n",
       "      <th>id</th>\n",
       "      <th>Name</th>\n",
       "    </tr>\n",
       "  </thead>\n",
       "  <tbody>\n",
       "    <tr>\n",
       "      <th>0</th>\n",
       "      <td>1</td>\n",
       "      <td>IT</td>\n",
       "    </tr>\n",
       "    <tr>\n",
       "      <th>1</th>\n",
       "      <td>2</td>\n",
       "      <td>Sales</td>\n",
       "    </tr>\n",
       "  </tbody>\n",
       "</table>\n",
       "</div>"
      ],
      "text/plain": [
       "   id   Name\n",
       "0   1     IT\n",
       "1   2  Sales"
      ]
     },
     "execution_count": 32,
     "metadata": {},
     "output_type": "execute_result"
    }
   ],
   "source": [
    "data.query(\"\"\"\n",
    "select * from department\n",
    "\"\"\")"
   ]
  },
  {
   "cell_type": "code",
   "execution_count": 31,
   "id": "086efbfa",
   "metadata": {},
   "outputs": [
    {
     "data": {
      "text/html": [
       "<div>\n",
       "<style scoped>\n",
       "    .dataframe tbody tr th:only-of-type {\n",
       "        vertical-align: middle;\n",
       "    }\n",
       "\n",
       "    .dataframe tbody tr th {\n",
       "        vertical-align: top;\n",
       "    }\n",
       "\n",
       "    .dataframe thead th {\n",
       "        text-align: right;\n",
       "    }\n",
       "</style>\n",
       "<table border=\"1\" class=\"dataframe\">\n",
       "  <thead>\n",
       "    <tr style=\"text-align: right;\">\n",
       "      <th></th>\n",
       "      <th>e_id</th>\n",
       "      <th>Name</th>\n",
       "      <th>department_id</th>\n",
       "    </tr>\n",
       "  </thead>\n",
       "  <tbody>\n",
       "    <tr>\n",
       "      <th>0</th>\n",
       "      <td>103</td>\n",
       "      <td>Anna</td>\n",
       "      <td>5</td>\n",
       "    </tr>\n",
       "  </tbody>\n",
       "</table>\n",
       "</div>"
      ],
      "text/plain": [
       "   e_id  Name  department_id\n",
       "0   103  Anna              5"
      ]
     },
     "execution_count": 31,
     "metadata": {},
     "output_type": "execute_result"
    }
   ],
   "source": [
    "data.query(\"\"\"\n",
    "select * from old_employee;\n",
    "\"\"\")"
   ]
  },
  {
   "cell_type": "code",
   "execution_count": 22,
   "id": "88f6b806",
   "metadata": {},
   "outputs": [
    {
     "name": "stdout",
     "output_type": "stream",
     "text": [
      "Success!\n"
     ]
    }
   ],
   "source": [
    "data.commit()"
   ]
  },
  {
   "cell_type": "code",
   "execution_count": 27,
   "id": "b2caf5c2",
   "metadata": {},
   "outputs": [
    {
     "name": "stdout",
     "output_type": "stream",
     "text": [
      "Success!\n"
     ]
    }
   ],
   "source": [
    "data.execute(\"\"\"\n",
    "DELETE FROM employee WHERE name = \"anna\";\n",
    "\"\"\")"
   ]
  },
  {
   "cell_type": "code",
   "execution_count": 29,
   "id": "6914c94e",
   "metadata": {},
   "outputs": [
    {
     "name": "stdout",
     "output_type": "stream",
     "text": [
      "Success!\n"
     ]
    }
   ],
   "source": [
    "data.commit()"
   ]
  },
  {
   "cell_type": "code",
   "execution_count": 30,
   "id": "2683503c",
   "metadata": {},
   "outputs": [
    {
     "data": {
      "text/html": [
       "<div>\n",
       "<style scoped>\n",
       "    .dataframe tbody tr th:only-of-type {\n",
       "        vertical-align: middle;\n",
       "    }\n",
       "\n",
       "    .dataframe tbody tr th {\n",
       "        vertical-align: top;\n",
       "    }\n",
       "\n",
       "    .dataframe thead th {\n",
       "        text-align: right;\n",
       "    }\n",
       "</style>\n",
       "<table border=\"1\" class=\"dataframe\">\n",
       "  <thead>\n",
       "    <tr style=\"text-align: right;\">\n",
       "      <th></th>\n",
       "      <th>e_id</th>\n",
       "      <th>Name</th>\n",
       "      <th>Salary</th>\n",
       "      <th>department_id</th>\n",
       "    </tr>\n",
       "  </thead>\n",
       "  <tbody>\n",
       "    <tr>\n",
       "      <th>0</th>\n",
       "      <td>101</td>\n",
       "      <td>Jack</td>\n",
       "      <td>90000</td>\n",
       "      <td>1</td>\n",
       "    </tr>\n",
       "    <tr>\n",
       "      <th>1</th>\n",
       "      <td>102</td>\n",
       "      <td>Paul</td>\n",
       "      <td>80000</td>\n",
       "      <td>2</td>\n",
       "    </tr>\n",
       "  </tbody>\n",
       "</table>\n",
       "</div>"
      ],
      "text/plain": [
       "   e_id  Name  Salary  department_id\n",
       "0   101  Jack   90000              1\n",
       "1   102  Paul   80000              2"
      ]
     },
     "execution_count": 30,
     "metadata": {},
     "output_type": "execute_result"
    }
   ],
   "source": [
    "data.query(\"\"\"\n",
    "select * from employee\n",
    "\"\"\")"
   ]
  },
  {
   "cell_type": "code",
   "execution_count": null,
   "id": "8fea6789",
   "metadata": {},
   "outputs": [],
   "source": []
  }
 ],
 "metadata": {
  "kernelspec": {
   "display_name": "Python 3 (ipykernel)",
   "language": "python",
   "name": "python3"
  },
  "language_info": {
   "codemirror_mode": {
    "name": "ipython",
    "version": 3
   },
   "file_extension": ".py",
   "mimetype": "text/x-python",
   "name": "python",
   "nbconvert_exporter": "python",
   "pygments_lexer": "ipython3",
   "version": "3.10.13"
  }
 },
 "nbformat": 4,
 "nbformat_minor": 5
}
