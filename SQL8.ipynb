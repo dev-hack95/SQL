{
 "cells": [
  {
   "cell_type": "code",
   "execution_count": 1,
   "id": "f4077ed5",
   "metadata": {},
   "outputs": [],
   "source": [
    "import warnings\n",
    "import pandas as pd\n",
    "import matplotlib.pyplot as plt\n",
    "from sqlalchemy import text\n",
    "from sqlalchemy.orm import sessionmaker\n",
    "from sqlalchemy.engine import create_engine\n",
    "\n",
    "# Config\n",
    "warnings.filterwarnings(\"ignore\")\n",
    "pd.set_option(\"display.max_columns\", None)"
   ]
  },
  {
   "cell_type": "code",
   "execution_count": 2,
   "id": "b0e1fbcf",
   "metadata": {},
   "outputs": [],
   "source": [
    "class DataBaseSession:\n",
    "    def __init__(self, db_name: str) -> None:\n",
    "        self.db_user = 'root'\n",
    "        self.db_password = 'rushi12345'\n",
    "        self.db_host = '192.168.29.7'\n",
    "        self.db_name = db_name\n",
    "    \n",
    "    def LocalSession(self) -> sessionmaker:\n",
    "        engine = create_engine(f\"mysql+pymysql://{self.db_user}:{self.db_password}@{self.db_host}/{self.db_name}\")\n",
    "        SessionLocal = sessionmaker(autoflush=True, bind=engine)\n",
    "        return SessionLocal()"
   ]
  },
  {
   "cell_type": "code",
   "execution_count": 3,
   "id": "181083e5",
   "metadata": {},
   "outputs": [],
   "source": [
    "session = DataBaseSession('test_partition')\n",
    "db = session.LocalSession()"
   ]
  },
  {
   "cell_type": "code",
   "execution_count": 4,
   "id": "a3c482de",
   "metadata": {},
   "outputs": [],
   "source": [
    "class SQL8:\n",
    "    def __init__(self) -> None:\n",
    "        pass\n",
    "    \n",
    "    def query(self, query: str) -> pd.DataFrame:\n",
    "        return pd.DataFrame(db.execute(text(query)).fetchall())"
   ]
  },
  {
   "cell_type": "code",
   "execution_count": 5,
   "id": "25106a6f",
   "metadata": {},
   "outputs": [],
   "source": [
    "data = SQL8()"
   ]
  },
  {
   "cell_type": "code",
   "execution_count": 6,
   "id": "dc4395d8",
   "metadata": {},
   "outputs": [
    {
     "data": {
      "text/html": [
       "<div>\n",
       "<style scoped>\n",
       "    .dataframe tbody tr th:only-of-type {\n",
       "        vertical-align: middle;\n",
       "    }\n",
       "\n",
       "    .dataframe tbody tr th {\n",
       "        vertical-align: top;\n",
       "    }\n",
       "\n",
       "    .dataframe thead th {\n",
       "        text-align: right;\n",
       "    }\n",
       "</style>\n",
       "<table border=\"1\" class=\"dataframe\">\n",
       "  <thead>\n",
       "    <tr style=\"text-align: right;\">\n",
       "      <th></th>\n",
       "      <th>Tables_in_test_partition</th>\n",
       "    </tr>\n",
       "  </thead>\n",
       "  <tbody>\n",
       "    <tr>\n",
       "      <th>0</th>\n",
       "      <td>course</td>\n",
       "    </tr>\n",
       "    <tr>\n",
       "      <th>1</th>\n",
       "      <td>course1</td>\n",
       "    </tr>\n",
       "    <tr>\n",
       "      <th>2</th>\n",
       "      <td>course2</td>\n",
       "    </tr>\n",
       "  </tbody>\n",
       "</table>\n",
       "</div>"
      ],
      "text/plain": [
       "  Tables_in_test_partition\n",
       "0                   course\n",
       "1                  course1\n",
       "2                  course2"
      ]
     },
     "execution_count": 6,
     "metadata": {},
     "output_type": "execute_result"
    }
   ],
   "source": [
    "data.query(\"\"\"\n",
    "show tables;\n",
    "\"\"\")"
   ]
  },
  {
   "cell_type": "code",
   "execution_count": 7,
   "id": "073c9cfe",
   "metadata": {},
   "outputs": [
    {
     "data": {
      "text/plain": [
       "<sqlalchemy.engine.cursor.CursorResult at 0x1b8f9b16320>"
      ]
     },
     "execution_count": 7,
     "metadata": {},
     "output_type": "execute_result"
    }
   ],
   "source": [
    "db.execute(text(\"\"\"\n",
    "create table course(\n",
    "course_id int NOT NULL,\n",
    "course_name varchar(255),\n",
    "course_title varchar(255),\n",
    "course_desc varchar(255),\n",
    "launch_date date,\n",
    "course_fee decimal(20, 6),\n",
    "course_mentor varchar(255),\n",
    "course_launch_year int);\n",
    "\"\"\"))"
   ]
  },
  {
   "cell_type": "code",
   "execution_count": 8,
   "id": "a652e1bd",
   "metadata": {},
   "outputs": [
    {
     "data": {
      "text/plain": [
       "<sqlalchemy.engine.cursor.CursorResult at 0x1b8f9b16260>"
      ]
     },
     "execution_count": 8,
     "metadata": {},
     "output_type": "execute_result"
    }
   ],
   "source": [
    "db.execute(text(\"\"\"\n",
    "commit;\n",
    "\"\"\"))"
   ]
  },
  {
   "cell_type": "code",
   "execution_count": 10,
   "id": "d03c70ae",
   "metadata": {},
   "outputs": [
    {
     "data": {
      "text/html": [
       "<div>\n",
       "<style scoped>\n",
       "    .dataframe tbody tr th:only-of-type {\n",
       "        vertical-align: middle;\n",
       "    }\n",
       "\n",
       "    .dataframe tbody tr th {\n",
       "        vertical-align: top;\n",
       "    }\n",
       "\n",
       "    .dataframe thead th {\n",
       "        text-align: right;\n",
       "    }\n",
       "</style>\n",
       "<table border=\"1\" class=\"dataframe\">\n",
       "  <thead>\n",
       "    <tr style=\"text-align: right;\">\n",
       "      <th></th>\n",
       "    </tr>\n",
       "  </thead>\n",
       "  <tbody>\n",
       "  </tbody>\n",
       "</table>\n",
       "</div>"
      ],
      "text/plain": [
       "Empty DataFrame\n",
       "Columns: []\n",
       "Index: []"
      ]
     },
     "execution_count": 10,
     "metadata": {},
     "output_type": "execute_result"
    }
   ],
   "source": [
    "data.query(\"\"\"select * from course\"\"\")"
   ]
  },
  {
   "cell_type": "markdown",
   "id": "4d122245",
   "metadata": {},
   "source": [
    "1) What is partition in SQL?\n",
    "   \n",
    "   In SQL, a partition is a division of a large dataset into smaller, more manageable parts. This division is based on a      specific column or expression, and each partition can be processed independently.\n",
    "   \n",
    "2) Why do we use partition in SQL?\n",
    "   \n",
    "   Partitions are used for various purposes, including:\n",
    "\n",
    "   * Performance optimization: By partitioning a large table, you can improve query performance, as queries only need to   process a subset of the data rather than the entire table.\n",
    "   * Data management: Partitions can help manage data more efficiently, especially in scenarios where data needs to be   archived or purged regularly.\n",
    "   * Maintenance operations: Partitions can make certain maintenance operations, such as index rebuilds or backup operations,    more efficient by operating on smaller, manageable partitions instead of the entire dataset."
   ]
  },
  {
   "cell_type": "markdown",
   "id": "f09b6edc",
   "metadata": {},
   "source": [
    "1) What is partition in SQL?\n",
    "A partition in SQL is a way to divide a large table into smaller, more manageable parts based on a specific column or expression. Each part is called a partition and behaves like a separate table, allowing for easier data management and improved query performance.\n",
    "\n",
    "2) Why do we use partition in SQL?\n",
    "Partitions are used in SQL for several reasons:\n",
    "\n",
    "Improved Performance: By dividing data into smaller partitions, SQL can perform operations such as searches, updates, and deletions more efficiently.\n",
    "Easier Data Management: Partitions allow for easier management of large datasets, such as archiving old data or moving partitions to different storage devices.\n",
    "Query Optimization: Queries that involve partitioned tables can be optimized to only search relevant partitions, improving overall query performance.\n",
    "3) Example of code in SQL and show tables to understand the concept instead of writing create table statement\n",
    "   \n",
    "   Consider a table sales_data with the following columns: date, product_id, sales_amount.\n",
    "\n",
    "   Let's partition this table by date into monthly partitions. Each partition will contain data for a specific month.\n",
    "\n",
    "   Before Partitioning:\n",
    "   ```sql\n",
    "   SELECT * FROM sales_data;\n",
    "   ```\n",
    "   \n",
    "   ```table\n",
    "   date       | product_id | sales_amount\n",
    "   -----------|------------|-------------\n",
    "   2024-01-01 | 1          | 100\n",
    "   2024-01-05 | 2          | 150\n",
    "   2024-02-10 | 1          | 200\n",
    "   2024-02-15 | 3          | 120\n",
    "   ```\n",
    "   \n",
    "   After Partitioning:\n",
    "  \n",
    "  ```sql\n",
    "  SELECT * FROM sales_data PARTITION BY RANGE (TO_DAYS(date)) (\n",
    "     PARTITION p0 VALUES LESS THAN (TO_DAYS('2024-02-01')),\n",
    "     PARTITION p1 VALUES LESS THAN (TO_DAYS('2024-03-01')),\n",
    "     PARTITION p2 VALUES LESS THAN (TO_DAYS('2024-04-01'))\n",
    "  );\n",
    "  ```\n",
    "\n",
    "4) What are types of partitions?\n",
    "   There are several types of partitions in SQL, including:\n",
    "\n",
    "   * Range Partitioning: Divides data based on a specified range of values.\n",
    "   * List Partitioning: Divides data based on a specified list of values.\n",
    "   * Hash Partitioning: Divides data based on a hash function applied to a column's value.\n",
    "   * Composite Partitioning: Combines two or more partitioning methods.\n",
    "   \n",
    "   Example of Each Partition:\n",
    "\n",
    "   * Range Partitioning Example:\n",
    "     Partition sales_data by date into quarterly partitions:\n",
    "\n",
    "   ```sql\n",
    "   PARTITION BY RANGE (TO_DAYS(date)) (\n",
    "     PARTITION q1 VALUES LESS THAN (TO_DAYS('2024-04-01')),\n",
    "     PARTITION q2 VALUES LESS THAN (TO_DAYS('2024-07-01')),\n",
    "     PARTITION q3 VALUES LESS THAN (TO_DAYS('2024-10-01')),\n",
    "     PARTITION q4 VALUES LESS THAN (TO_DAYS('2025-01-01'))\n",
    "   )\n",
    "   ```\n",
    "   * List Partitioning Example:\n",
    "     Partition sales_data by product_id into specific product partitions:\n",
    "\n",
    "   ```sql\n",
    "   PARTITION BY LIST (product_id) (\n",
    "     PARTITION p1 VALUES IN (1, 2),\n",
    "     PARTITION p2 VALUES IN (3, 4),\n",
    "     PARTITION p3 VALUES IN (5, 6)\n",
    "   )\n",
    "   ```\n",
    "\n",
    "   * Hash Partitioning Example:\n",
    "     Partition sales_data by a hash of product_id into 4 partitions:\n",
    "\n",
    "   ```sql\n",
    "   PARTITION BY HASH(product_id) PARTITIONS 4\n",
    "   Composite Partitioning Example:\n",
    "   Combine range and hash partitioning for sales_data:\n",
    "   ```\n",
    "   \n",
    "   ```sql\n",
    "   PARTITION BY RANGE (TO_DAYS(date)) (\n",
    "     PARTITION p202401 VALUES LESS THAN (TO_DAYS('2024-02-01')) PARTITION BY HASH(product_id) PARTITIONS 4,\n",
    "     PARTITION p202402 VALUES LESS THAN (TO_DAYS('2024-03-01')) PARTITION BY HASH(product_id) PARTITIONS 4)\n",
    "   ```"
   ]
  },
  {
   "cell_type": "code",
   "execution_count": 13,
   "id": "dca737ed",
   "metadata": {},
   "outputs": [
    {
     "data": {
      "text/plain": [
       "<sqlalchemy.engine.cursor.CursorResult at 0x1b8fd0d6ce0>"
      ]
     },
     "execution_count": 13,
     "metadata": {},
     "output_type": "execute_result"
    }
   ],
   "source": [
    "db.execute(text(\"\"\"\n",
    "insert into course values (100, \"ML\", \"Machine Learning\", \"End to End Machine Learning course with captsone projects\", '2019-06-07', 3999.99, \"person1\", 2019),\n",
    "(101, \"ML1.0\", \"Machine Learning\", \"End to End Machine Learning course with captsone projects\", '2019-07-07', 3999.99, \"person2\", 2019),\n",
    "(102, \"ML2.0\", \"Machine Learning\", \"End to End Machine Learning course with captsone projects\", '2019-08-07', 3999.99, \"person3\", 2019),\n",
    "(103, \"Ml3.0\", \"Machine Learning\", \"End to End Machine Learning course with captsone projects\", '2019-09-07', 3999.99, \"person1\", 2019),\n",
    "(104, \"ML4.0\", \"Machine Learning\", \"End to End Machine Learning course with captsone projects\", '2020-07-07', 3999.99, \"person2\", 2020),\n",
    "(105, \"ML5.0\", \"Machine Learning\", \"End to End Machine Learning course with captsone projects\", '2020-08-07', 3999.99, \"person3\", 2020),\n",
    "(106, \"ML6.0\", \"Machine Learning\", \"End to End Machine Learning course with captsone projects\", '2020-09-07', 3999.99, \"person1\", 2020),\n",
    "(107, \"ML7.0\", \"Machine Learning\", \"End to End Machine Learning course with captsone projects\", '2021-07-07', 3999.99, \"person2\", 2021),\n",
    "(108, \"ML8.0\", \"Machine Learning\", \"End to End Machine Learning course with captsone projects\", '2021-08-07', 3999.99, \"person3\", 2021),\n",
    "(109, \"ML9.0\", \"Machine Learning\", \"End to End Machine Learning course with captsone projects\", '2021-09-07', 3999.99, \"person1\", 2021),\n",
    "(110, \"ML10.0\", \"Machine Learning\", \"End to End Machine Learning course with captsone projects\", '2022-07-07', 3999.99, \"person2\", 2022),\n",
    "(111, \"ML11.0\", \"Machine Learning\", \"End to End Machine Learning course with captsone projects\", '2022-08-07', 3999.99, \"person3\", 2022),\n",
    "(112, \"ML12.0\", \"Machine Learning\", \"End to End Machine Learning course with captsone projects\", '2022-09-07', 3999.99, \"person1\", 2022)\n",
    "\"\"\"))"
   ]
  },
  {
   "cell_type": "code",
   "execution_count": 7,
   "id": "f03641cb",
   "metadata": {},
   "outputs": [
    {
     "data": {
      "text/html": [
       "<div>\n",
       "<style scoped>\n",
       "    .dataframe tbody tr th:only-of-type {\n",
       "        vertical-align: middle;\n",
       "    }\n",
       "\n",
       "    .dataframe tbody tr th {\n",
       "        vertical-align: top;\n",
       "    }\n",
       "\n",
       "    .dataframe thead th {\n",
       "        text-align: right;\n",
       "    }\n",
       "</style>\n",
       "<table border=\"1\" class=\"dataframe\">\n",
       "  <thead>\n",
       "    <tr style=\"text-align: right;\">\n",
       "      <th></th>\n",
       "      <th>course_id</th>\n",
       "      <th>course_name</th>\n",
       "      <th>course_title</th>\n",
       "      <th>course_desc</th>\n",
       "      <th>launch_date</th>\n",
       "      <th>course_fee</th>\n",
       "      <th>course_mentor</th>\n",
       "      <th>course_launch_year</th>\n",
       "    </tr>\n",
       "  </thead>\n",
       "  <tbody>\n",
       "    <tr>\n",
       "      <th>0</th>\n",
       "      <td>100</td>\n",
       "      <td>ML</td>\n",
       "      <td>Machine Learning</td>\n",
       "      <td>End to End Machine Learning course with captso...</td>\n",
       "      <td>2019-06-07</td>\n",
       "      <td>3999.990000</td>\n",
       "      <td>person1</td>\n",
       "      <td>2019</td>\n",
       "    </tr>\n",
       "    <tr>\n",
       "      <th>1</th>\n",
       "      <td>101</td>\n",
       "      <td>ML1.0</td>\n",
       "      <td>Machine Learning</td>\n",
       "      <td>End to End Machine Learning course with captso...</td>\n",
       "      <td>2019-07-07</td>\n",
       "      <td>3999.990000</td>\n",
       "      <td>person2</td>\n",
       "      <td>2019</td>\n",
       "    </tr>\n",
       "    <tr>\n",
       "      <th>2</th>\n",
       "      <td>102</td>\n",
       "      <td>ML2.0</td>\n",
       "      <td>Machine Learning</td>\n",
       "      <td>End to End Machine Learning course with captso...</td>\n",
       "      <td>2019-08-07</td>\n",
       "      <td>3999.990000</td>\n",
       "      <td>person3</td>\n",
       "      <td>2019</td>\n",
       "    </tr>\n",
       "    <tr>\n",
       "      <th>3</th>\n",
       "      <td>103</td>\n",
       "      <td>Ml3.0</td>\n",
       "      <td>Machine Learning</td>\n",
       "      <td>End to End Machine Learning course with captso...</td>\n",
       "      <td>2019-09-07</td>\n",
       "      <td>3999.990000</td>\n",
       "      <td>person1</td>\n",
       "      <td>2019</td>\n",
       "    </tr>\n",
       "    <tr>\n",
       "      <th>4</th>\n",
       "      <td>104</td>\n",
       "      <td>ML4.0</td>\n",
       "      <td>Machine Learning</td>\n",
       "      <td>End to End Machine Learning course with captso...</td>\n",
       "      <td>2020-07-07</td>\n",
       "      <td>3999.990000</td>\n",
       "      <td>person2</td>\n",
       "      <td>2020</td>\n",
       "    </tr>\n",
       "    <tr>\n",
       "      <th>5</th>\n",
       "      <td>105</td>\n",
       "      <td>ML5.0</td>\n",
       "      <td>Machine Learning</td>\n",
       "      <td>End to End Machine Learning course with captso...</td>\n",
       "      <td>2020-08-07</td>\n",
       "      <td>3999.990000</td>\n",
       "      <td>person3</td>\n",
       "      <td>2020</td>\n",
       "    </tr>\n",
       "    <tr>\n",
       "      <th>6</th>\n",
       "      <td>106</td>\n",
       "      <td>ML6.0</td>\n",
       "      <td>Machine Learning</td>\n",
       "      <td>End to End Machine Learning course with captso...</td>\n",
       "      <td>2020-09-07</td>\n",
       "      <td>3999.990000</td>\n",
       "      <td>person1</td>\n",
       "      <td>2020</td>\n",
       "    </tr>\n",
       "    <tr>\n",
       "      <th>7</th>\n",
       "      <td>107</td>\n",
       "      <td>ML7.0</td>\n",
       "      <td>Machine Learning</td>\n",
       "      <td>End to End Machine Learning course with captso...</td>\n",
       "      <td>2021-07-07</td>\n",
       "      <td>3999.990000</td>\n",
       "      <td>person2</td>\n",
       "      <td>2021</td>\n",
       "    </tr>\n",
       "    <tr>\n",
       "      <th>8</th>\n",
       "      <td>108</td>\n",
       "      <td>ML8.0</td>\n",
       "      <td>Machine Learning</td>\n",
       "      <td>End to End Machine Learning course with captso...</td>\n",
       "      <td>2021-08-07</td>\n",
       "      <td>3999.990000</td>\n",
       "      <td>person3</td>\n",
       "      <td>2021</td>\n",
       "    </tr>\n",
       "    <tr>\n",
       "      <th>9</th>\n",
       "      <td>109</td>\n",
       "      <td>ML9.0</td>\n",
       "      <td>Machine Learning</td>\n",
       "      <td>End to End Machine Learning course with captso...</td>\n",
       "      <td>2021-09-07</td>\n",
       "      <td>3999.990000</td>\n",
       "      <td>person1</td>\n",
       "      <td>2021</td>\n",
       "    </tr>\n",
       "    <tr>\n",
       "      <th>10</th>\n",
       "      <td>110</td>\n",
       "      <td>ML10.0</td>\n",
       "      <td>Machine Learning</td>\n",
       "      <td>End to End Machine Learning course with captso...</td>\n",
       "      <td>2022-07-07</td>\n",
       "      <td>3999.990000</td>\n",
       "      <td>person2</td>\n",
       "      <td>2022</td>\n",
       "    </tr>\n",
       "    <tr>\n",
       "      <th>11</th>\n",
       "      <td>111</td>\n",
       "      <td>ML11.0</td>\n",
       "      <td>Machine Learning</td>\n",
       "      <td>End to End Machine Learning course with captso...</td>\n",
       "      <td>2022-08-07</td>\n",
       "      <td>3999.990000</td>\n",
       "      <td>person3</td>\n",
       "      <td>2022</td>\n",
       "    </tr>\n",
       "    <tr>\n",
       "      <th>12</th>\n",
       "      <td>112</td>\n",
       "      <td>ML12.0</td>\n",
       "      <td>Machine Learning</td>\n",
       "      <td>End to End Machine Learning course with captso...</td>\n",
       "      <td>2022-09-07</td>\n",
       "      <td>3999.990000</td>\n",
       "      <td>person1</td>\n",
       "      <td>2022</td>\n",
       "    </tr>\n",
       "  </tbody>\n",
       "</table>\n",
       "</div>"
      ],
      "text/plain": [
       "    course_id course_name      course_title  \\\n",
       "0         100          ML  Machine Learning   \n",
       "1         101       ML1.0  Machine Learning   \n",
       "2         102       ML2.0  Machine Learning   \n",
       "3         103       Ml3.0  Machine Learning   \n",
       "4         104       ML4.0  Machine Learning   \n",
       "5         105       ML5.0  Machine Learning   \n",
       "6         106       ML6.0  Machine Learning   \n",
       "7         107       ML7.0  Machine Learning   \n",
       "8         108       ML8.0  Machine Learning   \n",
       "9         109       ML9.0  Machine Learning   \n",
       "10        110      ML10.0  Machine Learning   \n",
       "11        111      ML11.0  Machine Learning   \n",
       "12        112      ML12.0  Machine Learning   \n",
       "\n",
       "                                          course_desc launch_date  \\\n",
       "0   End to End Machine Learning course with captso...  2019-06-07   \n",
       "1   End to End Machine Learning course with captso...  2019-07-07   \n",
       "2   End to End Machine Learning course with captso...  2019-08-07   \n",
       "3   End to End Machine Learning course with captso...  2019-09-07   \n",
       "4   End to End Machine Learning course with captso...  2020-07-07   \n",
       "5   End to End Machine Learning course with captso...  2020-08-07   \n",
       "6   End to End Machine Learning course with captso...  2020-09-07   \n",
       "7   End to End Machine Learning course with captso...  2021-07-07   \n",
       "8   End to End Machine Learning course with captso...  2021-08-07   \n",
       "9   End to End Machine Learning course with captso...  2021-09-07   \n",
       "10  End to End Machine Learning course with captso...  2022-07-07   \n",
       "11  End to End Machine Learning course with captso...  2022-08-07   \n",
       "12  End to End Machine Learning course with captso...  2022-09-07   \n",
       "\n",
       "     course_fee course_mentor  course_launch_year  \n",
       "0   3999.990000       person1                2019  \n",
       "1   3999.990000       person2                2019  \n",
       "2   3999.990000       person3                2019  \n",
       "3   3999.990000       person1                2019  \n",
       "4   3999.990000       person2                2020  \n",
       "5   3999.990000       person3                2020  \n",
       "6   3999.990000       person1                2020  \n",
       "7   3999.990000       person2                2021  \n",
       "8   3999.990000       person3                2021  \n",
       "9   3999.990000       person1                2021  \n",
       "10  3999.990000       person2                2022  \n",
       "11  3999.990000       person3                2022  \n",
       "12  3999.990000       person1                2022  "
      ]
     },
     "execution_count": 7,
     "metadata": {},
     "output_type": "execute_result"
    }
   ],
   "source": [
    "data.query(\"\"\"\n",
    "select * from course;\n",
    "\"\"\")"
   ]
  },
  {
   "cell_type": "code",
   "execution_count": 8,
   "id": "bbaa07c8",
   "metadata": {},
   "outputs": [
    {
     "data": {
      "text/html": [
       "<div>\n",
       "<style scoped>\n",
       "    .dataframe tbody tr th:only-of-type {\n",
       "        vertical-align: middle;\n",
       "    }\n",
       "\n",
       "    .dataframe tbody tr th {\n",
       "        vertical-align: top;\n",
       "    }\n",
       "\n",
       "    .dataframe thead th {\n",
       "        text-align: right;\n",
       "    }\n",
       "</style>\n",
       "<table border=\"1\" class=\"dataframe\">\n",
       "  <thead>\n",
       "    <tr style=\"text-align: right;\">\n",
       "      <th></th>\n",
       "      <th>course_id</th>\n",
       "      <th>course_name</th>\n",
       "      <th>course_title</th>\n",
       "      <th>course_desc</th>\n",
       "      <th>launch_date</th>\n",
       "      <th>course_fee</th>\n",
       "      <th>course_mentor</th>\n",
       "      <th>course_launch_year</th>\n",
       "    </tr>\n",
       "  </thead>\n",
       "  <tbody>\n",
       "    <tr>\n",
       "      <th>0</th>\n",
       "      <td>104</td>\n",
       "      <td>ML4.0</td>\n",
       "      <td>Machine Learning</td>\n",
       "      <td>End to End Machine Learning course with captso...</td>\n",
       "      <td>2020-07-07</td>\n",
       "      <td>3999.990000</td>\n",
       "      <td>person2</td>\n",
       "      <td>2020</td>\n",
       "    </tr>\n",
       "    <tr>\n",
       "      <th>1</th>\n",
       "      <td>105</td>\n",
       "      <td>ML5.0</td>\n",
       "      <td>Machine Learning</td>\n",
       "      <td>End to End Machine Learning course with captso...</td>\n",
       "      <td>2020-08-07</td>\n",
       "      <td>3999.990000</td>\n",
       "      <td>person3</td>\n",
       "      <td>2020</td>\n",
       "    </tr>\n",
       "    <tr>\n",
       "      <th>2</th>\n",
       "      <td>106</td>\n",
       "      <td>ML6.0</td>\n",
       "      <td>Machine Learning</td>\n",
       "      <td>End to End Machine Learning course with captso...</td>\n",
       "      <td>2020-09-07</td>\n",
       "      <td>3999.990000</td>\n",
       "      <td>person1</td>\n",
       "      <td>2020</td>\n",
       "    </tr>\n",
       "  </tbody>\n",
       "</table>\n",
       "</div>"
      ],
      "text/plain": [
       "   course_id course_name      course_title  \\\n",
       "0        104       ML4.0  Machine Learning   \n",
       "1        105       ML5.0  Machine Learning   \n",
       "2        106       ML6.0  Machine Learning   \n",
       "\n",
       "                                         course_desc launch_date   course_fee  \\\n",
       "0  End to End Machine Learning course with captso...  2020-07-07  3999.990000   \n",
       "1  End to End Machine Learning course with captso...  2020-08-07  3999.990000   \n",
       "2  End to End Machine Learning course with captso...  2020-09-07  3999.990000   \n",
       "\n",
       "  course_mentor  course_launch_year  \n",
       "0       person2                2020  \n",
       "1       person3                2020  \n",
       "2       person1                2020  "
      ]
     },
     "execution_count": 8,
     "metadata": {},
     "output_type": "execute_result"
    }
   ],
   "source": [
    "data.query(\"\"\"\n",
    "select * from course where course_launch_year = 2020;\n",
    "\"\"\")"
   ]
  },
  {
   "cell_type": "code",
   "execution_count": 27,
   "id": "0e1b9b5c",
   "metadata": {},
   "outputs": [
    {
     "data": {
      "text/plain": [
       "<sqlalchemy.engine.cursor.CursorResult at 0x1b8fd6edd20>"
      ]
     },
     "execution_count": 27,
     "metadata": {},
     "output_type": "execute_result"
    }
   ],
   "source": [
    "db.execute(text(\"\"\"\n",
    "CREATE TABLE course1 (\n",
    "    course_id INT NOT NULL,\n",
    "    course_name VARCHAR(255),\n",
    "    course_title VARCHAR(255),\n",
    "    course_desc VARCHAR(255),\n",
    "    launch_date DATE,\n",
    "    course_fee DECIMAL(20, 6),\n",
    "    course_mentor VARCHAR(255),\n",
    "    course_launch_year INT);\n",
    "\"\"\"))"
   ]
  },
  {
   "cell_type": "markdown",
   "id": "ebba54ad",
   "metadata": {},
   "source": [
    "** Creating Partition in tables"
   ]
  },
  {
   "cell_type": "code",
   "execution_count": 29,
   "id": "a8077cd9",
   "metadata": {},
   "outputs": [
    {
     "data": {
      "text/plain": [
       "<sqlalchemy.engine.cursor.CursorResult at 0x1b8fd72c9a0>"
      ]
     },
     "execution_count": 29,
     "metadata": {},
     "output_type": "execute_result"
    }
   ],
   "source": [
    "db.execute(text(\"\"\"\n",
    "ALTER TABLE course1\n",
    "PARTITION BY RANGE (course_launch_year) (\n",
    "    PARTITION p0 VALUES LESS THAN (2020),\n",
    "    PARTITION p1 VALUES LESS THAN (2021),\n",
    "    PARTITION p2 VALUES LESS THAN (2022),\n",
    "    PARTITION p3 VALUES LESS THAN (2023)\n",
    ");\n",
    "\"\"\"))"
   ]
  },
  {
   "cell_type": "code",
   "execution_count": 30,
   "id": "2852befc",
   "metadata": {},
   "outputs": [
    {
     "data": {
      "text/plain": [
       "<sqlalchemy.engine.cursor.CursorResult at 0x1b8fd7a9b40>"
      ]
     },
     "execution_count": 30,
     "metadata": {},
     "output_type": "execute_result"
    }
   ],
   "source": [
    "db.execute(text(\"\"\"\n",
    "commit;\n",
    "\"\"\"))"
   ]
  },
  {
   "cell_type": "code",
   "execution_count": 31,
   "id": "7abb395c",
   "metadata": {},
   "outputs": [
    {
     "data": {
      "text/plain": [
       "<sqlalchemy.engine.cursor.CursorResult at 0x1b8fd4c2c80>"
      ]
     },
     "execution_count": 31,
     "metadata": {},
     "output_type": "execute_result"
    }
   ],
   "source": [
    "db.execute(text(\"\"\"\n",
    "insert into course1 values (100, \"ML\", \"Machine Learning\", \"End to End Machine Learning course with captsone projects\", '2019-06-07', 3999.99, \"person1\", 2019),\n",
    "(101, \"ML1.0\", \"Machine Learning\", \"End to End Machine Learning course with captsone projects\", '2019-07-07', 3999.99, \"person2\", 2019),\n",
    "(102, \"ML2.0\", \"Machine Learning\", \"End to End Machine Learning course with captsone projects\", '2019-08-07', 3999.99, \"person3\", 2019),\n",
    "(103, \"Ml3.0\", \"Machine Learning\", \"End to End Machine Learning course with captsone projects\", '2019-09-07', 3999.99, \"person1\", 2019),\n",
    "(104, \"ML4.0\", \"Machine Learning\", \"End to End Machine Learning course with captsone projects\", '2020-07-07', 3999.99, \"person2\", 2020),\n",
    "(105, \"ML5.0\", \"Machine Learning\", \"End to End Machine Learning course with captsone projects\", '2020-08-07', 3999.99, \"person3\", 2020),\n",
    "(106, \"ML6.0\", \"Machine Learning\", \"End to End Machine Learning course with captsone projects\", '2020-09-07', 3999.99, \"person1\", 2020),\n",
    "(107, \"ML7.0\", \"Machine Learning\", \"End to End Machine Learning course with captsone projects\", '2021-07-07', 3999.99, \"person2\", 2021),\n",
    "(108, \"ML8.0\", \"Machine Learning\", \"End to End Machine Learning course with captsone projects\", '2021-08-07', 3999.99, \"person3\", 2021),\n",
    "(109, \"ML9.0\", \"Machine Learning\", \"End to End Machine Learning course with captsone projects\", '2021-09-07', 3999.99, \"person1\", 2021),\n",
    "(110, \"ML10.0\", \"Machine Learning\", \"End to End Machine Learning course with captsone projects\", '2022-07-07', 3999.99, \"person2\", 2022),\n",
    "(111, \"ML11.0\", \"Machine Learning\", \"End to End Machine Learning course with captsone projects\", '2022-08-07', 3999.99, \"person3\", 2022),\n",
    "(112, \"ML12.0\", \"Machine Learning\", \"End to End Machine Learning course with captsone projects\", '2022-09-07', 3999.99, \"person1\", 2022)\n",
    "\"\"\"))"
   ]
  },
  {
   "cell_type": "code",
   "execution_count": 43,
   "id": "cdf9db0d",
   "metadata": {},
   "outputs": [
    {
     "data": {
      "text/plain": [
       "<sqlalchemy.engine.cursor.CursorResult at 0x1b8fa762f80>"
      ]
     },
     "execution_count": 43,
     "metadata": {},
     "output_type": "execute_result"
    }
   ],
   "source": [
    "db.execute(text(\"\"\"\n",
    "commit;\n",
    "\"\"\"))"
   ]
  },
  {
   "cell_type": "code",
   "execution_count": 15,
   "id": "96c7c4c1",
   "metadata": {},
   "outputs": [
    {
     "name": "stdout",
     "output_type": "stream",
     "text": [
      "CPU times: total: 0 ns\n",
      "Wall time: 3.86 ms\n"
     ]
    },
    {
     "data": {
      "text/html": [
       "<div>\n",
       "<style scoped>\n",
       "    .dataframe tbody tr th:only-of-type {\n",
       "        vertical-align: middle;\n",
       "    }\n",
       "\n",
       "    .dataframe tbody tr th {\n",
       "        vertical-align: top;\n",
       "    }\n",
       "\n",
       "    .dataframe thead th {\n",
       "        text-align: right;\n",
       "    }\n",
       "</style>\n",
       "<table border=\"1\" class=\"dataframe\">\n",
       "  <thead>\n",
       "    <tr style=\"text-align: right;\">\n",
       "      <th></th>\n",
       "      <th>course_id</th>\n",
       "      <th>course_name</th>\n",
       "      <th>course_title</th>\n",
       "      <th>course_desc</th>\n",
       "      <th>launch_date</th>\n",
       "      <th>course_fee</th>\n",
       "      <th>course_mentor</th>\n",
       "      <th>course_launch_year</th>\n",
       "    </tr>\n",
       "  </thead>\n",
       "  <tbody>\n",
       "    <tr>\n",
       "      <th>0</th>\n",
       "      <td>107</td>\n",
       "      <td>ML7.0</td>\n",
       "      <td>Machine Learning</td>\n",
       "      <td>End to End Machine Learning course with captso...</td>\n",
       "      <td>2021-07-07</td>\n",
       "      <td>3999.990000</td>\n",
       "      <td>person2</td>\n",
       "      <td>2021</td>\n",
       "    </tr>\n",
       "    <tr>\n",
       "      <th>1</th>\n",
       "      <td>108</td>\n",
       "      <td>ML8.0</td>\n",
       "      <td>Machine Learning</td>\n",
       "      <td>End to End Machine Learning course with captso...</td>\n",
       "      <td>2021-08-07</td>\n",
       "      <td>3999.990000</td>\n",
       "      <td>person3</td>\n",
       "      <td>2021</td>\n",
       "    </tr>\n",
       "    <tr>\n",
       "      <th>2</th>\n",
       "      <td>109</td>\n",
       "      <td>ML9.0</td>\n",
       "      <td>Machine Learning</td>\n",
       "      <td>End to End Machine Learning course with captso...</td>\n",
       "      <td>2021-09-07</td>\n",
       "      <td>3999.990000</td>\n",
       "      <td>person1</td>\n",
       "      <td>2021</td>\n",
       "    </tr>\n",
       "  </tbody>\n",
       "</table>\n",
       "</div>"
      ],
      "text/plain": [
       "   course_id course_name      course_title  \\\n",
       "0        107       ML7.0  Machine Learning   \n",
       "1        108       ML8.0  Machine Learning   \n",
       "2        109       ML9.0  Machine Learning   \n",
       "\n",
       "                                         course_desc launch_date   course_fee  \\\n",
       "0  End to End Machine Learning course with captso...  2021-07-07  3999.990000   \n",
       "1  End to End Machine Learning course with captso...  2021-08-07  3999.990000   \n",
       "2  End to End Machine Learning course with captso...  2021-09-07  3999.990000   \n",
       "\n",
       "  course_mentor  course_launch_year  \n",
       "0       person2                2021  \n",
       "1       person3                2021  \n",
       "2       person1                2021  "
      ]
     },
     "execution_count": 15,
     "metadata": {},
     "output_type": "execute_result"
    }
   ],
   "source": [
    "%%time\n",
    "data.query(\"\"\"\n",
    "select * from course where course_launch_year = 2021;\n",
    "\"\"\")"
   ]
  },
  {
   "cell_type": "code",
   "execution_count": 16,
   "id": "3b641d7c",
   "metadata": {},
   "outputs": [
    {
     "name": "stdout",
     "output_type": "stream",
     "text": [
      "CPU times: total: 0 ns\n",
      "Wall time: 2.55 ms\n"
     ]
    },
    {
     "data": {
      "text/html": [
       "<div>\n",
       "<style scoped>\n",
       "    .dataframe tbody tr th:only-of-type {\n",
       "        vertical-align: middle;\n",
       "    }\n",
       "\n",
       "    .dataframe tbody tr th {\n",
       "        vertical-align: top;\n",
       "    }\n",
       "\n",
       "    .dataframe thead th {\n",
       "        text-align: right;\n",
       "    }\n",
       "</style>\n",
       "<table border=\"1\" class=\"dataframe\">\n",
       "  <thead>\n",
       "    <tr style=\"text-align: right;\">\n",
       "      <th></th>\n",
       "      <th>course_id</th>\n",
       "      <th>course_name</th>\n",
       "      <th>course_title</th>\n",
       "      <th>course_desc</th>\n",
       "      <th>launch_date</th>\n",
       "      <th>course_fee</th>\n",
       "      <th>course_mentor</th>\n",
       "      <th>course_launch_year</th>\n",
       "    </tr>\n",
       "  </thead>\n",
       "  <tbody>\n",
       "    <tr>\n",
       "      <th>0</th>\n",
       "      <td>107</td>\n",
       "      <td>ML7.0</td>\n",
       "      <td>Machine Learning</td>\n",
       "      <td>End to End Machine Learning course with captso...</td>\n",
       "      <td>2021-07-07</td>\n",
       "      <td>3999.990000</td>\n",
       "      <td>person2</td>\n",
       "      <td>2021</td>\n",
       "    </tr>\n",
       "    <tr>\n",
       "      <th>1</th>\n",
       "      <td>108</td>\n",
       "      <td>ML8.0</td>\n",
       "      <td>Machine Learning</td>\n",
       "      <td>End to End Machine Learning course with captso...</td>\n",
       "      <td>2021-08-07</td>\n",
       "      <td>3999.990000</td>\n",
       "      <td>person3</td>\n",
       "      <td>2021</td>\n",
       "    </tr>\n",
       "    <tr>\n",
       "      <th>2</th>\n",
       "      <td>109</td>\n",
       "      <td>ML9.0</td>\n",
       "      <td>Machine Learning</td>\n",
       "      <td>End to End Machine Learning course with captso...</td>\n",
       "      <td>2021-09-07</td>\n",
       "      <td>3999.990000</td>\n",
       "      <td>person1</td>\n",
       "      <td>2021</td>\n",
       "    </tr>\n",
       "  </tbody>\n",
       "</table>\n",
       "</div>"
      ],
      "text/plain": [
       "   course_id course_name      course_title  \\\n",
       "0        107       ML7.0  Machine Learning   \n",
       "1        108       ML8.0  Machine Learning   \n",
       "2        109       ML9.0  Machine Learning   \n",
       "\n",
       "                                         course_desc launch_date   course_fee  \\\n",
       "0  End to End Machine Learning course with captso...  2021-07-07  3999.990000   \n",
       "1  End to End Machine Learning course with captso...  2021-08-07  3999.990000   \n",
       "2  End to End Machine Learning course with captso...  2021-09-07  3999.990000   \n",
       "\n",
       "  course_mentor  course_launch_year  \n",
       "0       person2                2021  \n",
       "1       person3                2021  \n",
       "2       person1                2021  "
      ]
     },
     "execution_count": 16,
     "metadata": {},
     "output_type": "execute_result"
    }
   ],
   "source": [
    "%%time\n",
    "data.query(\"\"\"\n",
    "select * from course1 where course_launch_year = 2021;\n",
    "\"\"\")"
   ]
  },
  {
   "cell_type": "code",
   "execution_count": 20,
   "id": "f24910fc",
   "metadata": {},
   "outputs": [
    {
     "data": {
      "text/html": [
       "<div>\n",
       "<style scoped>\n",
       "    .dataframe tbody tr th:only-of-type {\n",
       "        vertical-align: middle;\n",
       "    }\n",
       "\n",
       "    .dataframe tbody tr th {\n",
       "        vertical-align: top;\n",
       "    }\n",
       "\n",
       "    .dataframe thead th {\n",
       "        text-align: right;\n",
       "    }\n",
       "</style>\n",
       "<table border=\"1\" class=\"dataframe\">\n",
       "  <thead>\n",
       "    <tr style=\"text-align: right;\">\n",
       "      <th></th>\n",
       "      <th>PARTITION_NAME</th>\n",
       "      <th>TABLE_NAME</th>\n",
       "      <th>TABLE_ROWS</th>\n",
       "    </tr>\n",
       "  </thead>\n",
       "  <tbody>\n",
       "    <tr>\n",
       "      <th>0</th>\n",
       "      <td>p0</td>\n",
       "      <td>course1</td>\n",
       "      <td>4</td>\n",
       "    </tr>\n",
       "    <tr>\n",
       "      <th>1</th>\n",
       "      <td>p1</td>\n",
       "      <td>course1</td>\n",
       "      <td>3</td>\n",
       "    </tr>\n",
       "    <tr>\n",
       "      <th>2</th>\n",
       "      <td>p2</td>\n",
       "      <td>course1</td>\n",
       "      <td>3</td>\n",
       "    </tr>\n",
       "    <tr>\n",
       "      <th>3</th>\n",
       "      <td>p3</td>\n",
       "      <td>course1</td>\n",
       "      <td>3</td>\n",
       "    </tr>\n",
       "  </tbody>\n",
       "</table>\n",
       "</div>"
      ],
      "text/plain": [
       "  PARTITION_NAME TABLE_NAME  TABLE_ROWS\n",
       "0             p0    course1           4\n",
       "1             p1    course1           3\n",
       "2             p2    course1           3\n",
       "3             p3    course1           3"
      ]
     },
     "execution_count": 20,
     "metadata": {},
     "output_type": "execute_result"
    }
   ],
   "source": [
    "data.query(\"\"\"\n",
    "select partition_name , table_name , table_rows from information_schema.partitions where table_name = 'course1';\n",
    "\"\"\")"
   ]
  },
  {
   "cell_type": "markdown",
   "id": "a4d04cae",
   "metadata": {},
   "source": [
    "### Hashing Partition"
   ]
  },
  {
   "cell_type": "code",
   "execution_count": 38,
   "id": "3400065e",
   "metadata": {},
   "outputs": [
    {
     "data": {
      "text/plain": [
       "<sqlalchemy.engine.cursor.CursorResult at 0x25ffd6b3820>"
      ]
     },
     "execution_count": 38,
     "metadata": {},
     "output_type": "execute_result"
    }
   ],
   "source": [
    "db.execute(text(\"\"\"\n",
    "CREATE TABLE course2 (\n",
    "    course_id INT NOT NULL,\n",
    "    course_name VARCHAR(255),\n",
    "    course_title VARCHAR(255),\n",
    "    course_desc VARCHAR(255),\n",
    "    launch_date DATE,\n",
    "    course_fee DECIMAL(20, 6),\n",
    "    course_mentor VARCHAR(255),\n",
    "    course_launch_year INT);\n",
    "\"\"\"))"
   ]
  },
  {
   "cell_type": "code",
   "execution_count": 39,
   "id": "0d43c84c",
   "metadata": {},
   "outputs": [
    {
     "data": {
      "text/plain": [
       "<sqlalchemy.engine.cursor.CursorResult at 0x25fff5f2b60>"
      ]
     },
     "execution_count": 39,
     "metadata": {},
     "output_type": "execute_result"
    }
   ],
   "source": [
    "db.execute(text(\"\"\"\n",
    "ALTER TABLE course2\n",
    "PARTITION BY HASH(course_launch_year)\n",
    "PARTITIONS 5;\n",
    "\"\"\"))"
   ]
  },
  {
   "cell_type": "code",
   "execution_count": 40,
   "id": "fb7dda78",
   "metadata": {},
   "outputs": [
    {
     "data": {
      "text/plain": [
       "<sqlalchemy.engine.cursor.CursorResult at 0x25fff5f2fe0>"
      ]
     },
     "execution_count": 40,
     "metadata": {},
     "output_type": "execute_result"
    }
   ],
   "source": [
    "db.execute(text(\"\"\"\n",
    "commit;\n",
    "\"\"\"))"
   ]
  },
  {
   "cell_type": "code",
   "execution_count": 41,
   "id": "f712bd39",
   "metadata": {},
   "outputs": [
    {
     "data": {
      "text/html": [
       "<div>\n",
       "<style scoped>\n",
       "    .dataframe tbody tr th:only-of-type {\n",
       "        vertical-align: middle;\n",
       "    }\n",
       "\n",
       "    .dataframe tbody tr th {\n",
       "        vertical-align: top;\n",
       "    }\n",
       "\n",
       "    .dataframe thead th {\n",
       "        text-align: right;\n",
       "    }\n",
       "</style>\n",
       "<table border=\"1\" class=\"dataframe\">\n",
       "  <thead>\n",
       "    <tr style=\"text-align: right;\">\n",
       "      <th></th>\n",
       "      <th>PARTITION_NAME</th>\n",
       "      <th>TABLE_NAME</th>\n",
       "      <th>TABLE_ROWS</th>\n",
       "    </tr>\n",
       "  </thead>\n",
       "  <tbody>\n",
       "    <tr>\n",
       "      <th>0</th>\n",
       "      <td>p0</td>\n",
       "      <td>course2</td>\n",
       "      <td>0</td>\n",
       "    </tr>\n",
       "    <tr>\n",
       "      <th>1</th>\n",
       "      <td>p1</td>\n",
       "      <td>course2</td>\n",
       "      <td>0</td>\n",
       "    </tr>\n",
       "    <tr>\n",
       "      <th>2</th>\n",
       "      <td>p2</td>\n",
       "      <td>course2</td>\n",
       "      <td>0</td>\n",
       "    </tr>\n",
       "    <tr>\n",
       "      <th>3</th>\n",
       "      <td>p3</td>\n",
       "      <td>course2</td>\n",
       "      <td>0</td>\n",
       "    </tr>\n",
       "    <tr>\n",
       "      <th>4</th>\n",
       "      <td>p4</td>\n",
       "      <td>course2</td>\n",
       "      <td>0</td>\n",
       "    </tr>\n",
       "  </tbody>\n",
       "</table>\n",
       "</div>"
      ],
      "text/plain": [
       "  PARTITION_NAME TABLE_NAME  TABLE_ROWS\n",
       "0             p0    course2           0\n",
       "1             p1    course2           0\n",
       "2             p2    course2           0\n",
       "3             p3    course2           0\n",
       "4             p4    course2           0"
      ]
     },
     "execution_count": 41,
     "metadata": {},
     "output_type": "execute_result"
    }
   ],
   "source": [
    "data.query(\"\"\"\n",
    "select partition_name, table_name, table_rows from information_schema.partitions where table_name = 'course2';\n",
    "\"\"\")"
   ]
  },
  {
   "cell_type": "code",
   "execution_count": 42,
   "id": "a4c4ff0a",
   "metadata": {},
   "outputs": [
    {
     "data": {
      "text/plain": [
       "<sqlalchemy.engine.cursor.CursorResult at 0x25fff25e4a0>"
      ]
     },
     "execution_count": 42,
     "metadata": {},
     "output_type": "execute_result"
    }
   ],
   "source": [
    "db.execute(text(\"\"\"\n",
    "insert into course2 values (100, \"ML\", \"Machine Learning\", \"End to End Machine Learning course with captsone projects\", '2019-06-07', 3999.99, \"person1\", 2019),\n",
    "(101, \"ML1.0\", \"Machine Learning\", \"End to End Machine Learning course with captsone projects\", '2019-07-07', 3999.99, \"person2\", 2019),\n",
    "(102, \"ML2.0\", \"Machine Learning\", \"End to End Machine Learning course with captsone projects\", '2019-08-07', 3999.99, \"person3\", 2019),\n",
    "(103, \"Ml3.0\", \"Machine Learning\", \"End to End Machine Learning course with captsone projects\", '2019-09-07', 3999.99, \"person1\", 2019),\n",
    "(104, \"ML4.0\", \"Machine Learning\", \"End to End Machine Learning course with captsone projects\", '2020-07-07', 3999.99, \"person2\", 2020),\n",
    "(105, \"ML5.0\", \"Machine Learning\", \"End to End Machine Learning course with captsone projects\", '2020-08-07', 3999.99, \"person3\", 2020),\n",
    "(106, \"ML6.0\", \"Machine Learning\", \"End to End Machine Learning course with captsone projects\", '2020-09-07', 3999.99, \"person1\", 2020),\n",
    "(107, \"ML7.0\", \"Machine Learning\", \"End to End Machine Learning course with captsone projects\", '2021-07-07', 3999.99, \"person2\", 2021),\n",
    "(108, \"ML8.0\", \"Machine Learning\", \"End to End Machine Learning course with captsone projects\", '2021-08-07', 3999.99, \"person3\", 2021),\n",
    "(109, \"ML9.0\", \"Machine Learning\", \"End to End Machine Learning course with captsone projects\", '2021-09-07', 3999.99, \"person1\", 2021),\n",
    "(110, \"ML10.0\", \"Machine Learning\", \"End to End Machine Learning course with captsone projects\", '2022-07-07', 3999.99, \"person2\", 2022),\n",
    "(111, \"ML11.0\", \"Machine Learning\", \"End to End Machine Learning course with captsone projects\", '2022-08-07', 3999.99, \"person3\", 2022),\n",
    "(112, \"ML12.0\", \"Machine Learning\", \"End to End Machine Learning course with captsone projects\", '2022-09-07', 3999.99, \"person1\", 2022)\n",
    "\"\"\"))"
   ]
  },
  {
   "cell_type": "code",
   "execution_count": 43,
   "id": "70459809",
   "metadata": {},
   "outputs": [
    {
     "data": {
      "text/plain": [
       "<sqlalchemy.engine.cursor.CursorResult at 0x25fff5a3d60>"
      ]
     },
     "execution_count": 43,
     "metadata": {},
     "output_type": "execute_result"
    }
   ],
   "source": [
    "db.execute(text(\"\"\"\n",
    "commit;\n",
    "\"\"\"))"
   ]
  },
  {
   "cell_type": "code",
   "execution_count": 44,
   "id": "26ad2170",
   "metadata": {},
   "outputs": [
    {
     "data": {
      "text/html": [
       "<div>\n",
       "<style scoped>\n",
       "    .dataframe tbody tr th:only-of-type {\n",
       "        vertical-align: middle;\n",
       "    }\n",
       "\n",
       "    .dataframe tbody tr th {\n",
       "        vertical-align: top;\n",
       "    }\n",
       "\n",
       "    .dataframe thead th {\n",
       "        text-align: right;\n",
       "    }\n",
       "</style>\n",
       "<table border=\"1\" class=\"dataframe\">\n",
       "  <thead>\n",
       "    <tr style=\"text-align: right;\">\n",
       "      <th></th>\n",
       "      <th>PARTITION_NAME</th>\n",
       "      <th>TABLE_NAME</th>\n",
       "      <th>TABLE_ROWS</th>\n",
       "    </tr>\n",
       "  </thead>\n",
       "  <tbody>\n",
       "    <tr>\n",
       "      <th>0</th>\n",
       "      <td>p0</td>\n",
       "      <td>course2</td>\n",
       "      <td>3</td>\n",
       "    </tr>\n",
       "    <tr>\n",
       "      <th>1</th>\n",
       "      <td>p1</td>\n",
       "      <td>course2</td>\n",
       "      <td>3</td>\n",
       "    </tr>\n",
       "    <tr>\n",
       "      <th>2</th>\n",
       "      <td>p2</td>\n",
       "      <td>course2</td>\n",
       "      <td>3</td>\n",
       "    </tr>\n",
       "    <tr>\n",
       "      <th>3</th>\n",
       "      <td>p3</td>\n",
       "      <td>course2</td>\n",
       "      <td>0</td>\n",
       "    </tr>\n",
       "    <tr>\n",
       "      <th>4</th>\n",
       "      <td>p4</td>\n",
       "      <td>course2</td>\n",
       "      <td>4</td>\n",
       "    </tr>\n",
       "  </tbody>\n",
       "</table>\n",
       "</div>"
      ],
      "text/plain": [
       "  PARTITION_NAME TABLE_NAME  TABLE_ROWS\n",
       "0             p0    course2           3\n",
       "1             p1    course2           3\n",
       "2             p2    course2           3\n",
       "3             p3    course2           0\n",
       "4             p4    course2           4"
      ]
     },
     "execution_count": 44,
     "metadata": {},
     "output_type": "execute_result"
    }
   ],
   "source": [
    "data.query(\"\"\"\n",
    "select partition_name, table_name, table_rows from information_schema.partitions where table_name = 'course2';\n",
    "\"\"\")"
   ]
  },
  {
   "cell_type": "markdown",
   "id": "64a6b045",
   "metadata": {},
   "source": [
    "* Create partation by hash by taking primary key column as input\n",
    "\n",
    "```sql\n",
    "ALTER TABLE course2\n",
    "PARTITION BY KEY()\n",
    "PARTITIONS 5;\n",
    "```"
   ]
  },
  {
   "cell_type": "code",
   "execution_count": 47,
   "id": "17f63eee",
   "metadata": {},
   "outputs": [
    {
     "data": {
      "text/html": [
       "<div>\n",
       "<style scoped>\n",
       "    .dataframe tbody tr th:only-of-type {\n",
       "        vertical-align: middle;\n",
       "    }\n",
       "\n",
       "    .dataframe tbody tr th {\n",
       "        vertical-align: top;\n",
       "    }\n",
       "\n",
       "    .dataframe thead th {\n",
       "        text-align: right;\n",
       "    }\n",
       "</style>\n",
       "<table border=\"1\" class=\"dataframe\">\n",
       "  <thead>\n",
       "    <tr style=\"text-align: right;\">\n",
       "      <th></th>\n",
       "      <th>MD5(\"Hello World\")</th>\n",
       "    </tr>\n",
       "  </thead>\n",
       "  <tbody>\n",
       "    <tr>\n",
       "      <th>0</th>\n",
       "      <td>b10a8db164e0754105b7a99be72e3fe5</td>\n",
       "    </tr>\n",
       "  </tbody>\n",
       "</table>\n",
       "</div>"
      ],
      "text/plain": [
       "                 MD5(\"Hello World\")\n",
       "0  b10a8db164e0754105b7a99be72e3fe5"
      ]
     },
     "execution_count": 47,
     "metadata": {},
     "output_type": "execute_result"
    }
   ],
   "source": [
    "data.query(\"\"\"\n",
    "select MD5(\"Hello World\");\n",
    "\"\"\")"
   ]
  },
  {
   "cell_type": "markdown",
   "id": "2fda6e3f",
   "metadata": {},
   "source": [
    "### List Partition"
   ]
  },
  {
   "cell_type": "code",
   "execution_count": 13,
   "id": "c5e4b6d2",
   "metadata": {},
   "outputs": [
    {
     "data": {
      "text/plain": [
       "<sqlalchemy.engine.cursor.CursorResult at 0x2558122bd00>"
      ]
     },
     "execution_count": 13,
     "metadata": {},
     "output_type": "execute_result"
    }
   ],
   "source": [
    "db.execute(text(\"\"\"\n",
    "CREATE TABLE course3 (\n",
    "    course_id INT NOT NULL,\n",
    "    course_name VARCHAR(255),\n",
    "    course_title VARCHAR(255),\n",
    "    course_desc VARCHAR(255),\n",
    "    launch_date DATE,\n",
    "    course_fee DECIMAL(20, 6),\n",
    "    course_mentor VARCHAR(255),\n",
    "    course_launch_year INT);\n",
    "\"\"\"))"
   ]
  },
  {
   "cell_type": "code",
   "execution_count": 14,
   "id": "464d074b",
   "metadata": {},
   "outputs": [
    {
     "data": {
      "text/plain": [
       "<sqlalchemy.engine.cursor.CursorResult at 0x2558569a860>"
      ]
     },
     "execution_count": 14,
     "metadata": {},
     "output_type": "execute_result"
    }
   ],
   "source": [
    "db.execute(text(\"\"\"\n",
    "ALTER TABLE course3\n",
    "PARTITION BY list(course_launch_year)(\n",
    "    PARTITION p0 VALUES IN (2019, 2020),\n",
    "    PARTITION p1 VALUES IN (2021, 2022)\n",
    ")\n",
    "\"\"\"))"
   ]
  },
  {
   "cell_type": "code",
   "execution_count": 15,
   "id": "0685c80b",
   "metadata": {},
   "outputs": [
    {
     "data": {
      "text/plain": [
       "<sqlalchemy.engine.cursor.CursorResult at 0x2558569b040>"
      ]
     },
     "execution_count": 15,
     "metadata": {},
     "output_type": "execute_result"
    }
   ],
   "source": [
    "db.execute(text(\"\"\"\n",
    "commit;\n",
    "\"\"\"))"
   ]
  },
  {
   "cell_type": "code",
   "execution_count": 16,
   "id": "ad508cc8",
   "metadata": {},
   "outputs": [
    {
     "data": {
      "text/plain": [
       "<sqlalchemy.engine.cursor.CursorResult at 0x2558569ab60>"
      ]
     },
     "execution_count": 16,
     "metadata": {},
     "output_type": "execute_result"
    }
   ],
   "source": [
    "db.execute(text(\"\"\"\n",
    "insert into course3 values (100, \"ML\", \"Machine Learning\", \"End to End Machine Learning course with captsone projects\", '2019-06-07', 3999.99, \"person1\", 2019),\n",
    "(101, \"ML1.0\", \"Machine Learning\", \"End to End Machine Learning course with captsone projects\", '2019-07-07', 3999.99, \"person2\", 2019),\n",
    "(102, \"ML2.0\", \"Machine Learning\", \"End to End Machine Learning course with captsone projects\", '2019-08-07', 3999.99, \"person3\", 2019),\n",
    "(103, \"Ml3.0\", \"Machine Learning\", \"End to End Machine Learning course with captsone projects\", '2019-09-07', 3999.99, \"person1\", 2019),\n",
    "(104, \"ML4.0\", \"Machine Learning\", \"End to End Machine Learning course with captsone projects\", '2020-07-07', 3999.99, \"person2\", 2020),\n",
    "(105, \"ML5.0\", \"Machine Learning\", \"End to End Machine Learning course with captsone projects\", '2020-08-07', 3999.99, \"person3\", 2020),\n",
    "(106, \"ML6.0\", \"Machine Learning\", \"End to End Machine Learning course with captsone projects\", '2020-09-07', 3999.99, \"person1\", 2020),\n",
    "(107, \"ML7.0\", \"Machine Learning\", \"End to End Machine Learning course with captsone projects\", '2021-07-07', 3999.99, \"person2\", 2021),\n",
    "(108, \"ML8.0\", \"Machine Learning\", \"End to End Machine Learning course with captsone projects\", '2021-08-07', 3999.99, \"person3\", 2021),\n",
    "(109, \"ML9.0\", \"Machine Learning\", \"End to End Machine Learning course with captsone projects\", '2021-09-07', 3999.99, \"person1\", 2021),\n",
    "(110, \"ML10.0\", \"Machine Learning\", \"End to End Machine Learning course with captsone projects\", '2022-07-07', 3999.99, \"person2\", 2022),\n",
    "(111, \"ML11.0\", \"Machine Learning\", \"End to End Machine Learning course with captsone projects\", '2022-08-07', 3999.99, \"person3\", 2022),\n",
    "(112, \"ML12.0\", \"Machine Learning\", \"End to End Machine Learning course with captsone projects\", '2022-09-07', 3999.99, \"person1\", 2022)\n",
    "\"\"\"))"
   ]
  },
  {
   "cell_type": "code",
   "execution_count": 17,
   "id": "55a0bd78",
   "metadata": {},
   "outputs": [
    {
     "data": {
      "text/plain": [
       "<sqlalchemy.engine.cursor.CursorResult at 0x25582caa680>"
      ]
     },
     "execution_count": 17,
     "metadata": {},
     "output_type": "execute_result"
    }
   ],
   "source": [
    "db.execute(text(\"\"\"\n",
    "commit;\n",
    "\"\"\"))"
   ]
  },
  {
   "cell_type": "code",
   "execution_count": 19,
   "id": "e20c6e96",
   "metadata": {},
   "outputs": [
    {
     "data": {
      "text/html": [
       "<div>\n",
       "<style scoped>\n",
       "    .dataframe tbody tr th:only-of-type {\n",
       "        vertical-align: middle;\n",
       "    }\n",
       "\n",
       "    .dataframe tbody tr th {\n",
       "        vertical-align: top;\n",
       "    }\n",
       "\n",
       "    .dataframe thead th {\n",
       "        text-align: right;\n",
       "    }\n",
       "</style>\n",
       "<table border=\"1\" class=\"dataframe\">\n",
       "  <thead>\n",
       "    <tr style=\"text-align: right;\">\n",
       "      <th></th>\n",
       "      <th>PARTITION_NAME</th>\n",
       "      <th>TABLE_NAME</th>\n",
       "      <th>TABLE_ROWS</th>\n",
       "    </tr>\n",
       "  </thead>\n",
       "  <tbody>\n",
       "    <tr>\n",
       "      <th>0</th>\n",
       "      <td>p0</td>\n",
       "      <td>course3</td>\n",
       "      <td>7</td>\n",
       "    </tr>\n",
       "    <tr>\n",
       "      <th>1</th>\n",
       "      <td>p1</td>\n",
       "      <td>course3</td>\n",
       "      <td>6</td>\n",
       "    </tr>\n",
       "  </tbody>\n",
       "</table>\n",
       "</div>"
      ],
      "text/plain": [
       "  PARTITION_NAME TABLE_NAME  TABLE_ROWS\n",
       "0             p0    course3           7\n",
       "1             p1    course3           6"
      ]
     },
     "execution_count": 19,
     "metadata": {},
     "output_type": "execute_result"
    }
   ],
   "source": [
    "data.query(\"\"\"\n",
    "select partition_name, table_name, table_rows from information_schema.partitions where table_name = 'course3';\n",
    "\"\"\")"
   ]
  },
  {
   "cell_type": "markdown",
   "id": "09d3f7cc",
   "metadata": {},
   "source": [
    "### Range Column Partation\n",
    "\n",
    "* Multiple Columns as input to create partition"
   ]
  },
  {
   "cell_type": "code",
   "execution_count": 20,
   "id": "242f3ddd",
   "metadata": {},
   "outputs": [
    {
     "data": {
      "text/plain": [
       "<sqlalchemy.engine.cursor.CursorResult at 0x25585789780>"
      ]
     },
     "execution_count": 20,
     "metadata": {},
     "output_type": "execute_result"
    }
   ],
   "source": [
    "db.execute(text(\"\"\"\n",
    "CREATE TABLE course4 (\n",
    "    course_id INT NOT NULL,\n",
    "    course_name VARCHAR(255),\n",
    "    course_title VARCHAR(255),\n",
    "    course_desc VARCHAR(255),\n",
    "    launch_date DATE,\n",
    "    course_fee DECIMAL(20, 6),\n",
    "    course_mentor VARCHAR(255),\n",
    "    course_launch_year INT);\n",
    "\"\"\"))"
   ]
  },
  {
   "cell_type": "code",
   "execution_count": 23,
   "id": "4167d6f0",
   "metadata": {},
   "outputs": [
    {
     "data": {
      "text/plain": [
       "<sqlalchemy.engine.cursor.CursorResult at 0x255858c7fa0>"
      ]
     },
     "execution_count": 23,
     "metadata": {},
     "output_type": "execute_result"
    }
   ],
   "source": [
    "db.execute(text(\"\"\"\n",
    "ALTER TABLE course4\n",
    "PARTITION BY RANGE COLUMNS(course_mentor, course_launch_year)(\n",
    "    PARTITION p0 VALUES LESS THAN (\"person1\", 2020),\n",
    "    PARTITION p1 VALUES LESS THAN (\"person2\", 2021),\n",
    "    PARTITION p2 VALUES LESS THAN (\"person3\", 2023));\n",
    "\"\"\"))"
   ]
  },
  {
   "cell_type": "code",
   "execution_count": 26,
   "id": "e224f873",
   "metadata": {},
   "outputs": [
    {
     "data": {
      "text/plain": [
       "<sqlalchemy.engine.cursor.CursorResult at 0x25582c376a0>"
      ]
     },
     "execution_count": 26,
     "metadata": {},
     "output_type": "execute_result"
    }
   ],
   "source": [
    "db.execute(text(\"\"\"\n",
    "insert into course4 values (100, \"ML\", \"Machine Learning\", \"End to End Machine Learning course with captsone projects\", '2019-06-07', 3999.99, \"person1\", 2019),\n",
    "(101, \"ML1.0\", \"Machine Learning\", \"End to End Machine Learning course with captsone projects\", '2019-07-07', 3999.99, \"person2\", 2019),\n",
    "(102, \"ML2.0\", \"Machine Learning\", \"End to End Machine Learning course with captsone projects\", '2019-08-07', 3999.99, \"person3\", 2019),\n",
    "(103, \"Ml3.0\", \"Machine Learning\", \"End to End Machine Learning course with captsone projects\", '2019-09-07', 3999.99, \"person1\", 2019),\n",
    "(104, \"ML4.0\", \"Machine Learning\", \"End to End Machine Learning course with captsone projects\", '2020-07-07', 3999.99, \"person2\", 2020),\n",
    "(105, \"ML5.0\", \"Machine Learning\", \"End to End Machine Learning course with captsone projects\", '2020-08-07', 3999.99, \"person3\", 2020),\n",
    "(106, \"ML6.0\", \"Machine Learning\", \"End to End Machine Learning course with captsone projects\", '2020-09-07', 3999.99, \"person1\", 2020),\n",
    "(107, \"ML7.0\", \"Machine Learning\", \"End to End Machine Learning course with captsone projects\", '2021-07-07', 3999.99, \"person2\", 2021),\n",
    "(108, \"ML8.0\", \"Machine Learning\", \"End to End Machine Learning course with captsone projects\", '2021-08-07', 3999.99, \"person3\", 2021),\n",
    "(109, \"ML9.0\", \"Machine Learning\", \"End to End Machine Learning course with captsone projects\", '2021-09-07', 3999.99, \"person1\", 2021),\n",
    "(110, \"ML10.0\", \"Machine Learning\", \"End to End Machine Learning course with captsone projects\", '2022-07-07', 3999.99, \"person2\", 2022),\n",
    "(111, \"ML11.0\", \"Machine Learning\", \"End to End Machine Learning course with captsone projects\", '2022-08-07', 3999.99, \"person3\", 2022),\n",
    "(112, \"ML12.0\", \"Machine Learning\", \"End to End Machine Learning course with captsone projects\", '2022-09-07', 3999.99, \"person1\", 2022)\n",
    "\"\"\"))"
   ]
  },
  {
   "cell_type": "code",
   "execution_count": 27,
   "id": "93350cab",
   "metadata": {},
   "outputs": [
    {
     "data": {
      "text/html": [
       "<div>\n",
       "<style scoped>\n",
       "    .dataframe tbody tr th:only-of-type {\n",
       "        vertical-align: middle;\n",
       "    }\n",
       "\n",
       "    .dataframe tbody tr th {\n",
       "        vertical-align: top;\n",
       "    }\n",
       "\n",
       "    .dataframe thead th {\n",
       "        text-align: right;\n",
       "    }\n",
       "</style>\n",
       "<table border=\"1\" class=\"dataframe\">\n",
       "  <thead>\n",
       "    <tr style=\"text-align: right;\">\n",
       "      <th></th>\n",
       "      <th>PARTITION_NAME</th>\n",
       "      <th>TABLE_NAME</th>\n",
       "      <th>TABLE_ROWS</th>\n",
       "    </tr>\n",
       "  </thead>\n",
       "  <tbody>\n",
       "    <tr>\n",
       "      <th>0</th>\n",
       "      <td>p0</td>\n",
       "      <td>course4</td>\n",
       "      <td>2</td>\n",
       "    </tr>\n",
       "    <tr>\n",
       "      <th>1</th>\n",
       "      <td>p1</td>\n",
       "      <td>course4</td>\n",
       "      <td>5</td>\n",
       "    </tr>\n",
       "    <tr>\n",
       "      <th>2</th>\n",
       "      <td>p2</td>\n",
       "      <td>course4</td>\n",
       "      <td>6</td>\n",
       "    </tr>\n",
       "  </tbody>\n",
       "</table>\n",
       "</div>"
      ],
      "text/plain": [
       "  PARTITION_NAME TABLE_NAME  TABLE_ROWS\n",
       "0             p0    course4           2\n",
       "1             p1    course4           5\n",
       "2             p2    course4           6"
      ]
     },
     "execution_count": 27,
     "metadata": {},
     "output_type": "execute_result"
    }
   ],
   "source": [
    "data.query(\"\"\"\n",
    "select partition_name, table_name, table_rows from information_schema.partitions where table_name = \"course4\";\n",
    "\"\"\")"
   ]
  },
  {
   "cell_type": "code",
   "execution_count": 36,
   "id": "0ff0d310",
   "metadata": {},
   "outputs": [
    {
     "data": {
      "text/html": [
       "<div>\n",
       "<style scoped>\n",
       "    .dataframe tbody tr th:only-of-type {\n",
       "        vertical-align: middle;\n",
       "    }\n",
       "\n",
       "    .dataframe tbody tr th {\n",
       "        vertical-align: top;\n",
       "    }\n",
       "\n",
       "    .dataframe thead th {\n",
       "        text-align: right;\n",
       "    }\n",
       "</style>\n",
       "<table border=\"1\" class=\"dataframe\">\n",
       "  <thead>\n",
       "    <tr style=\"text-align: right;\">\n",
       "      <th></th>\n",
       "      <th>course_id</th>\n",
       "      <th>course_name</th>\n",
       "      <th>course_title</th>\n",
       "      <th>course_desc</th>\n",
       "      <th>launch_date</th>\n",
       "      <th>course_fee</th>\n",
       "      <th>course_mentor</th>\n",
       "      <th>course_launch_year</th>\n",
       "    </tr>\n",
       "  </thead>\n",
       "  <tbody>\n",
       "    <tr>\n",
       "      <th>0</th>\n",
       "      <td>102</td>\n",
       "      <td>ML2.0</td>\n",
       "      <td>Machine Learning</td>\n",
       "      <td>End to End Machine Learning course with captso...</td>\n",
       "      <td>2019-08-07</td>\n",
       "      <td>3999.990000</td>\n",
       "      <td>person3</td>\n",
       "      <td>2019</td>\n",
       "    </tr>\n",
       "    <tr>\n",
       "      <th>1</th>\n",
       "      <td>105</td>\n",
       "      <td>ML5.0</td>\n",
       "      <td>Machine Learning</td>\n",
       "      <td>End to End Machine Learning course with captso...</td>\n",
       "      <td>2020-08-07</td>\n",
       "      <td>3999.990000</td>\n",
       "      <td>person3</td>\n",
       "      <td>2020</td>\n",
       "    </tr>\n",
       "    <tr>\n",
       "      <th>2</th>\n",
       "      <td>107</td>\n",
       "      <td>ML7.0</td>\n",
       "      <td>Machine Learning</td>\n",
       "      <td>End to End Machine Learning course with captso...</td>\n",
       "      <td>2021-07-07</td>\n",
       "      <td>3999.990000</td>\n",
       "      <td>person2</td>\n",
       "      <td>2021</td>\n",
       "    </tr>\n",
       "    <tr>\n",
       "      <th>3</th>\n",
       "      <td>108</td>\n",
       "      <td>ML8.0</td>\n",
       "      <td>Machine Learning</td>\n",
       "      <td>End to End Machine Learning course with captso...</td>\n",
       "      <td>2021-08-07</td>\n",
       "      <td>3999.990000</td>\n",
       "      <td>person3</td>\n",
       "      <td>2021</td>\n",
       "    </tr>\n",
       "    <tr>\n",
       "      <th>4</th>\n",
       "      <td>110</td>\n",
       "      <td>ML10.0</td>\n",
       "      <td>Machine Learning</td>\n",
       "      <td>End to End Machine Learning course with captso...</td>\n",
       "      <td>2022-07-07</td>\n",
       "      <td>3999.990000</td>\n",
       "      <td>person2</td>\n",
       "      <td>2022</td>\n",
       "    </tr>\n",
       "    <tr>\n",
       "      <th>5</th>\n",
       "      <td>111</td>\n",
       "      <td>ML11.0</td>\n",
       "      <td>Machine Learning</td>\n",
       "      <td>End to End Machine Learning course with captso...</td>\n",
       "      <td>2022-08-07</td>\n",
       "      <td>3999.990000</td>\n",
       "      <td>person3</td>\n",
       "      <td>2022</td>\n",
       "    </tr>\n",
       "  </tbody>\n",
       "</table>\n",
       "</div>"
      ],
      "text/plain": [
       "   course_id course_name      course_title  \\\n",
       "0        102       ML2.0  Machine Learning   \n",
       "1        105       ML5.0  Machine Learning   \n",
       "2        107       ML7.0  Machine Learning   \n",
       "3        108       ML8.0  Machine Learning   \n",
       "4        110      ML10.0  Machine Learning   \n",
       "5        111      ML11.0  Machine Learning   \n",
       "\n",
       "                                         course_desc launch_date   course_fee  \\\n",
       "0  End to End Machine Learning course with captso...  2019-08-07  3999.990000   \n",
       "1  End to End Machine Learning course with captso...  2020-08-07  3999.990000   \n",
       "2  End to End Machine Learning course with captso...  2021-07-07  3999.990000   \n",
       "3  End to End Machine Learning course with captso...  2021-08-07  3999.990000   \n",
       "4  End to End Machine Learning course with captso...  2022-07-07  3999.990000   \n",
       "5  End to End Machine Learning course with captso...  2022-08-07  3999.990000   \n",
       "\n",
       "  course_mentor  course_launch_year  \n",
       "0       person3                2019  \n",
       "1       person3                2020  \n",
       "2       person2                2021  \n",
       "3       person3                2021  \n",
       "4       person2                2022  \n",
       "5       person3                2022  "
      ]
     },
     "execution_count": 36,
     "metadata": {},
     "output_type": "execute_result"
    }
   ],
   "source": [
    "data.query(\"\"\"\n",
    "SELECT * FROM course4 PARTITION (p2);\n",
    "\"\"\")"
   ]
  },
  {
   "cell_type": "markdown",
   "id": "7c5e3f1e",
   "metadata": {},
   "source": [
    "### List of columns\n",
    "\n",
    "* Multiple column values\n",
    "\n",
    "* **List** accept only int values but **List Columns** accept varity range of values "
   ]
  },
  {
   "cell_type": "code",
   "execution_count": 37,
   "id": "17665108",
   "metadata": {},
   "outputs": [
    {
     "data": {
      "text/plain": [
       "<sqlalchemy.engine.cursor.CursorResult at 0x25585babf40>"
      ]
     },
     "execution_count": 37,
     "metadata": {},
     "output_type": "execute_result"
    }
   ],
   "source": [
    "db.execute(text(\"\"\"\n",
    "CREATE TABLE course5 (\n",
    "    course_id INT NOT NULL,\n",
    "    course_name VARCHAR(255),\n",
    "    course_title VARCHAR(255),\n",
    "    course_desc VARCHAR(255),\n",
    "    launch_date DATE,\n",
    "    course_fee DECIMAL(20, 6),\n",
    "    course_mentor VARCHAR(255),\n",
    "    course_launch_year INT);\n",
    "\"\"\"))"
   ]
  },
  {
   "cell_type": "code",
   "execution_count": 38,
   "id": "4ebdf8f8",
   "metadata": {},
   "outputs": [
    {
     "data": {
      "text/plain": [
       "<sqlalchemy.engine.cursor.CursorResult at 0x25585b479a0>"
      ]
     },
     "execution_count": 38,
     "metadata": {},
     "output_type": "execute_result"
    }
   ],
   "source": [
    "db.execute(text(\"\"\"\n",
    "ALTER TABLE course5\n",
    "partition by list columns(course_mentor) (\n",
    "    partition p0 values in(\"person1\"),\n",
    "    partition p1 values in(\"person2\"),\n",
    "    partition p2 values in(\"person3\")\n",
    ")\n",
    "\"\"\"))"
   ]
  },
  {
   "cell_type": "code",
   "execution_count": 39,
   "id": "eb31fd2a",
   "metadata": {},
   "outputs": [
    {
     "data": {
      "text/plain": [
       "<sqlalchemy.engine.cursor.CursorResult at 0x25581813ac0>"
      ]
     },
     "execution_count": 39,
     "metadata": {},
     "output_type": "execute_result"
    }
   ],
   "source": [
    "db.execute(text(\"\"\"\n",
    "insert into course5 values (100, \"ML\", \"Machine Learning\", \"End to End Machine Learning course with captsone projects\", '2019-06-07', 3999.99, \"person1\", 2019),\n",
    "(101, \"ML1.0\", \"Machine Learning\", \"End to End Machine Learning course with captsone projects\", '2019-07-07', 3999.99, \"person2\", 2019),\n",
    "(102, \"ML2.0\", \"Machine Learning\", \"End to End Machine Learning course with captsone projects\", '2019-08-07', 3999.99, \"person3\", 2019),\n",
    "(103, \"Ml3.0\", \"Machine Learning\", \"End to End Machine Learning course with captsone projects\", '2019-09-07', 3999.99, \"person1\", 2019),\n",
    "(104, \"ML4.0\", \"Machine Learning\", \"End to End Machine Learning course with captsone projects\", '2020-07-07', 3999.99, \"person2\", 2020),\n",
    "(105, \"ML5.0\", \"Machine Learning\", \"End to End Machine Learning course with captsone projects\", '2020-08-07', 3999.99, \"person3\", 2020),\n",
    "(106, \"ML6.0\", \"Machine Learning\", \"End to End Machine Learning course with captsone projects\", '2020-09-07', 3999.99, \"person1\", 2020),\n",
    "(107, \"ML7.0\", \"Machine Learning\", \"End to End Machine Learning course with captsone projects\", '2021-07-07', 3999.99, \"person2\", 2021),\n",
    "(108, \"ML8.0\", \"Machine Learning\", \"End to End Machine Learning course with captsone projects\", '2021-08-07', 3999.99, \"person3\", 2021),\n",
    "(109, \"ML9.0\", \"Machine Learning\", \"End to End Machine Learning course with captsone projects\", '2021-09-07', 3999.99, \"person1\", 2021),\n",
    "(110, \"ML10.0\", \"Machine Learning\", \"End to End Machine Learning course with captsone projects\", '2022-07-07', 3999.99, \"person2\", 2022),\n",
    "(111, \"ML11.0\", \"Machine Learning\", \"End to End Machine Learning course with captsone projects\", '2022-08-07', 3999.99, \"person3\", 2022),\n",
    "(112, \"ML12.0\", \"Machine Learning\", \"End to End Machine Learning course with captsone projects\", '2022-09-07', 3999.99, \"person1\", 2022)\n",
    "\"\"\"))"
   ]
  },
  {
   "cell_type": "code",
   "execution_count": 40,
   "id": "0afb0d3a",
   "metadata": {},
   "outputs": [
    {
     "data": {
      "text/html": [
       "<div>\n",
       "<style scoped>\n",
       "    .dataframe tbody tr th:only-of-type {\n",
       "        vertical-align: middle;\n",
       "    }\n",
       "\n",
       "    .dataframe tbody tr th {\n",
       "        vertical-align: top;\n",
       "    }\n",
       "\n",
       "    .dataframe thead th {\n",
       "        text-align: right;\n",
       "    }\n",
       "</style>\n",
       "<table border=\"1\" class=\"dataframe\">\n",
       "  <thead>\n",
       "    <tr style=\"text-align: right;\">\n",
       "      <th></th>\n",
       "      <th>PARTITION_NAME</th>\n",
       "      <th>TABLE_NAME</th>\n",
       "      <th>TABLE_ROWS</th>\n",
       "    </tr>\n",
       "  </thead>\n",
       "  <tbody>\n",
       "    <tr>\n",
       "      <th>0</th>\n",
       "      <td>p0</td>\n",
       "      <td>course5</td>\n",
       "      <td>5</td>\n",
       "    </tr>\n",
       "    <tr>\n",
       "      <th>1</th>\n",
       "      <td>p1</td>\n",
       "      <td>course5</td>\n",
       "      <td>4</td>\n",
       "    </tr>\n",
       "    <tr>\n",
       "      <th>2</th>\n",
       "      <td>p2</td>\n",
       "      <td>course5</td>\n",
       "      <td>4</td>\n",
       "    </tr>\n",
       "  </tbody>\n",
       "</table>\n",
       "</div>"
      ],
      "text/plain": [
       "  PARTITION_NAME TABLE_NAME  TABLE_ROWS\n",
       "0             p0    course5           5\n",
       "1             p1    course5           4\n",
       "2             p2    course5           4"
      ]
     },
     "execution_count": 40,
     "metadata": {},
     "output_type": "execute_result"
    }
   ],
   "source": [
    "data.query(\"\"\"\n",
    "select partition_name, table_name, table_rows from information_schema.partitions where table_name = \"course5\";\n",
    "\"\"\")"
   ]
  },
  {
   "cell_type": "code",
   "execution_count": 41,
   "id": "b6b82ae0",
   "metadata": {},
   "outputs": [
    {
     "data": {
      "text/plain": [
       "<sqlalchemy.engine.cursor.CursorResult at 0x25585b466e0>"
      ]
     },
     "execution_count": 41,
     "metadata": {},
     "output_type": "execute_result"
    }
   ],
   "source": [
    "db.execute(text(\"\"\"\n",
    "commit;\n",
    "\"\"\"))"
   ]
  },
  {
   "cell_type": "markdown",
   "id": "1a640b30",
   "metadata": {},
   "source": [
    "### Partitions inside of partition"
   ]
  },
  {
   "cell_type": "code",
   "execution_count": 55,
   "id": "ed5a2379",
   "metadata": {},
   "outputs": [
    {
     "data": {
      "text/plain": [
       "<sqlalchemy.engine.cursor.CursorResult at 0x25585ff0d00>"
      ]
     },
     "execution_count": 55,
     "metadata": {},
     "output_type": "execute_result"
    }
   ],
   "source": [
    "db.execute(text(\"\"\"\n",
    "CREATE TABLE course6 (\n",
    "    course_id INT NOT NULL,\n",
    "    course_name VARCHAR(255),\n",
    "    course_title VARCHAR(255),\n",
    "    course_desc VARCHAR(255),\n",
    "    launch_date DATE,\n",
    "    course_fee DECIMAL(20, 6),\n",
    "    course_mentor VARCHAR(255),\n",
    "    course_launch_year INT);\n",
    "\"\"\"))"
   ]
  },
  {
   "cell_type": "code",
   "execution_count": 56,
   "id": "f2032137",
   "metadata": {},
   "outputs": [
    {
     "data": {
      "text/plain": [
       "<sqlalchemy.engine.cursor.CursorResult at 0x25585ff1ea0>"
      ]
     },
     "execution_count": 56,
     "metadata": {},
     "output_type": "execute_result"
    }
   ],
   "source": [
    "db.execute(text(\"\"\"\n",
    "ALTER TABLE course6\n",
    "PARTITION BY RANGE (course_launch_year)\n",
    "SUBPARTITION BY HASH(course_launch_year)\n",
    "SUBPARTITIONS 4 (\n",
    "    PARTITION p0 VALUES LESS THAN (2020),\n",
    "    PARTITION p1 VALUES LESS THAN (2021),\n",
    "    PARTITION p2 VALUES LESS THAN (2022),\n",
    "    PARTITION p3 VALUES LESS THAN (2023)\n",
    ");\n",
    "\"\"\"))"
   ]
  },
  {
   "cell_type": "code",
   "execution_count": 57,
   "id": "47516ead",
   "metadata": {},
   "outputs": [
    {
     "data": {
      "text/plain": [
       "<sqlalchemy.engine.cursor.CursorResult at 0x25585ff1fc0>"
      ]
     },
     "execution_count": 57,
     "metadata": {},
     "output_type": "execute_result"
    }
   ],
   "source": [
    "db.execute(text(\"\"\"\n",
    "insert into course6 values (100, \"ML\", \"Machine Learning\", \"End to End Machine Learning course with captsone projects\", '2019-06-07', 3999.99, \"person1\", 2019),\n",
    "(101, \"ML1.0\", \"Machine Learning\", \"End to End Machine Learning course with captsone projects\", '2019-07-07', 3999.99, \"person2\", 2019),\n",
    "(102, \"ML2.0\", \"Machine Learning\", \"End to End Machine Learning course with captsone projects\", '2019-08-07', 3999.99, \"person3\", 2019),\n",
    "(103, \"Ml3.0\", \"Machine Learning\", \"End to End Machine Learning course with captsone projects\", '2019-09-07', 3999.99, \"person1\", 2019),\n",
    "(104, \"ML4.0\", \"Machine Learning\", \"End to End Machine Learning course with captsone projects\", '2020-07-07', 3999.99, \"person2\", 2020),\n",
    "(105, \"ML5.0\", \"Machine Learning\", \"End to End Machine Learning course with captsone projects\", '2020-08-07', 3999.99, \"person3\", 2020),\n",
    "(106, \"ML6.0\", \"Machine Learning\", \"End to End Machine Learning course with captsone projects\", '2020-09-07', 3999.99, \"person1\", 2020),\n",
    "(107, \"ML7.0\", \"Machine Learning\", \"End to End Machine Learning course with captsone projects\", '2021-07-07', 3999.99, \"person2\", 2021),\n",
    "(108, \"ML8.0\", \"Machine Learning\", \"End to End Machine Learning course with captsone projects\", '2021-08-07', 3999.99, \"person3\", 2021),\n",
    "(109, \"ML9.0\", \"Machine Learning\", \"End to End Machine Learning course with captsone projects\", '2021-09-07', 3999.99, \"person1\", 2021),\n",
    "(110, \"ML10.0\", \"Machine Learning\", \"End to End Machine Learning course with captsone projects\", '2022-07-07', 3999.99, \"person2\", 2022),\n",
    "(111, \"ML11.0\", \"Machine Learning\", \"End to End Machine Learning course with captsone projects\", '2022-08-07', 3999.99, \"person3\", 2022),\n",
    "(112, \"ML12.0\", \"Machine Learning\", \"End to End Machine Learning course with captsone projects\", '2022-09-07', 3999.99, \"person1\", 2022)\n",
    "\"\"\"))"
   ]
  },
  {
   "cell_type": "code",
   "execution_count": 58,
   "id": "bf17f92c",
   "metadata": {},
   "outputs": [
    {
     "data": {
      "text/html": [
       "<div>\n",
       "<style scoped>\n",
       "    .dataframe tbody tr th:only-of-type {\n",
       "        vertical-align: middle;\n",
       "    }\n",
       "\n",
       "    .dataframe tbody tr th {\n",
       "        vertical-align: top;\n",
       "    }\n",
       "\n",
       "    .dataframe thead th {\n",
       "        text-align: right;\n",
       "    }\n",
       "</style>\n",
       "<table border=\"1\" class=\"dataframe\">\n",
       "  <thead>\n",
       "    <tr style=\"text-align: right;\">\n",
       "      <th></th>\n",
       "      <th>PARTITION_NAME</th>\n",
       "      <th>TABLE_NAME</th>\n",
       "      <th>TABLE_ROWS</th>\n",
       "    </tr>\n",
       "  </thead>\n",
       "  <tbody>\n",
       "    <tr>\n",
       "      <th>0</th>\n",
       "      <td>p0</td>\n",
       "      <td>course6</td>\n",
       "      <td>0</td>\n",
       "    </tr>\n",
       "    <tr>\n",
       "      <th>1</th>\n",
       "      <td>p0</td>\n",
       "      <td>course6</td>\n",
       "      <td>0</td>\n",
       "    </tr>\n",
       "    <tr>\n",
       "      <th>2</th>\n",
       "      <td>p0</td>\n",
       "      <td>course6</td>\n",
       "      <td>0</td>\n",
       "    </tr>\n",
       "    <tr>\n",
       "      <th>3</th>\n",
       "      <td>p0</td>\n",
       "      <td>course6</td>\n",
       "      <td>4</td>\n",
       "    </tr>\n",
       "    <tr>\n",
       "      <th>4</th>\n",
       "      <td>p1</td>\n",
       "      <td>course6</td>\n",
       "      <td>3</td>\n",
       "    </tr>\n",
       "    <tr>\n",
       "      <th>5</th>\n",
       "      <td>p1</td>\n",
       "      <td>course6</td>\n",
       "      <td>0</td>\n",
       "    </tr>\n",
       "    <tr>\n",
       "      <th>6</th>\n",
       "      <td>p1</td>\n",
       "      <td>course6</td>\n",
       "      <td>0</td>\n",
       "    </tr>\n",
       "    <tr>\n",
       "      <th>7</th>\n",
       "      <td>p1</td>\n",
       "      <td>course6</td>\n",
       "      <td>0</td>\n",
       "    </tr>\n",
       "    <tr>\n",
       "      <th>8</th>\n",
       "      <td>p2</td>\n",
       "      <td>course6</td>\n",
       "      <td>0</td>\n",
       "    </tr>\n",
       "    <tr>\n",
       "      <th>9</th>\n",
       "      <td>p2</td>\n",
       "      <td>course6</td>\n",
       "      <td>3</td>\n",
       "    </tr>\n",
       "    <tr>\n",
       "      <th>10</th>\n",
       "      <td>p2</td>\n",
       "      <td>course6</td>\n",
       "      <td>0</td>\n",
       "    </tr>\n",
       "    <tr>\n",
       "      <th>11</th>\n",
       "      <td>p2</td>\n",
       "      <td>course6</td>\n",
       "      <td>0</td>\n",
       "    </tr>\n",
       "    <tr>\n",
       "      <th>12</th>\n",
       "      <td>p3</td>\n",
       "      <td>course6</td>\n",
       "      <td>0</td>\n",
       "    </tr>\n",
       "    <tr>\n",
       "      <th>13</th>\n",
       "      <td>p3</td>\n",
       "      <td>course6</td>\n",
       "      <td>0</td>\n",
       "    </tr>\n",
       "    <tr>\n",
       "      <th>14</th>\n",
       "      <td>p3</td>\n",
       "      <td>course6</td>\n",
       "      <td>3</td>\n",
       "    </tr>\n",
       "    <tr>\n",
       "      <th>15</th>\n",
       "      <td>p3</td>\n",
       "      <td>course6</td>\n",
       "      <td>0</td>\n",
       "    </tr>\n",
       "  </tbody>\n",
       "</table>\n",
       "</div>"
      ],
      "text/plain": [
       "   PARTITION_NAME TABLE_NAME  TABLE_ROWS\n",
       "0              p0    course6           0\n",
       "1              p0    course6           0\n",
       "2              p0    course6           0\n",
       "3              p0    course6           4\n",
       "4              p1    course6           3\n",
       "5              p1    course6           0\n",
       "6              p1    course6           0\n",
       "7              p1    course6           0\n",
       "8              p2    course6           0\n",
       "9              p2    course6           3\n",
       "10             p2    course6           0\n",
       "11             p2    course6           0\n",
       "12             p3    course6           0\n",
       "13             p3    course6           0\n",
       "14             p3    course6           3\n",
       "15             p3    course6           0"
      ]
     },
     "execution_count": 58,
     "metadata": {},
     "output_type": "execute_result"
    }
   ],
   "source": [
    "data.query(\"\"\"\n",
    "select partition_name, table_name, table_rows from information_schema.partitions where table_name = \"course6\";\n",
    "\"\"\")"
   ]
  },
  {
   "cell_type": "code",
   "execution_count": 61,
   "id": "8e52d6ac",
   "metadata": {},
   "outputs": [
    {
     "data": {
      "text/html": [
       "<div>\n",
       "<style scoped>\n",
       "    .dataframe tbody tr th:only-of-type {\n",
       "        vertical-align: middle;\n",
       "    }\n",
       "\n",
       "    .dataframe tbody tr th {\n",
       "        vertical-align: top;\n",
       "    }\n",
       "\n",
       "    .dataframe thead th {\n",
       "        text-align: right;\n",
       "    }\n",
       "</style>\n",
       "<table border=\"1\" class=\"dataframe\">\n",
       "  <thead>\n",
       "    <tr style=\"text-align: right;\">\n",
       "      <th></th>\n",
       "      <th>TABLE_NAME</th>\n",
       "      <th>PARTITION_NAME</th>\n",
       "      <th>SUBPARTITION_NAME</th>\n",
       "      <th>TABLE_ROWS</th>\n",
       "    </tr>\n",
       "  </thead>\n",
       "  <tbody>\n",
       "    <tr>\n",
       "      <th>0</th>\n",
       "      <td>course6</td>\n",
       "      <td>p0</td>\n",
       "      <td>p0sp0</td>\n",
       "      <td>0</td>\n",
       "    </tr>\n",
       "    <tr>\n",
       "      <th>1</th>\n",
       "      <td>course6</td>\n",
       "      <td>p0</td>\n",
       "      <td>p0sp1</td>\n",
       "      <td>0</td>\n",
       "    </tr>\n",
       "    <tr>\n",
       "      <th>2</th>\n",
       "      <td>course6</td>\n",
       "      <td>p0</td>\n",
       "      <td>p0sp2</td>\n",
       "      <td>0</td>\n",
       "    </tr>\n",
       "    <tr>\n",
       "      <th>3</th>\n",
       "      <td>course6</td>\n",
       "      <td>p0</td>\n",
       "      <td>p0sp3</td>\n",
       "      <td>4</td>\n",
       "    </tr>\n",
       "    <tr>\n",
       "      <th>4</th>\n",
       "      <td>course6</td>\n",
       "      <td>p1</td>\n",
       "      <td>p1sp0</td>\n",
       "      <td>3</td>\n",
       "    </tr>\n",
       "    <tr>\n",
       "      <th>5</th>\n",
       "      <td>course6</td>\n",
       "      <td>p1</td>\n",
       "      <td>p1sp1</td>\n",
       "      <td>0</td>\n",
       "    </tr>\n",
       "    <tr>\n",
       "      <th>6</th>\n",
       "      <td>course6</td>\n",
       "      <td>p1</td>\n",
       "      <td>p1sp2</td>\n",
       "      <td>0</td>\n",
       "    </tr>\n",
       "    <tr>\n",
       "      <th>7</th>\n",
       "      <td>course6</td>\n",
       "      <td>p1</td>\n",
       "      <td>p1sp3</td>\n",
       "      <td>0</td>\n",
       "    </tr>\n",
       "    <tr>\n",
       "      <th>8</th>\n",
       "      <td>course6</td>\n",
       "      <td>p2</td>\n",
       "      <td>p2sp0</td>\n",
       "      <td>0</td>\n",
       "    </tr>\n",
       "    <tr>\n",
       "      <th>9</th>\n",
       "      <td>course6</td>\n",
       "      <td>p2</td>\n",
       "      <td>p2sp1</td>\n",
       "      <td>3</td>\n",
       "    </tr>\n",
       "    <tr>\n",
       "      <th>10</th>\n",
       "      <td>course6</td>\n",
       "      <td>p2</td>\n",
       "      <td>p2sp2</td>\n",
       "      <td>0</td>\n",
       "    </tr>\n",
       "    <tr>\n",
       "      <th>11</th>\n",
       "      <td>course6</td>\n",
       "      <td>p2</td>\n",
       "      <td>p2sp3</td>\n",
       "      <td>0</td>\n",
       "    </tr>\n",
       "    <tr>\n",
       "      <th>12</th>\n",
       "      <td>course6</td>\n",
       "      <td>p3</td>\n",
       "      <td>p3sp0</td>\n",
       "      <td>0</td>\n",
       "    </tr>\n",
       "    <tr>\n",
       "      <th>13</th>\n",
       "      <td>course6</td>\n",
       "      <td>p3</td>\n",
       "      <td>p3sp1</td>\n",
       "      <td>0</td>\n",
       "    </tr>\n",
       "    <tr>\n",
       "      <th>14</th>\n",
       "      <td>course6</td>\n",
       "      <td>p3</td>\n",
       "      <td>p3sp2</td>\n",
       "      <td>3</td>\n",
       "    </tr>\n",
       "    <tr>\n",
       "      <th>15</th>\n",
       "      <td>course6</td>\n",
       "      <td>p3</td>\n",
       "      <td>p3sp3</td>\n",
       "      <td>0</td>\n",
       "    </tr>\n",
       "  </tbody>\n",
       "</table>\n",
       "</div>"
      ],
      "text/plain": [
       "   TABLE_NAME PARTITION_NAME SUBPARTITION_NAME  TABLE_ROWS\n",
       "0     course6             p0             p0sp0           0\n",
       "1     course6             p0             p0sp1           0\n",
       "2     course6             p0             p0sp2           0\n",
       "3     course6             p0             p0sp3           4\n",
       "4     course6             p1             p1sp0           3\n",
       "5     course6             p1             p1sp1           0\n",
       "6     course6             p1             p1sp2           0\n",
       "7     course6             p1             p1sp3           0\n",
       "8     course6             p2             p2sp0           0\n",
       "9     course6             p2             p2sp1           3\n",
       "10    course6             p2             p2sp2           0\n",
       "11    course6             p2             p2sp3           0\n",
       "12    course6             p3             p3sp0           0\n",
       "13    course6             p3             p3sp1           0\n",
       "14    course6             p3             p3sp2           3\n",
       "15    course6             p3             p3sp3           0"
      ]
     },
     "execution_count": 61,
     "metadata": {},
     "output_type": "execute_result"
    }
   ],
   "source": [
    "data.query(\"\"\"\n",
    "SELECT \n",
    "    table_name,\n",
    "    partition_name,\n",
    "    subpartition_name,\n",
    "    table_rows\n",
    "FROM \n",
    "    information_schema.partitions \n",
    "WHERE \n",
    "    table_name = 'course6';\n",
    "\"\"\")"
   ]
  },
  {
   "cell_type": "code",
   "execution_count": 67,
   "id": "5baef0c9",
   "metadata": {},
   "outputs": [
    {
     "data": {
      "text/html": [
       "<div>\n",
       "<style scoped>\n",
       "    .dataframe tbody tr th:only-of-type {\n",
       "        vertical-align: middle;\n",
       "    }\n",
       "\n",
       "    .dataframe tbody tr th {\n",
       "        vertical-align: top;\n",
       "    }\n",
       "\n",
       "    .dataframe thead th {\n",
       "        text-align: right;\n",
       "    }\n",
       "</style>\n",
       "<table border=\"1\" class=\"dataframe\">\n",
       "  <thead>\n",
       "    <tr style=\"text-align: right;\">\n",
       "      <th></th>\n",
       "      <th>course_id</th>\n",
       "      <th>course_name</th>\n",
       "      <th>course_title</th>\n",
       "      <th>course_desc</th>\n",
       "      <th>launch_date</th>\n",
       "      <th>course_fee</th>\n",
       "      <th>course_mentor</th>\n",
       "      <th>course_launch_year</th>\n",
       "    </tr>\n",
       "  </thead>\n",
       "  <tbody>\n",
       "    <tr>\n",
       "      <th>0</th>\n",
       "      <td>100</td>\n",
       "      <td>ML</td>\n",
       "      <td>Machine Learning</td>\n",
       "      <td>End to End Machine Learning course with captso...</td>\n",
       "      <td>2019-06-07</td>\n",
       "      <td>3999.990000</td>\n",
       "      <td>person1</td>\n",
       "      <td>2019</td>\n",
       "    </tr>\n",
       "    <tr>\n",
       "      <th>1</th>\n",
       "      <td>101</td>\n",
       "      <td>ML1.0</td>\n",
       "      <td>Machine Learning</td>\n",
       "      <td>End to End Machine Learning course with captso...</td>\n",
       "      <td>2019-07-07</td>\n",
       "      <td>3999.990000</td>\n",
       "      <td>person2</td>\n",
       "      <td>2019</td>\n",
       "    </tr>\n",
       "    <tr>\n",
       "      <th>2</th>\n",
       "      <td>102</td>\n",
       "      <td>ML2.0</td>\n",
       "      <td>Machine Learning</td>\n",
       "      <td>End to End Machine Learning course with captso...</td>\n",
       "      <td>2019-08-07</td>\n",
       "      <td>3999.990000</td>\n",
       "      <td>person3</td>\n",
       "      <td>2019</td>\n",
       "    </tr>\n",
       "    <tr>\n",
       "      <th>3</th>\n",
       "      <td>103</td>\n",
       "      <td>Ml3.0</td>\n",
       "      <td>Machine Learning</td>\n",
       "      <td>End to End Machine Learning course with captso...</td>\n",
       "      <td>2019-09-07</td>\n",
       "      <td>3999.990000</td>\n",
       "      <td>person1</td>\n",
       "      <td>2019</td>\n",
       "    </tr>\n",
       "  </tbody>\n",
       "</table>\n",
       "</div>"
      ],
      "text/plain": [
       "   course_id course_name      course_title  \\\n",
       "0        100          ML  Machine Learning   \n",
       "1        101       ML1.0  Machine Learning   \n",
       "2        102       ML2.0  Machine Learning   \n",
       "3        103       Ml3.0  Machine Learning   \n",
       "\n",
       "                                         course_desc launch_date   course_fee  \\\n",
       "0  End to End Machine Learning course with captso...  2019-06-07  3999.990000   \n",
       "1  End to End Machine Learning course with captso...  2019-07-07  3999.990000   \n",
       "2  End to End Machine Learning course with captso...  2019-08-07  3999.990000   \n",
       "3  End to End Machine Learning course with captso...  2019-09-07  3999.990000   \n",
       "\n",
       "  course_mentor  course_launch_year  \n",
       "0       person1                2019  \n",
       "1       person2                2019  \n",
       "2       person3                2019  \n",
       "3       person1                2019  "
      ]
     },
     "execution_count": 67,
     "metadata": {},
     "output_type": "execute_result"
    }
   ],
   "source": [
    "data.query(\"\"\"\n",
    "SELECT * FROM course6 PARTITION (p0);\n",
    "\"\"\")"
   ]
  },
  {
   "cell_type": "code",
   "execution_count": null,
   "id": "133a8be2",
   "metadata": {},
   "outputs": [],
   "source": []
  }
 ],
 "metadata": {
  "kernelspec": {
   "display_name": "Python 3 (ipykernel)",
   "language": "python",
   "name": "python3"
  },
  "language_info": {
   "codemirror_mode": {
    "name": "ipython",
    "version": 3
   },
   "file_extension": ".py",
   "mimetype": "text/x-python",
   "name": "python",
   "nbconvert_exporter": "python",
   "pygments_lexer": "ipython3",
   "version": "3.10.13"
  }
 },
 "nbformat": 4,
 "nbformat_minor": 5
}
