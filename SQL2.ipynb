{
 "cells": [
  {
   "cell_type": "markdown",
   "id": "f28ce07a",
   "metadata": {},
   "source": [
    "## `Procedures`"
   ]
  },
  {
   "cell_type": "code",
   "execution_count": 1,
   "id": "bc80e49c",
   "metadata": {},
   "outputs": [],
   "source": [
    "from sqlalchemy.engine import create_engine\n",
    "from sqlalchemy.ext.declarative import declarative_base\n",
    "from sqlalchemy.orm import sessionmaker\n",
    "from sqlalchemy import text"
   ]
  },
  {
   "cell_type": "code",
   "execution_count": 2,
   "id": "bf649c51",
   "metadata": {},
   "outputs": [],
   "source": [
    "db_user = 'root'\n",
    "db_password = 'rushi12345'\n",
    "db_host = '192.168.29.7'\n",
    "db_name = 'data_prac_db' \n",
    "\n",
    "engine = create_engine(f\"mysql+pymysql://{db_user}:{db_password}@{db_host}/{db_name}\")\n",
    "SessionLocal = sessionmaker(autoflush=True, bind=engine)"
   ]
  },
  {
   "cell_type": "code",
   "execution_count": 3,
   "id": "a69443f2",
   "metadata": {},
   "outputs": [],
   "source": [
    "db = SessionLocal()"
   ]
  },
  {
   "cell_type": "code",
   "execution_count": 4,
   "id": "b2dda49d",
   "metadata": {},
   "outputs": [
    {
     "data": {
      "text/plain": [
       "[('bank_details',)]"
      ]
     },
     "execution_count": 4,
     "metadata": {},
     "output_type": "execute_result"
    }
   ],
   "source": [
    "db.execute(text(\"\"\"\n",
    "show tables;\n",
    "\"\"\")).fetchmany()"
   ]
  },
  {
   "cell_type": "code",
   "execution_count": 19,
   "id": "8a73003c",
   "metadata": {},
   "outputs": [
    {
     "data": {
      "text/plain": [
       "<sqlalchemy.engine.cursor.CursorResult at 0x1c305caba00>"
      ]
     },
     "execution_count": 19,
     "metadata": {},
     "output_type": "execute_result"
    }
   ],
   "source": [
    "db.execute(text(\"\"\"\n",
    "    CREATE PROCEDURE head(IN param INT)\n",
    "    BEGIN\n",
    "        SELECT * FROM bank_details LIMIT param;\n",
    "    END\n",
    "\"\"\"))"
   ]
  },
  {
   "cell_type": "code",
   "execution_count": 21,
   "id": "1df16a98",
   "metadata": {},
   "outputs": [
    {
     "data": {
      "text/plain": [
       "[(58, 'management', 'married', 'tertiary', 'no', 2143, 'yes', 'no', 'unknown', 5, 'may', 261, 1, -1, 0, 'unknown', 'no'),\n",
       " (44, 'technician', 'single', 'secondary', 'no', 29, 'yes', 'no', 'unknown', 5, 'may', 151, 1, -1, 0, 'unknown', 'no'),\n",
       " (33, 'entrepreneur', 'married', 'secondary', 'no', 2, 'yes', 'yes', 'unknown', 5, 'may', 76, 1, -1, 0, 'unknown', 'no'),\n",
       " (47, 'blue-collar', 'married', 'unknown', 'no', 1506, 'yes', 'no', 'unknown', 5, 'may', 92, 1, -1, 0, 'unknown', 'no'),\n",
       " (33, 'unknown', 'single', 'unknown', 'no', 1, 'no', 'no', 'unknown', 5, 'may', 198, 1, -1, 0, 'unknown', 'no')]"
      ]
     },
     "execution_count": 21,
     "metadata": {},
     "output_type": "execute_result"
    }
   ],
   "source": [
    "db.execute(text(\"\"\"\n",
    "call head(5)\n",
    "\"\"\")).fetchall()"
   ]
  },
  {
   "cell_type": "code",
   "execution_count": 22,
   "id": "fe6a800e",
   "metadata": {},
   "outputs": [
    {
     "data": {
      "text/plain": [
       "(51, 'management', 'single', 'tertiary', 'no', 102127, 'no', 'no', 'cellular', 3, 'jun', 90, 1, -1, 0, 'unknown', 'no')"
      ]
     },
     "execution_count": 22,
     "metadata": {},
     "output_type": "execute_result"
    }
   ],
   "source": [
    "db.execute(text(\"\"\"\n",
    "select * from bank_details where balance in (select max(balance) from bank_details);\n",
    "\"\"\")).fetchone()"
   ]
  },
  {
   "cell_type": "code",
   "execution_count": 8,
   "id": "d229a23b",
   "metadata": {},
   "outputs": [
    {
     "data": {
      "text/plain": [
       "<sqlalchemy.engine.cursor.CursorResult at 0x22eba29b460>"
      ]
     },
     "execution_count": 8,
     "metadata": {},
     "output_type": "execute_result"
    }
   ],
   "source": [
    "db.execute(text(\"\"\"\n",
    "CREATE PROCEDURE getAvgByJob(IN inputparam varchar(32))\n",
    "BEGIN\n",
    "  SELECT AVG(balance) FROM bank_details WHERE job = inputparam;\n",
    "END\n",
    "\"\"\"))"
   ]
  },
  {
   "cell_type": "code",
   "execution_count": 23,
   "id": "e22a9592",
   "metadata": {},
   "outputs": [
    {
     "data": {
      "text/plain": [
       "(Decimal('1135.8389'),)"
      ]
     },
     "execution_count": 23,
     "metadata": {},
     "output_type": "execute_result"
    }
   ],
   "source": [
    "db.execute(text(\"\"\"\n",
    "call getAvgByJob(\"admin.\")\n",
    "\"\"\")).fetchone()"
   ]
  },
  {
   "cell_type": "code",
   "execution_count": 24,
   "id": "533e851d",
   "metadata": {},
   "outputs": [
    {
     "data": {
      "text/plain": [
       "(Decimal('1984.2151'),)"
      ]
     },
     "execution_count": 24,
     "metadata": {},
     "output_type": "execute_result"
    }
   ],
   "source": [
    "db.execute(text(\"\"\"\n",
    "call getAvgByJob(\"retired\");\n",
    "\"\"\")).fetchone()"
   ]
  },
  {
   "cell_type": "code",
   "execution_count": 25,
   "id": "43e9e21a",
   "metadata": {},
   "outputs": [
    {
     "data": {
      "text/plain": [
       "(Decimal('1772.3576'),)"
      ]
     },
     "execution_count": 25,
     "metadata": {},
     "output_type": "execute_result"
    }
   ],
   "source": [
    "db.execute(text(\"\"\"\n",
    "call getAvgByJob(\"unknown\");\n",
    "\"\"\")).fetchone()"
   ]
  },
  {
   "cell_type": "code",
   "execution_count": 28,
   "id": "7e8a2489",
   "metadata": {},
   "outputs": [
    {
     "data": {
      "text/plain": [
       "<sqlalchemy.engine.cursor.CursorResult at 0x1c305a52680>"
      ]
     },
     "execution_count": 28,
     "metadata": {},
     "output_type": "execute_result"
    }
   ],
   "source": [
    "db.execute(text(\"\"\"\n",
    "CREATE PROCEDURE getRecordsbyEducationAndJob(IN param1 varchar(32), IN param2 varchar(32))\n",
    "BEGIN\n",
    "  SELECT * FROM bank_details WHERE education = param1 and job = param2;\n",
    "END\n",
    "\"\"\"))"
   ]
  },
  {
   "cell_type": "code",
   "execution_count": 29,
   "id": "046b0155",
   "metadata": {},
   "outputs": [
    {
     "data": {
      "text/plain": [
       "[(29, 'unknown', 'single', 'primary', 'no', 50, 'yes', 'no', 'unknown', 7, 'may', 50, 2, -1, 0, 'unknown', 'no'),\n",
       " (41, 'unknown', 'single', 'primary', 'no', 2398, 'yes', 'no', 'unknown', 8, 'may', 287, 2, -1, 0, 'unknown', 'no'),\n",
       " (49, 'unknown', 'married', 'primary', 'no', 341, 'yes', 'yes', 'unknown', 15, 'may', 520, 2, -1, 0, 'unknown', 'yes'),\n",
       " (35, 'unknown', 'divorced', 'primary', 'no', 3888, 'no', 'no', 'unknown', 26, 'may', 422, 5, -1, 0, 'unknown', 'no'),\n",
       " (41, 'unknown', 'married', 'primary', 'no', 526, 'no', 'no', 'unknown', 26, 'may', 151, 3, -1, 0, 'unknown', 'no'),\n",
       " (30, 'unknown', 'single', 'primary', 'no', 13052, 'no', 'no', 'unknown', 4, 'jun', 140, 1, -1, 0, 'unknown', 'no'),\n",
       " (43, 'unknown', 'single', 'primary', 'no', 433, 'no', 'no', 'unknown', 4, 'jun', 45, 1, -1, 0, 'unknown', 'no'),\n",
       " (52, 'unknown', 'married', 'primary', 'no', 8251, 'no', 'no', 'unknown', 5, 'jun', 397, 1, -1, 0, 'unknown', 'no'),\n",
       " (59, 'unknown', 'married', 'primary', 'no', 1470, 'no', 'no', 'unknown', 5, 'jun', 74, 1, -1, 0, 'unknown', 'no'),\n",
       " (37, 'unknown', 'married', 'primary', 'no', 808, 'no', 'no', 'unknown', 5, 'jun', 228, 2, -1, 0, 'unknown', 'no'),\n",
       " (38, 'unknown', 'married', 'primary', 'no', 0, 'no', 'no', 'unknown', 6, 'jun', 414, 2, -1, 0, 'unknown', 'no'),\n",
       " (50, 'unknown', 'married', 'primary', 'no', 1502, 'no', 'no', 'unknown', 6, 'jun', 34, 2, -1, 0, 'unknown', 'no'),\n",
       " (52, 'unknown', 'married', 'primary', 'no', 547, 'no', 'no', 'unknown', 6, 'jun', 33, 2, -1, 0, 'unknown', 'no'),\n",
       " (56, 'unknown', 'divorced', 'primary', 'no', 558, 'no', 'no', 'unknown', 11, 'jun', 119, 1, -1, 0, 'unknown', 'no'),\n",
       " (45, 'unknown', 'married', 'primary', 'no', 44, 'no', 'no', 'unknown', 11, 'jun', 81, 1, -1, 0, 'unknown', 'no'),\n",
       " (46, 'unknown', 'married', 'primary', 'no', 285, 'no', 'no', 'unknown', 11, 'jun', 215, 2, -1, 0, 'unknown', 'no'),\n",
       " (49, 'unknown', 'married', 'primary', 'no', 142, 'no', 'no', 'unknown', 12, 'jun', 90, 3, -1, 0, 'unknown', 'no'),\n",
       " (46, 'unknown', 'single', 'primary', 'no', 10, 'no', 'no', 'unknown', 18, 'jun', 64, 6, -1, 0, 'unknown', 'no'),\n",
       " (46, 'unknown', 'married', 'primary', 'no', 110, 'no', 'no', 'unknown', 19, 'jun', 113, 14, -1, 0, 'unknown', 'no'),\n",
       " (39, 'unknown', 'married', 'primary', 'no', 2860, 'no', 'no', 'unknown', 19, 'jun', 133, 1, -1, 0, 'unknown', 'no'),\n",
       " (60, 'unknown', 'married', 'primary', 'no', 4722, 'no', 'no', 'unknown', 20, 'jun', 459, 3, -1, 0, 'unknown', 'no'),\n",
       " (55, 'unknown', 'married', 'primary', 'no', 2074, 'no', 'no', 'unknown', 20, 'jun', 19, 4, -1, 0, 'unknown', 'no'),\n",
       " (35, 'unknown', 'married', 'primary', 'no', 634, 'no', 'no', 'cellular', 7, 'jul', 185, 2, -1, 0, 'unknown', 'no'),\n",
       " (47, 'unknown', 'divorced', 'primary', 'no', 0, 'no', 'no', 'cellular', 7, 'jul', 240, 1, -1, 0, 'unknown', 'no'),\n",
       " (59, 'unknown', 'married', 'primary', 'no', 1247, 'no', 'no', 'telephone', 7, 'jul', 66, 8, -1, 0, 'unknown', 'no'),\n",
       " (43, 'unknown', 'married', 'primary', 'no', 0, 'yes', 'no', 'cellular', 9, 'jul', 132, 1, -1, 0, 'unknown', 'no'),\n",
       " (36, 'unknown', 'single', 'primary', 'no', 3415, 'no', 'no', 'telephone', 10, 'jul', 150, 10, -1, 0, 'unknown', 'no'),\n",
       " (45, 'unknown', 'married', 'primary', 'no', 586, 'yes', 'no', 'telephone', 21, 'jul', 90, 3, -1, 0, 'unknown', 'no'),\n",
       " (43, 'unknown', 'married', 'primary', 'no', 2113, 'no', 'no', 'cellular', 29, 'jul', 33, 2, -1, 0, 'unknown', 'no'),\n",
       " (52, 'unknown', 'married', 'primary', 'no', 247, 'no', 'no', 'cellular', 29, 'jul', 268, 6, -1, 0, 'unknown', 'no'),\n",
       " (39, 'unknown', 'married', 'primary', 'no', 6999, 'no', 'no', 'cellular', 6, 'aug', 111, 2, -1, 0, 'unknown', 'no'),\n",
       " (57, 'unknown', 'married', 'primary', 'no', 900, 'no', 'no', 'cellular', 8, 'aug', 169, 4, -1, 0, 'unknown', 'no'),\n",
       " (58, 'unknown', 'married', 'primary', 'no', 15, 'no', 'no', 'cellular', 11, 'aug', 57, 2, -1, 0, 'unknown', 'no'),\n",
       " (52, 'unknown', 'married', 'primary', 'no', 5521, 'no', 'no', 'cellular', 11, 'aug', 126, 4, -1, 0, 'unknown', 'no'),\n",
       " (57, 'unknown', 'married', 'primary', 'no', 270, 'no', 'no', 'cellular', 14, 'aug', 526, 2, -1, 0, 'unknown', 'no'),\n",
       " (36, 'unknown', 'married', 'primary', 'no', 0, 'no', 'no', 'cellular', 21, 'aug', 238, 2, -1, 0, 'unknown', 'no'),\n",
       " (35, 'unknown', 'married', 'primary', 'no', 4144, 'no', 'no', 'cellular', 21, 'aug', 310, 3, -1, 0, 'unknown', 'no'),\n",
       " (54, 'unknown', 'married', 'primary', 'no', 981, 'no', 'no', 'cellular', 22, 'aug', 651, 12, -1, 0, 'unknown', 'no'),\n",
       " (35, 'unknown', 'married', 'primary', 'no', 365, 'no', 'no', 'cellular', 29, 'aug', 41, 2, -1, 0, 'unknown', 'no'),\n",
       " (35, 'unknown', 'divorced', 'primary', 'no', 3888, 'no', 'no', 'cellular', 20, 'nov', 207, 5, 178, 5, 'failure', 'no'),\n",
       " (42, 'unknown', 'single', 'primary', 'no', 2398, 'yes', 'no', 'cellular', 3, 'feb', 144, 2, 271, 2, 'failure', 'no'),\n",
       " (59, 'unknown', 'married', 'primary', 'no', 282, 'no', 'no', 'cellular', 3, 'feb', 301, 2, -1, 0, 'unknown', 'no'),\n",
       " (43, 'unknown', 'married', 'primary', 'no', 644, 'no', 'no', 'telephone', 5, 'feb', 195, 2, -1, 0, 'unknown', 'no'),\n",
       " (50, 'unknown', 'married', 'primary', 'no', 341, 'yes', 'yes', 'cellular', 20, 'apr', 670, 4, 340, 2, 'success', 'yes'),\n",
       " (46, 'unknown', 'married', 'primary', 'no', 0, 'no', 'no', 'telephone', 25, 'may', 87, 2, -1, 0, 'unknown', 'no'),\n",
       " (58, 'unknown', 'married', 'primary', 'no', 7369, 'no', 'no', 'telephone', 4, 'jun', 247, 2, -1, 0, 'unknown', 'no'),\n",
       " (61, 'unknown', 'single', 'primary', 'no', 50, 'no', 'no', 'telephone', 21, 'jul', 465, 6, -1, 0, 'unknown', 'no'),\n",
       " (57, 'unknown', 'married', 'primary', 'no', 8, 'no', 'no', 'telephone', 19, 'oct', 270, 2, -1, 0, 'unknown', 'no'),\n",
       " (53, 'unknown', 'married', 'primary', 'no', 732, 'no', 'no', 'cellular', 27, 'oct', 759, 2, -1, 0, 'unknown', 'yes'),\n",
       " (57, 'unknown', 'married', 'primary', 'no', 1884, 'no', 'no', 'telephone', 28, 'jun', 133, 4, -1, 0, 'unknown', 'no'),\n",
       " (55, 'unknown', 'married', 'primary', 'no', 159, 'no', 'no', 'unknown', 4, 'sep', 15, 1, -1, 0, 'unknown', 'no')]"
      ]
     },
     "execution_count": 29,
     "metadata": {},
     "output_type": "execute_result"
    }
   ],
   "source": [
    "db.execute(text(\"\"\"\n",
    "call getRecordsbyEducationAndJob(\"primary\", \"unknown\");\n",
    "\"\"\")).fetchall()"
   ]
  },
  {
   "cell_type": "code",
   "execution_count": 30,
   "id": "c47cfbee",
   "metadata": {},
   "outputs": [
    {
     "data": {
      "text/plain": [
       "RMKeyView(['age', 'job', 'marital', 'education', 'default', 'balance', 'housing', 'loan', 'contact', 'day', 'month', 'duration', 'campaign', 'pdays', 'previous', 'poutcome', 'y'])"
      ]
     },
     "execution_count": 30,
     "metadata": {},
     "output_type": "execute_result"
    }
   ],
   "source": [
    "db.execute(text(\"\"\"\n",
    "call head(5)\n",
    "\"\"\")).keys()"
   ]
  },
  {
   "cell_type": "code",
   "execution_count": 31,
   "id": "e22f2b27",
   "metadata": {},
   "outputs": [
    {
     "data": {
      "text/plain": [
       "<sqlalchemy.engine.cursor.CursorResult at 0x1c305b7c1c0>"
      ]
     },
     "execution_count": 31,
     "metadata": {},
     "output_type": "execute_result"
    }
   ],
   "source": [
    "db.execute(text(\"\"\"\n",
    "create procedure getRecordsByLoan(IN param varchar(32))\n",
    "begin\n",
    "  select * from bank_details where loan = param;\n",
    "end\n",
    "\"\"\"))"
   ]
  },
  {
   "cell_type": "code",
   "execution_count": 39,
   "id": "544140d1",
   "metadata": {},
   "outputs": [
    {
     "data": {
      "text/plain": [
       "[(37967,)]"
      ]
     },
     "execution_count": 39,
     "metadata": {},
     "output_type": "execute_result"
    }
   ],
   "source": [
    "db.execute(text(\"\"\"\n",
    "select count(*) from bank_details where loan = \"no\"\n",
    "\"\"\")).fetchall()"
   ]
  },
  {
   "cell_type": "code",
   "execution_count": 45,
   "id": "5d795f85",
   "metadata": {},
   "outputs": [
    {
     "data": {
      "text/plain": [
       "<sqlalchemy.engine.cursor.CursorResult at 0x1c305b7cac0>"
      ]
     },
     "execution_count": 45,
     "metadata": {},
     "output_type": "execute_result"
    }
   ],
   "source": [
    "db.execute(text(\"\"\"\n",
    "create view bank_view as select age, job, marital, balance, education from bank_details;\n",
    "\"\"\"))"
   ]
  },
  {
   "cell_type": "code",
   "execution_count": 48,
   "id": "78ea9fdc",
   "metadata": {},
   "outputs": [
    {
     "data": {
      "text/plain": [
       "[(58, 'management', 'married', 2143, 'tertiary'),\n",
       " (44, 'technician', 'single', 29, 'secondary'),\n",
       " (33, 'entrepreneur', 'married', 2, 'secondary'),\n",
       " (47, 'blue-collar', 'married', 1506, 'unknown'),\n",
       " (33, 'unknown', 'single', 1, 'unknown'),\n",
       " (35, 'management', 'married', 231, 'tertiary'),\n",
       " (28, 'management', 'single', 447, 'tertiary'),\n",
       " (42, 'entrepreneur', 'divorced', 2, 'tertiary'),\n",
       " (58, 'retired', 'married', 121, 'primary'),\n",
       " (43, 'technician', 'single', 593, 'secondary')]"
      ]
     },
     "execution_count": 48,
     "metadata": {},
     "output_type": "execute_result"
    }
   ],
   "source": [
    "db.execute(text(\"\"\"\n",
    "select * from bank_view limit 10;\n",
    "\"\"\")).fetchall()"
   ]
  },
  {
   "cell_type": "code",
   "execution_count": 57,
   "id": "031c289a",
   "metadata": {},
   "outputs": [
    {
     "name": "stdout",
     "output_type": "stream",
     "text": [
      "CPU times: total: 31.2 ms\n",
      "Wall time: 28.1 ms\n"
     ]
    },
    {
     "data": {
      "text/plain": [
       "(Decimal('1135.8389'),)"
      ]
     },
     "execution_count": 57,
     "metadata": {},
     "output_type": "execute_result"
    }
   ],
   "source": [
    "%%time\n",
    "db.execute(text(\"\"\"\n",
    "select avg(balance) from bank_details where job = 'admin.';\n",
    "\"\"\")).fetchone()"
   ]
  },
  {
   "cell_type": "code",
   "execution_count": 61,
   "id": "e502d9b9",
   "metadata": {},
   "outputs": [
    {
     "name": "stdout",
     "output_type": "stream",
     "text": [
      "CPU times: total: 0 ns\n",
      "Wall time: 28.6 ms\n"
     ]
    },
    {
     "data": {
      "text/plain": [
       "(Decimal('1135.8389'),)"
      ]
     },
     "execution_count": 61,
     "metadata": {},
     "output_type": "execute_result"
    }
   ],
   "source": [
    "%%time\n",
    "db.execute(text(\"\"\"\n",
    "select avg(balance) from bank_view where job = 'admin.';\n",
    "\"\"\")).fetchone()"
   ]
  },
  {
   "cell_type": "code",
   "execution_count": null,
   "id": "dbf5343a",
   "metadata": {},
   "outputs": [],
   "source": []
  }
 ],
 "metadata": {
  "kernelspec": {
   "display_name": "Python 3 (ipykernel)",
   "language": "python",
   "name": "python3"
  },
  "language_info": {
   "codemirror_mode": {
    "name": "ipython",
    "version": 3
   },
   "file_extension": ".py",
   "mimetype": "text/x-python",
   "name": "python",
   "nbconvert_exporter": "python",
   "pygments_lexer": "ipython3",
   "version": "3.10.13"
  }
 },
 "nbformat": 4,
 "nbformat_minor": 5
}
