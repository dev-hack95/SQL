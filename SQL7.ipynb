{
 "cells": [
  {
   "cell_type": "code",
   "execution_count": 1,
   "id": "37d3e048",
   "metadata": {},
   "outputs": [],
   "source": [
    "import warnings\n",
    "import numpy as np\n",
    "import pandas as pd\n",
    "import matplotlib.pyplot as plt\n",
    "from sqlalchemy import text\n",
    "from sqlalchemy.orm import sessionmaker\n",
    "from sqlalchemy.engine import create_engine\n",
    "\n",
    "# Config\n",
    "\n",
    "warnings.filterwarnings(\"ignore\")\n",
    "pd.set_option(\"display.max_columns\", None)"
   ]
  },
  {
   "cell_type": "code",
   "execution_count": 2,
   "id": "3d0ad7c9",
   "metadata": {},
   "outputs": [],
   "source": [
    "class DataBaseSession:\n",
    "    def __init__(self) -> None:\n",
    "        self.db_user = 'root'\n",
    "        self.db_password = 'rushi12345'\n",
    "        self.db_host = '192.168.29.7'\n",
    "        self.db_name = 'data_prac_db'\n",
    "    \n",
    "    def LocalSession(self):\n",
    "        engine = create_engine(f\"mysql+pymysql://{self.db_user}:{self.db_password}@{self.db_host}/{self.db_name}\")\n",
    "        SessionLocal = sessionmaker(autoflush=True, bind=engine)\n",
    "        return SessionLocal()"
   ]
  },
  {
   "cell_type": "code",
   "execution_count": 3,
   "id": "ae0e7257",
   "metadata": {},
   "outputs": [],
   "source": [
    "session = DataBaseSession()\n",
    "db = session.LocalSession()"
   ]
  },
  {
   "cell_type": "code",
   "execution_count": 4,
   "id": "5a63f9f5",
   "metadata": {},
   "outputs": [],
   "source": [
    "class SQL7:\n",
    "    def __init__(self) -> None:\n",
    "        pass\n",
    "    \n",
    "    def query(self, query: str) -> pd.DataFrame:\n",
    "        return pd.DataFrame(db.execute(text(query)).fetchall())"
   ]
  },
  {
   "cell_type": "code",
   "execution_count": 5,
   "id": "cc201cd6",
   "metadata": {},
   "outputs": [],
   "source": [
    "data = SQL7()"
   ]
  },
  {
   "cell_type": "code",
   "execution_count": 8,
   "id": "eec50762",
   "metadata": {},
   "outputs": [
    {
     "data": {
      "text/html": [
       "<div>\n",
       "<style scoped>\n",
       "    .dataframe tbody tr th:only-of-type {\n",
       "        vertical-align: middle;\n",
       "    }\n",
       "\n",
       "    .dataframe tbody tr th {\n",
       "        vertical-align: top;\n",
       "    }\n",
       "\n",
       "    .dataframe thead th {\n",
       "        text-align: right;\n",
       "    }\n",
       "</style>\n",
       "<table border=\"1\" class=\"dataframe\">\n",
       "  <thead>\n",
       "    <tr style=\"text-align: right;\">\n",
       "      <th></th>\n",
       "      <th>Tables_in_data_prac_db</th>\n",
       "    </tr>\n",
       "  </thead>\n",
       "  <tbody>\n",
       "    <tr>\n",
       "      <th>0</th>\n",
       "      <td>bank_details</td>\n",
       "    </tr>\n",
       "    <tr>\n",
       "      <th>1</th>\n",
       "      <td>bank_view</td>\n",
       "    </tr>\n",
       "    <tr>\n",
       "      <th>2</th>\n",
       "      <td>dress_data</td>\n",
       "    </tr>\n",
       "    <tr>\n",
       "      <th>3</th>\n",
       "      <td>supply_chain</td>\n",
       "    </tr>\n",
       "  </tbody>\n",
       "</table>\n",
       "</div>"
      ],
      "text/plain": [
       "  Tables_in_data_prac_db\n",
       "0           bank_details\n",
       "1              bank_view\n",
       "2             dress_data\n",
       "3           supply_chain"
      ]
     },
     "execution_count": 8,
     "metadata": {},
     "output_type": "execute_result"
    }
   ],
   "source": [
    "data.query(\"\"\"\n",
    "show tables;\n",
    "\"\"\")"
   ]
  },
  {
   "cell_type": "code",
   "execution_count": null,
   "id": "9c2827ca",
   "metadata": {},
   "outputs": [],
   "source": []
  }
 ],
 "metadata": {
  "kernelspec": {
   "display_name": "Python 3 (ipykernel)",
   "language": "python",
   "name": "python3"
  },
  "language_info": {
   "codemirror_mode": {
    "name": "ipython",
    "version": 3
   },
   "file_extension": ".py",
   "mimetype": "text/x-python",
   "name": "python",
   "nbconvert_exporter": "python",
   "pygments_lexer": "ipython3",
   "version": "3.10.13"
  }
 },
 "nbformat": 4,
 "nbformat_minor": 5
}
