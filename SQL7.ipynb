{
 "cells": [
  {
   "cell_type": "code",
   "execution_count": 1,
   "id": "37d3e048",
   "metadata": {},
   "outputs": [],
   "source": [
    "import warnings\n",
    "import numpy as np\n",
    "import pandas as pd\n",
    "import matplotlib.pyplot as plt\n",
    "from sqlalchemy import text\n",
    "from sqlalchemy.orm import sessionmaker\n",
    "from sqlalchemy.engine import create_engine\n",
    "\n",
    "# Config\n",
    "warnings.filterwarnings(\"ignore\")\n",
    "pd.set_option(\"display.max_columns\", None)"
   ]
  },
  {
   "cell_type": "code",
   "execution_count": 2,
   "id": "3d0ad7c9",
   "metadata": {},
   "outputs": [],
   "source": [
    "class DataBaseSession:\n",
    "    def __init__(self) -> None:\n",
    "        self.db_user = 'root'\n",
    "        self.db_password = 'rushi12345'\n",
    "        self.db_host = '192.168.29.7'\n",
    "        self.db_name = 'key_prim'\n",
    "    \n",
    "    def LocalSession(self):\n",
    "        engine = create_engine(f\"mysql+pymysql://{self.db_user}:{self.db_password}@{self.db_host}/{self.db_name}\")\n",
    "        SessionLocal = sessionmaker(autoflush=True, bind=engine)\n",
    "        return SessionLocal()"
   ]
  },
  {
   "cell_type": "code",
   "execution_count": 3,
   "id": "ae0e7257",
   "metadata": {},
   "outputs": [],
   "source": [
    "session = DataBaseSession()\n",
    "db = session.LocalSession()"
   ]
  },
  {
   "cell_type": "code",
   "execution_count": 4,
   "id": "5a63f9f5",
   "metadata": {},
   "outputs": [],
   "source": [
    "class SQL7:\n",
    "    def __init__(self) -> None:\n",
    "        pass\n",
    "    \n",
    "    def query(self, query: str) -> pd.DataFrame:\n",
    "        return pd.DataFrame(db.execute(text(query)).fetchall())"
   ]
  },
  {
   "cell_type": "code",
   "execution_count": 5,
   "id": "cc201cd6",
   "metadata": {},
   "outputs": [],
   "source": [
    "data = SQL7()"
   ]
  },
  {
   "cell_type": "code",
   "execution_count": 8,
   "id": "eec50762",
   "metadata": {},
   "outputs": [
    {
     "data": {
      "text/html": [
       "<div>\n",
       "<style scoped>\n",
       "    .dataframe tbody tr th:only-of-type {\n",
       "        vertical-align: middle;\n",
       "    }\n",
       "\n",
       "    .dataframe tbody tr th {\n",
       "        vertical-align: top;\n",
       "    }\n",
       "\n",
       "    .dataframe thead th {\n",
       "        text-align: right;\n",
       "    }\n",
       "</style>\n",
       "<table border=\"1\" class=\"dataframe\">\n",
       "  <thead>\n",
       "    <tr style=\"text-align: right;\">\n",
       "      <th></th>\n",
       "      <th>Tables_in_key_prim</th>\n",
       "    </tr>\n",
       "  </thead>\n",
       "  <tbody>\n",
       "    <tr>\n",
       "      <th>0</th>\n",
       "      <td>class</td>\n",
       "    </tr>\n",
       "    <tr>\n",
       "      <th>1</th>\n",
       "      <td>payment</td>\n",
       "    </tr>\n",
       "    <tr>\n",
       "      <th>2</th>\n",
       "      <td>test1</td>\n",
       "    </tr>\n",
       "    <tr>\n",
       "      <th>3</th>\n",
       "      <td>test2</td>\n",
       "    </tr>\n",
       "  </tbody>\n",
       "</table>\n",
       "</div>"
      ],
      "text/plain": [
       "  Tables_in_key_prim\n",
       "0              class\n",
       "1            payment\n",
       "2              test1\n",
       "3              test2"
      ]
     },
     "execution_count": 8,
     "metadata": {},
     "output_type": "execute_result"
    }
   ],
   "source": [
    "data.query(\"\"\"\n",
    "show tables;\n",
    "\"\"\")"
   ]
  },
  {
   "cell_type": "code",
   "execution_count": 7,
   "id": "9c2827ca",
   "metadata": {},
   "outputs": [
    {
     "data": {
      "text/plain": [
       "<sqlalchemy.engine.cursor.CursorResult at 0x1750a2171c0>"
      ]
     },
     "execution_count": 7,
     "metadata": {},
     "output_type": "execute_result"
    }
   ],
   "source": [
    "db.execute(text(\"\"\"\n",
    "create table test1(\n",
    "course_id int unique NOT NULL,\n",
    "course_name varchar(30),\n",
    "course_status varchar(60),\n",
    "number_of_enro int,\n",
    "primary key(course_id));\n",
    "\"\"\"))"
   ]
  },
  {
   "cell_type": "code",
   "execution_count": 7,
   "id": "2b9848bc",
   "metadata": {},
   "outputs": [
    {
     "data": {
      "text/html": [
       "<div>\n",
       "<style scoped>\n",
       "    .dataframe tbody tr th:only-of-type {\n",
       "        vertical-align: middle;\n",
       "    }\n",
       "\n",
       "    .dataframe tbody tr th {\n",
       "        vertical-align: top;\n",
       "    }\n",
       "\n",
       "    .dataframe thead th {\n",
       "        text-align: right;\n",
       "    }\n",
       "</style>\n",
       "<table border=\"1\" class=\"dataframe\">\n",
       "  <thead>\n",
       "    <tr style=\"text-align: right;\">\n",
       "      <th></th>\n",
       "      <th>Tables_in_key_prim</th>\n",
       "    </tr>\n",
       "  </thead>\n",
       "  <tbody>\n",
       "    <tr>\n",
       "      <th>0</th>\n",
       "      <td>class</td>\n",
       "    </tr>\n",
       "    <tr>\n",
       "      <th>1</th>\n",
       "      <td>payment</td>\n",
       "    </tr>\n",
       "    <tr>\n",
       "      <th>2</th>\n",
       "      <td>test1</td>\n",
       "    </tr>\n",
       "    <tr>\n",
       "      <th>3</th>\n",
       "      <td>test2</td>\n",
       "    </tr>\n",
       "  </tbody>\n",
       "</table>\n",
       "</div>"
      ],
      "text/plain": [
       "  Tables_in_key_prim\n",
       "0              class\n",
       "1            payment\n",
       "2              test1\n",
       "3              test2"
      ]
     },
     "execution_count": 7,
     "metadata": {},
     "output_type": "execute_result"
    }
   ],
   "source": [
    "data.query(\"\"\"\n",
    "show tables;\n",
    "\"\"\")"
   ]
  },
  {
   "cell_type": "code",
   "execution_count": 8,
   "id": "756c9cd2",
   "metadata": {},
   "outputs": [
    {
     "data": {
      "text/html": [
       "<div>\n",
       "<style scoped>\n",
       "    .dataframe tbody tr th:only-of-type {\n",
       "        vertical-align: middle;\n",
       "    }\n",
       "\n",
       "    .dataframe tbody tr th {\n",
       "        vertical-align: top;\n",
       "    }\n",
       "\n",
       "    .dataframe thead th {\n",
       "        text-align: right;\n",
       "    }\n",
       "</style>\n",
       "<table border=\"1\" class=\"dataframe\">\n",
       "  <thead>\n",
       "    <tr style=\"text-align: right;\">\n",
       "      <th></th>\n",
       "      <th>course_id</th>\n",
       "      <th>course_name</th>\n",
       "      <th>course_status</th>\n",
       "      <th>number_of_enro</th>\n",
       "    </tr>\n",
       "  </thead>\n",
       "  <tbody>\n",
       "    <tr>\n",
       "      <th>0</th>\n",
       "      <td>1</td>\n",
       "      <td>FSDS2.0</td>\n",
       "      <td>active</td>\n",
       "      <td>100</td>\n",
       "    </tr>\n",
       "    <tr>\n",
       "      <th>1</th>\n",
       "      <td>2</td>\n",
       "      <td>FSDS1.0</td>\n",
       "      <td>non-active</td>\n",
       "      <td>100</td>\n",
       "    </tr>\n",
       "    <tr>\n",
       "      <th>2</th>\n",
       "      <td>3</td>\n",
       "      <td>FSDA2.0</td>\n",
       "      <td>active</td>\n",
       "      <td>100</td>\n",
       "    </tr>\n",
       "  </tbody>\n",
       "</table>\n",
       "</div>"
      ],
      "text/plain": [
       "   course_id course_name course_status  number_of_enro\n",
       "0          1     FSDS2.0        active             100\n",
       "1          2     FSDS1.0    non-active             100\n",
       "2          3     FSDA2.0        active             100"
      ]
     },
     "execution_count": 8,
     "metadata": {},
     "output_type": "execute_result"
    }
   ],
   "source": [
    "data.query(\"\"\"\n",
    "select * from test1;\n",
    "\"\"\")"
   ]
  },
  {
   "cell_type": "markdown",
   "id": "c3f101e5",
   "metadata": {},
   "source": [
    "### Primary Key\n",
    "\n",
    "* Condition: 1) It is not supposed to null 2) Key should not be duplicate\n",
    "\n",
    "* Foreign key check primary key from another table if primary key is not present then it will return a error\n",
    "\n",
    "* You can't create more than one primary key in one table"
   ]
  },
  {
   "cell_type": "code",
   "execution_count": 11,
   "id": "cca6b110",
   "metadata": {},
   "outputs": [
    {
     "data": {
      "text/plain": [
       "<sqlalchemy.engine.cursor.CursorResult at 0x1750a1bf460>"
      ]
     },
     "execution_count": 11,
     "metadata": {},
     "output_type": "execute_result"
    }
   ],
   "source": [
    "db.execute(text(\"\"\"\n",
    "INSERT INTO test1 VALUES(03, 'FSDA2.0', 'active', 100);\n",
    "\"\"\"))"
   ]
  },
  {
   "cell_type": "code",
   "execution_count": 9,
   "id": "d823a78d",
   "metadata": {},
   "outputs": [
    {
     "data": {
      "text/html": [
       "<div>\n",
       "<style scoped>\n",
       "    .dataframe tbody tr th:only-of-type {\n",
       "        vertical-align: middle;\n",
       "    }\n",
       "\n",
       "    .dataframe tbody tr th {\n",
       "        vertical-align: top;\n",
       "    }\n",
       "\n",
       "    .dataframe thead th {\n",
       "        text-align: right;\n",
       "    }\n",
       "</style>\n",
       "<table border=\"1\" class=\"dataframe\">\n",
       "  <thead>\n",
       "    <tr style=\"text-align: right;\">\n",
       "      <th></th>\n",
       "      <th>course_id</th>\n",
       "      <th>course_name</th>\n",
       "      <th>course_status</th>\n",
       "      <th>number_of_enro</th>\n",
       "    </tr>\n",
       "  </thead>\n",
       "  <tbody>\n",
       "    <tr>\n",
       "      <th>0</th>\n",
       "      <td>1</td>\n",
       "      <td>FSDS2.0</td>\n",
       "      <td>active</td>\n",
       "      <td>100</td>\n",
       "    </tr>\n",
       "    <tr>\n",
       "      <th>1</th>\n",
       "      <td>2</td>\n",
       "      <td>FSDS1.0</td>\n",
       "      <td>non-active</td>\n",
       "      <td>100</td>\n",
       "    </tr>\n",
       "    <tr>\n",
       "      <th>2</th>\n",
       "      <td>3</td>\n",
       "      <td>FSDA2.0</td>\n",
       "      <td>active</td>\n",
       "      <td>100</td>\n",
       "    </tr>\n",
       "  </tbody>\n",
       "</table>\n",
       "</div>"
      ],
      "text/plain": [
       "   course_id course_name course_status  number_of_enro\n",
       "0          1     FSDS2.0        active             100\n",
       "1          2     FSDS1.0    non-active             100\n",
       "2          3     FSDA2.0        active             100"
      ]
     },
     "execution_count": 9,
     "metadata": {},
     "output_type": "execute_result"
    }
   ],
   "source": [
    "data.query(\"\"\"\n",
    "select * from test1;\n",
    "\"\"\")"
   ]
  },
  {
   "cell_type": "code",
   "execution_count": 13,
   "id": "f8e5369c",
   "metadata": {},
   "outputs": [
    {
     "data": {
      "text/plain": [
       "<sqlalchemy.engine.cursor.CursorResult at 0x1750a42a680>"
      ]
     },
     "execution_count": 13,
     "metadata": {},
     "output_type": "execute_result"
    }
   ],
   "source": [
    "db.execute(text(\"\"\"\n",
    "create table test2(\n",
    "student_id int unique NOT NULL,\n",
    "course_name varchar(60),\n",
    "student_mail varchar(60),\n",
    "student_status varchar(60),\n",
    "course_id1 int,\n",
    "foreign key(course_id1) references test1(course_id)\n",
    ");\n",
    "\"\"\"))"
   ]
  },
  {
   "cell_type": "code",
   "execution_count": 16,
   "id": "838dacfa",
   "metadata": {},
   "outputs": [
    {
     "data": {
      "text/plain": [
       "<sqlalchemy.engine.cursor.CursorResult at 0x1750a42a860>"
      ]
     },
     "execution_count": 16,
     "metadata": {},
     "output_type": "execute_result"
    }
   ],
   "source": [
    "db.execute(text(\"\"\"\n",
    "insert into test2 values(102, 'FSDS2.0', 'test2@gmail.com', 'active', 01)\n",
    "\"\"\"))"
   ]
  },
  {
   "cell_type": "code",
   "execution_count": 10,
   "id": "418fec32",
   "metadata": {},
   "outputs": [
    {
     "data": {
      "text/html": [
       "<div>\n",
       "<style scoped>\n",
       "    .dataframe tbody tr th:only-of-type {\n",
       "        vertical-align: middle;\n",
       "    }\n",
       "\n",
       "    .dataframe tbody tr th {\n",
       "        vertical-align: top;\n",
       "    }\n",
       "\n",
       "    .dataframe thead th {\n",
       "        text-align: right;\n",
       "    }\n",
       "</style>\n",
       "<table border=\"1\" class=\"dataframe\">\n",
       "  <thead>\n",
       "    <tr style=\"text-align: right;\">\n",
       "      <th></th>\n",
       "      <th>student_id</th>\n",
       "      <th>course_name</th>\n",
       "      <th>student_mail</th>\n",
       "      <th>student_status</th>\n",
       "      <th>course_id1</th>\n",
       "    </tr>\n",
       "  </thead>\n",
       "  <tbody>\n",
       "    <tr>\n",
       "      <th>0</th>\n",
       "      <td>101</td>\n",
       "      <td>FSDS2.0</td>\n",
       "      <td>test1@gmail.com</td>\n",
       "      <td>active</td>\n",
       "      <td>1</td>\n",
       "    </tr>\n",
       "    <tr>\n",
       "      <th>1</th>\n",
       "      <td>102</td>\n",
       "      <td>FSDS2.0</td>\n",
       "      <td>test2@gmail.com</td>\n",
       "      <td>active</td>\n",
       "      <td>1</td>\n",
       "    </tr>\n",
       "  </tbody>\n",
       "</table>\n",
       "</div>"
      ],
      "text/plain": [
       "   student_id course_name     student_mail student_status  course_id1\n",
       "0         101     FSDS2.0  test1@gmail.com         active           1\n",
       "1         102     FSDS2.0  test2@gmail.com         active           1"
      ]
     },
     "execution_count": 10,
     "metadata": {},
     "output_type": "execute_result"
    }
   ],
   "source": [
    "data.query(\"\"\"\n",
    "select * from test2;\n",
    "\"\"\")"
   ]
  },
  {
   "cell_type": "code",
   "execution_count": 18,
   "id": "2ab232fa",
   "metadata": {},
   "outputs": [
    {
     "data": {
      "text/plain": [
       "<sqlalchemy.engine.cursor.CursorResult at 0x1750a42a9e0>"
      ]
     },
     "execution_count": 18,
     "metadata": {},
     "output_type": "execute_result"
    }
   ],
   "source": [
    "db.execute(text(\"\"\"\n",
    "commit;\n",
    "\"\"\"))"
   ]
  },
  {
   "cell_type": "code",
   "execution_count": 19,
   "id": "1cedd363",
   "metadata": {},
   "outputs": [
    {
     "data": {
      "text/html": [
       "<div>\n",
       "<style scoped>\n",
       "    .dataframe tbody tr th:only-of-type {\n",
       "        vertical-align: middle;\n",
       "    }\n",
       "\n",
       "    .dataframe tbody tr th {\n",
       "        vertical-align: top;\n",
       "    }\n",
       "\n",
       "    .dataframe thead th {\n",
       "        text-align: right;\n",
       "    }\n",
       "</style>\n",
       "<table border=\"1\" class=\"dataframe\">\n",
       "  <thead>\n",
       "    <tr style=\"text-align: right;\">\n",
       "      <th></th>\n",
       "      <th>student_id</th>\n",
       "      <th>course_name</th>\n",
       "      <th>student_mail</th>\n",
       "      <th>student_status</th>\n",
       "      <th>course_id1</th>\n",
       "    </tr>\n",
       "  </thead>\n",
       "  <tbody>\n",
       "    <tr>\n",
       "      <th>0</th>\n",
       "      <td>101</td>\n",
       "      <td>FSDS2.0</td>\n",
       "      <td>test1@gmail.com</td>\n",
       "      <td>active</td>\n",
       "      <td>1</td>\n",
       "    </tr>\n",
       "    <tr>\n",
       "      <th>1</th>\n",
       "      <td>102</td>\n",
       "      <td>FSDS2.0</td>\n",
       "      <td>test2@gmail.com</td>\n",
       "      <td>active</td>\n",
       "      <td>1</td>\n",
       "    </tr>\n",
       "  </tbody>\n",
       "</table>\n",
       "</div>"
      ],
      "text/plain": [
       "   student_id course_name     student_mail student_status  course_id1\n",
       "0         101     FSDS2.0  test1@gmail.com         active           1\n",
       "1         102     FSDS2.0  test2@gmail.com         active           1"
      ]
     },
     "execution_count": 19,
     "metadata": {},
     "output_type": "execute_result"
    }
   ],
   "source": [
    "data.query(\"select * from test2\")"
   ]
  },
  {
   "cell_type": "markdown",
   "id": "d62fb8bb",
   "metadata": {},
   "source": [
    "* RelationShip b/w test1 and test2 (one to many relationship)\n",
    "\n",
    "![data_modeling](./assets/data_modeling-1.png)"
   ]
  },
  {
   "cell_type": "raw",
   "id": "1f7de6f5",
   "metadata": {},
   "source": [
    "db.execute(text(\"\"\"\n",
    "update test2\n",
    "set course_id1 = 1 where student_id = 102;\n",
    "\"\"\"))"
   ]
  },
  {
   "cell_type": "raw",
   "id": "52ca3019",
   "metadata": {},
   "source": [
    "db.execute(text(\"\"\"\n",
    "commit;\n",
    "\"\"\"))"
   ]
  },
  {
   "cell_type": "code",
   "execution_count": 23,
   "id": "ac2c82f2",
   "metadata": {},
   "outputs": [
    {
     "data": {
      "text/plain": [
       "<sqlalchemy.engine.cursor.CursorResult at 0x1750e6c2860>"
      ]
     },
     "execution_count": 23,
     "metadata": {},
     "output_type": "execute_result"
    }
   ],
   "source": [
    "db.execute(text(\"\"\"\n",
    "CREATE TABLE payment (\n",
    "    course_id INT NOT NULL,\n",
    "    course_name VARCHAR(30),\n",
    "    course_live_status VARCHAR(60),\n",
    "    course_launch_date VARCHAR(60),\n",
    "    FOREIGN KEY (course_id) REFERENCES test1(course_id)\n",
    ");\n",
    "\"\"\"))"
   ]
  },
  {
   "cell_type": "code",
   "execution_count": 24,
   "id": "99f4eb37",
   "metadata": {},
   "outputs": [
    {
     "data": {
      "text/plain": [
       "<sqlalchemy.engine.cursor.CursorResult at 0x1750c027ee0>"
      ]
     },
     "execution_count": 24,
     "metadata": {},
     "output_type": "execute_result"
    }
   ],
   "source": [
    "db.execute(text(\"\"\"\n",
    "insert into payment values(01, \"FSDA2.0\", \"active\", \"07/08/2023\")\n",
    "\"\"\"))"
   ]
  },
  {
   "cell_type": "raw",
   "id": "4a22816f",
   "metadata": {},
   "source": [
    "db.execute(text(\"\"\"\n",
    "commit;\n",
    "\"\"\"))"
   ]
  },
  {
   "cell_type": "code",
   "execution_count": 8,
   "id": "6dcc1023",
   "metadata": {},
   "outputs": [
    {
     "data": {
      "text/plain": [
       "<sqlalchemy.engine.cursor.CursorResult at 0x13ce501c5e0>"
      ]
     },
     "execution_count": 8,
     "metadata": {},
     "output_type": "execute_result"
    }
   ],
   "source": [
    "db.execute(text(\"\"\"\n",
    "create table class(\n",
    "course_id int NOT NULL,\n",
    "class_name varchar(30),\n",
    "class_topic varchar(60),\n",
    "class_duration decimal(10, 2),\n",
    "primary key(course_id),\n",
    "foreign key(course_id) references test1(course_id)\n",
    ");\n",
    "\"\"\"))"
   ]
  },
  {
   "cell_type": "code",
   "execution_count": 9,
   "id": "e2f75048",
   "metadata": {},
   "outputs": [
    {
     "data": {
      "text/plain": [
       "<sqlalchemy.engine.cursor.CursorResult at 0x13ce53b8880>"
      ]
     },
     "execution_count": 9,
     "metadata": {},
     "output_type": "execute_result"
    }
   ],
   "source": [
    "db.execute(text(\"\"\"\n",
    "insert into class values(01, \"FSDA2.0\", \"SQL\", 180)\n",
    "\"\"\"))"
   ]
  },
  {
   "cell_type": "code",
   "execution_count": 10,
   "id": "5576159c",
   "metadata": {},
   "outputs": [
    {
     "data": {
      "text/plain": [
       "<sqlalchemy.engine.cursor.CursorResult at 0x13ce53ba500>"
      ]
     },
     "execution_count": 10,
     "metadata": {},
     "output_type": "execute_result"
    }
   ],
   "source": [
    "db.execute(text(\"\"\"\n",
    "commit;\n",
    "\"\"\"))"
   ]
  },
  {
   "cell_type": "raw",
   "id": "7c35f3df",
   "metadata": {},
   "source": [
    "db.execute(text(\"\"\"\n",
    "create table test(\n",
    "id int NOT NULL,\n",
    "name varchar(30),\n",
    "email_id varchar(60),\n",
    "mobile_no varchar(12),\n",
    "address varchar(50),\n",
    ")\n",
    "\"\"\"))"
   ]
  },
  {
   "cell_type": "markdown",
   "id": "dc026f8e",
   "metadata": {},
   "source": [
    "* Drop primary key\n",
    "```python\n",
    "db.execute(text(\"\"\"\n",
    "alter table test drop primary key\n",
    "\"\"\"))\n",
    "```"
   ]
  },
  {
   "cell_type": "markdown",
   "id": "ee53d793",
   "metadata": {},
   "source": [
    "* Primary key using combination of columns\n",
    "```python\n",
    "db.execute(text(\"\"\"\n",
    "alter table test add constraints test_prism promary key(id, email_id); \n",
    "\"\"\"))\n",
    "```"
   ]
  },
  {
   "cell_type": "markdown",
   "id": "87f61e69",
   "metadata": {},
   "source": [
    "## Data Modeling"
   ]
  },
  {
   "cell_type": "code",
   "execution_count": null,
   "id": "84f5be98",
   "metadata": {},
   "outputs": [],
   "source": []
  }
 ],
 "metadata": {
  "kernelspec": {
   "display_name": "Python 3 (ipykernel)",
   "language": "python",
   "name": "python3"
  },
  "language_info": {
   "codemirror_mode": {
    "name": "ipython",
    "version": 3
   },
   "file_extension": ".py",
   "mimetype": "text/x-python",
   "name": "python",
   "nbconvert_exporter": "python",
   "pygments_lexer": "ipython3",
   "version": "3.10.13"
  }
 },
 "nbformat": 4,
 "nbformat_minor": 5
}
